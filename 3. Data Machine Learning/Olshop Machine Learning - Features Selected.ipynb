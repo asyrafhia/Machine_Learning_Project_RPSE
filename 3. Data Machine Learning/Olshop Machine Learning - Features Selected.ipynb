{
 "cells": [
  {
   "cell_type": "code",
   "execution_count": 1,
   "metadata": {},
   "outputs": [],
   "source": [
    "import numpy as np\n",
    "import pandas as pd\n",
    "import seaborn as sns\n",
    "import matplotlib.pyplot as plt\n",
    "\n",
    "from sklearn.preprocessing import StandardScaler\n",
    "\n",
    "from sklearn.model_selection import RandomizedSearchCV, GridSearchCV\n",
    "from sklearn.model_selection import train_test_split\n",
    "from sklearn.model_selection import KFold\n",
    "\n",
    "from sklearn.linear_model import LogisticRegression\n",
    "from sklearn.tree import DecisionTreeClassifier\n",
    "from sklearn import tree\n",
    "from sklearn.ensemble import RandomForestClassifier\n",
    "from sklearn.ensemble import AdaBoostClassifier\n",
    "from sklearn.ensemble import GradientBoostingClassifier\n",
    "from sklearn.neighbors import KNeighborsClassifier\n",
    "\n",
    "from sklearn.metrics import roc_curve, auc, confusion_matrix, classification_report, plot_confusion_matrix\n",
    "from sklearn.metrics import f1_score, accuracy_score, precision_score, recall_score, roc_auc_score\n",
    "\n",
    "from imblearn.over_sampling import RandomOverSampler, SMOTE\n",
    "from imblearn.under_sampling import RandomUnderSampler"
   ]
  },
  {
   "cell_type": "code",
   "execution_count": 2,
   "metadata": {},
   "outputs": [
    {
     "data": {
      "text/html": [
       "<div>\n",
       "<style scoped>\n",
       "    .dataframe tbody tr th:only-of-type {\n",
       "        vertical-align: middle;\n",
       "    }\n",
       "\n",
       "    .dataframe tbody tr th {\n",
       "        vertical-align: top;\n",
       "    }\n",
       "\n",
       "    .dataframe thead th {\n",
       "        text-align: right;\n",
       "    }\n",
       "</style>\n",
       "<table border=\"1\" class=\"dataframe\">\n",
       "  <thead>\n",
       "    <tr style=\"text-align: right;\">\n",
       "      <th></th>\n",
       "      <th>Administrative</th>\n",
       "      <th>Administrative_Duration</th>\n",
       "      <th>Informational</th>\n",
       "      <th>Informational_Duration</th>\n",
       "      <th>ProductRelated</th>\n",
       "      <th>ProductRelated_Duration</th>\n",
       "      <th>BounceRates</th>\n",
       "      <th>ExitRates</th>\n",
       "      <th>PageValues</th>\n",
       "      <th>SpecialDay</th>\n",
       "      <th>Month</th>\n",
       "      <th>OperatingSystems</th>\n",
       "      <th>Browser</th>\n",
       "      <th>Region</th>\n",
       "      <th>TrafficType</th>\n",
       "      <th>VisitorType</th>\n",
       "      <th>Weekend</th>\n",
       "      <th>Revenue</th>\n",
       "    </tr>\n",
       "  </thead>\n",
       "  <tbody>\n",
       "    <tr>\n",
       "      <th>0</th>\n",
       "      <td>0.0</td>\n",
       "      <td>0.0</td>\n",
       "      <td>0.0</td>\n",
       "      <td>0.0</td>\n",
       "      <td>1.0</td>\n",
       "      <td>0.000000</td>\n",
       "      <td>0.200000</td>\n",
       "      <td>0.200000</td>\n",
       "      <td>0.000000</td>\n",
       "      <td>0.0</td>\n",
       "      <td>Feb</td>\n",
       "      <td>1</td>\n",
       "      <td>1</td>\n",
       "      <td>1</td>\n",
       "      <td>1</td>\n",
       "      <td>Returning_Visitor</td>\n",
       "      <td>False</td>\n",
       "      <td>False</td>\n",
       "    </tr>\n",
       "    <tr>\n",
       "      <th>1</th>\n",
       "      <td>0.0</td>\n",
       "      <td>0.0</td>\n",
       "      <td>0.0</td>\n",
       "      <td>0.0</td>\n",
       "      <td>2.0</td>\n",
       "      <td>64.000000</td>\n",
       "      <td>0.000000</td>\n",
       "      <td>0.100000</td>\n",
       "      <td>0.000000</td>\n",
       "      <td>0.0</td>\n",
       "      <td>Feb</td>\n",
       "      <td>2</td>\n",
       "      <td>2</td>\n",
       "      <td>1</td>\n",
       "      <td>2</td>\n",
       "      <td>Returning_Visitor</td>\n",
       "      <td>False</td>\n",
       "      <td>False</td>\n",
       "    </tr>\n",
       "    <tr>\n",
       "      <th>2</th>\n",
       "      <td>0.0</td>\n",
       "      <td>-1.0</td>\n",
       "      <td>0.0</td>\n",
       "      <td>-1.0</td>\n",
       "      <td>1.0</td>\n",
       "      <td>-1.000000</td>\n",
       "      <td>0.200000</td>\n",
       "      <td>0.200000</td>\n",
       "      <td>0.000000</td>\n",
       "      <td>0.0</td>\n",
       "      <td>Feb</td>\n",
       "      <td>4</td>\n",
       "      <td>1</td>\n",
       "      <td>9</td>\n",
       "      <td>3</td>\n",
       "      <td>Returning_Visitor</td>\n",
       "      <td>False</td>\n",
       "      <td>False</td>\n",
       "    </tr>\n",
       "    <tr>\n",
       "      <th>3</th>\n",
       "      <td>0.0</td>\n",
       "      <td>0.0</td>\n",
       "      <td>0.0</td>\n",
       "      <td>0.0</td>\n",
       "      <td>2.0</td>\n",
       "      <td>2.666667</td>\n",
       "      <td>0.050000</td>\n",
       "      <td>0.140000</td>\n",
       "      <td>0.000000</td>\n",
       "      <td>0.0</td>\n",
       "      <td>Feb</td>\n",
       "      <td>3</td>\n",
       "      <td>2</td>\n",
       "      <td>2</td>\n",
       "      <td>4</td>\n",
       "      <td>Returning_Visitor</td>\n",
       "      <td>False</td>\n",
       "      <td>False</td>\n",
       "    </tr>\n",
       "    <tr>\n",
       "      <th>4</th>\n",
       "      <td>0.0</td>\n",
       "      <td>0.0</td>\n",
       "      <td>0.0</td>\n",
       "      <td>0.0</td>\n",
       "      <td>10.0</td>\n",
       "      <td>627.500000</td>\n",
       "      <td>0.020000</td>\n",
       "      <td>0.050000</td>\n",
       "      <td>0.000000</td>\n",
       "      <td>0.0</td>\n",
       "      <td>Feb</td>\n",
       "      <td>3</td>\n",
       "      <td>3</td>\n",
       "      <td>1</td>\n",
       "      <td>4</td>\n",
       "      <td>Returning_Visitor</td>\n",
       "      <td>True</td>\n",
       "      <td>False</td>\n",
       "    </tr>\n",
       "    <tr>\n",
       "      <th>...</th>\n",
       "      <td>...</td>\n",
       "      <td>...</td>\n",
       "      <td>...</td>\n",
       "      <td>...</td>\n",
       "      <td>...</td>\n",
       "      <td>...</td>\n",
       "      <td>...</td>\n",
       "      <td>...</td>\n",
       "      <td>...</td>\n",
       "      <td>...</td>\n",
       "      <td>...</td>\n",
       "      <td>...</td>\n",
       "      <td>...</td>\n",
       "      <td>...</td>\n",
       "      <td>...</td>\n",
       "      <td>...</td>\n",
       "      <td>...</td>\n",
       "      <td>...</td>\n",
       "    </tr>\n",
       "    <tr>\n",
       "      <th>12325</th>\n",
       "      <td>3.0</td>\n",
       "      <td>145.0</td>\n",
       "      <td>0.0</td>\n",
       "      <td>0.0</td>\n",
       "      <td>53.0</td>\n",
       "      <td>1783.791667</td>\n",
       "      <td>0.007143</td>\n",
       "      <td>0.029031</td>\n",
       "      <td>12.241717</td>\n",
       "      <td>0.0</td>\n",
       "      <td>Dec</td>\n",
       "      <td>4</td>\n",
       "      <td>6</td>\n",
       "      <td>1</td>\n",
       "      <td>1</td>\n",
       "      <td>Returning_Visitor</td>\n",
       "      <td>True</td>\n",
       "      <td>False</td>\n",
       "    </tr>\n",
       "    <tr>\n",
       "      <th>12326</th>\n",
       "      <td>0.0</td>\n",
       "      <td>0.0</td>\n",
       "      <td>0.0</td>\n",
       "      <td>0.0</td>\n",
       "      <td>5.0</td>\n",
       "      <td>465.750000</td>\n",
       "      <td>0.000000</td>\n",
       "      <td>0.021333</td>\n",
       "      <td>0.000000</td>\n",
       "      <td>0.0</td>\n",
       "      <td>Nov</td>\n",
       "      <td>3</td>\n",
       "      <td>2</td>\n",
       "      <td>1</td>\n",
       "      <td>8</td>\n",
       "      <td>Returning_Visitor</td>\n",
       "      <td>True</td>\n",
       "      <td>False</td>\n",
       "    </tr>\n",
       "    <tr>\n",
       "      <th>12327</th>\n",
       "      <td>0.0</td>\n",
       "      <td>0.0</td>\n",
       "      <td>0.0</td>\n",
       "      <td>0.0</td>\n",
       "      <td>6.0</td>\n",
       "      <td>184.250000</td>\n",
       "      <td>0.083333</td>\n",
       "      <td>0.086667</td>\n",
       "      <td>0.000000</td>\n",
       "      <td>0.0</td>\n",
       "      <td>Nov</td>\n",
       "      <td>3</td>\n",
       "      <td>2</td>\n",
       "      <td>1</td>\n",
       "      <td>13</td>\n",
       "      <td>Returning_Visitor</td>\n",
       "      <td>True</td>\n",
       "      <td>False</td>\n",
       "    </tr>\n",
       "    <tr>\n",
       "      <th>12328</th>\n",
       "      <td>4.0</td>\n",
       "      <td>75.0</td>\n",
       "      <td>0.0</td>\n",
       "      <td>0.0</td>\n",
       "      <td>15.0</td>\n",
       "      <td>346.000000</td>\n",
       "      <td>0.000000</td>\n",
       "      <td>0.021053</td>\n",
       "      <td>0.000000</td>\n",
       "      <td>0.0</td>\n",
       "      <td>Nov</td>\n",
       "      <td>2</td>\n",
       "      <td>2</td>\n",
       "      <td>3</td>\n",
       "      <td>11</td>\n",
       "      <td>Returning_Visitor</td>\n",
       "      <td>False</td>\n",
       "      <td>False</td>\n",
       "    </tr>\n",
       "    <tr>\n",
       "      <th>12329</th>\n",
       "      <td>0.0</td>\n",
       "      <td>0.0</td>\n",
       "      <td>0.0</td>\n",
       "      <td>0.0</td>\n",
       "      <td>3.0</td>\n",
       "      <td>21.250000</td>\n",
       "      <td>0.000000</td>\n",
       "      <td>0.066667</td>\n",
       "      <td>0.000000</td>\n",
       "      <td>0.0</td>\n",
       "      <td>Nov</td>\n",
       "      <td>3</td>\n",
       "      <td>2</td>\n",
       "      <td>1</td>\n",
       "      <td>2</td>\n",
       "      <td>New_Visitor</td>\n",
       "      <td>True</td>\n",
       "      <td>False</td>\n",
       "    </tr>\n",
       "  </tbody>\n",
       "</table>\n",
       "<p>12330 rows × 18 columns</p>\n",
       "</div>"
      ],
      "text/plain": [
       "       Administrative  Administrative_Duration  Informational  \\\n",
       "0                 0.0                      0.0            0.0   \n",
       "1                 0.0                      0.0            0.0   \n",
       "2                 0.0                     -1.0            0.0   \n",
       "3                 0.0                      0.0            0.0   \n",
       "4                 0.0                      0.0            0.0   \n",
       "...               ...                      ...            ...   \n",
       "12325             3.0                    145.0            0.0   \n",
       "12326             0.0                      0.0            0.0   \n",
       "12327             0.0                      0.0            0.0   \n",
       "12328             4.0                     75.0            0.0   \n",
       "12329             0.0                      0.0            0.0   \n",
       "\n",
       "       Informational_Duration  ProductRelated  ProductRelated_Duration  \\\n",
       "0                         0.0             1.0                 0.000000   \n",
       "1                         0.0             2.0                64.000000   \n",
       "2                        -1.0             1.0                -1.000000   \n",
       "3                         0.0             2.0                 2.666667   \n",
       "4                         0.0            10.0               627.500000   \n",
       "...                       ...             ...                      ...   \n",
       "12325                     0.0            53.0              1783.791667   \n",
       "12326                     0.0             5.0               465.750000   \n",
       "12327                     0.0             6.0               184.250000   \n",
       "12328                     0.0            15.0               346.000000   \n",
       "12329                     0.0             3.0                21.250000   \n",
       "\n",
       "       BounceRates  ExitRates  PageValues  SpecialDay Month  OperatingSystems  \\\n",
       "0         0.200000   0.200000    0.000000         0.0   Feb                 1   \n",
       "1         0.000000   0.100000    0.000000         0.0   Feb                 2   \n",
       "2         0.200000   0.200000    0.000000         0.0   Feb                 4   \n",
       "3         0.050000   0.140000    0.000000         0.0   Feb                 3   \n",
       "4         0.020000   0.050000    0.000000         0.0   Feb                 3   \n",
       "...            ...        ...         ...         ...   ...               ...   \n",
       "12325     0.007143   0.029031   12.241717         0.0   Dec                 4   \n",
       "12326     0.000000   0.021333    0.000000         0.0   Nov                 3   \n",
       "12327     0.083333   0.086667    0.000000         0.0   Nov                 3   \n",
       "12328     0.000000   0.021053    0.000000         0.0   Nov                 2   \n",
       "12329     0.000000   0.066667    0.000000         0.0   Nov                 3   \n",
       "\n",
       "       Browser  Region  TrafficType        VisitorType  Weekend  Revenue  \n",
       "0            1       1            1  Returning_Visitor    False    False  \n",
       "1            2       1            2  Returning_Visitor    False    False  \n",
       "2            1       9            3  Returning_Visitor    False    False  \n",
       "3            2       2            4  Returning_Visitor    False    False  \n",
       "4            3       1            4  Returning_Visitor     True    False  \n",
       "...        ...     ...          ...                ...      ...      ...  \n",
       "12325        6       1            1  Returning_Visitor     True    False  \n",
       "12326        2       1            8  Returning_Visitor     True    False  \n",
       "12327        2       1           13  Returning_Visitor     True    False  \n",
       "12328        2       3           11  Returning_Visitor    False    False  \n",
       "12329        2       1            2        New_Visitor     True    False  \n",
       "\n",
       "[12330 rows x 18 columns]"
      ]
     },
     "execution_count": 2,
     "metadata": {},
     "output_type": "execute_result"
    }
   ],
   "source": [
    "olshop_df1 = pd.read_csv('online_shoppers_intention.csv')\n",
    "olshop_df1"
   ]
  },
  {
   "cell_type": "code",
   "execution_count": 3,
   "metadata": {},
   "outputs": [],
   "source": [
    "olshop_df2 = olshop_df1.copy(deep=True)"
   ]
  },
  {
   "cell_type": "code",
   "execution_count": 4,
   "metadata": {},
   "outputs": [
    {
     "name": "stdout",
     "output_type": "stream",
     "text": [
      "<class 'pandas.core.frame.DataFrame'>\n",
      "RangeIndex: 12330 entries, 0 to 12329\n",
      "Data columns (total 18 columns):\n",
      " #   Column                   Non-Null Count  Dtype  \n",
      "---  ------                   --------------  -----  \n",
      " 0   Administrative           12330 non-null  float64\n",
      " 1   Administrative_Duration  12330 non-null  float64\n",
      " 2   Informational            12330 non-null  float64\n",
      " 3   Informational_Duration   12330 non-null  float64\n",
      " 4   ProductRelated           12330 non-null  float64\n",
      " 5   ProductRelated_Duration  12330 non-null  float64\n",
      " 6   BounceRates              12330 non-null  float64\n",
      " 7   ExitRates                12330 non-null  float64\n",
      " 8   PageValues               12330 non-null  float64\n",
      " 9   SpecialDay               12330 non-null  float64\n",
      " 10  Month                    12330 non-null  object \n",
      " 11  OperatingSystems         12330 non-null  int64  \n",
      " 12  Browser                  12330 non-null  int64  \n",
      " 13  Region                   12330 non-null  int64  \n",
      " 14  TrafficType              12330 non-null  int64  \n",
      " 15  VisitorType              12330 non-null  object \n",
      " 16  Weekend                  12330 non-null  bool   \n",
      " 17  Revenue                  12330 non-null  bool   \n",
      "dtypes: bool(2), float64(10), int64(4), object(2)\n",
      "memory usage: 1.5+ MB\n"
     ]
    }
   ],
   "source": [
    "list_nan = 'Administrative Administrative_Duration Informational Informational_Duration ProductRelated ProductRelated_Duration BounceRates ExitRates'.split()\n",
    "for i in list_nan:\n",
    "    olshop_df2[i].fillna(olshop_df2[i].mode().values[0], inplace=True)\n",
    "olshop_df2.info()"
   ]
  },
  {
   "cell_type": "code",
   "execution_count": 5,
   "metadata": {},
   "outputs": [
    {
     "data": {
      "text/html": [
       "<div>\n",
       "<style scoped>\n",
       "    .dataframe tbody tr th:only-of-type {\n",
       "        vertical-align: middle;\n",
       "    }\n",
       "\n",
       "    .dataframe tbody tr th {\n",
       "        vertical-align: top;\n",
       "    }\n",
       "\n",
       "    .dataframe thead th {\n",
       "        text-align: right;\n",
       "    }\n",
       "</style>\n",
       "<table border=\"1\" class=\"dataframe\">\n",
       "  <thead>\n",
       "    <tr style=\"text-align: right;\">\n",
       "      <th></th>\n",
       "      <th>Administrative</th>\n",
       "      <th>Administrative_Duration</th>\n",
       "      <th>Informational</th>\n",
       "      <th>Informational_Duration</th>\n",
       "      <th>ProductRelated</th>\n",
       "      <th>ProductRelated_Duration</th>\n",
       "      <th>BounceRates</th>\n",
       "      <th>ExitRates</th>\n",
       "      <th>PageValues</th>\n",
       "      <th>SpecialDay</th>\n",
       "      <th>Month</th>\n",
       "      <th>OperatingSystems</th>\n",
       "      <th>Browser</th>\n",
       "      <th>Region</th>\n",
       "      <th>TrafficType</th>\n",
       "      <th>VisitorType</th>\n",
       "      <th>Weekend</th>\n",
       "      <th>Revenue</th>\n",
       "    </tr>\n",
       "  </thead>\n",
       "  <tbody>\n",
       "    <tr>\n",
       "      <th>0</th>\n",
       "      <td>0.0</td>\n",
       "      <td>0.0</td>\n",
       "      <td>0.0</td>\n",
       "      <td>0.0</td>\n",
       "      <td>1.0</td>\n",
       "      <td>0.000000</td>\n",
       "      <td>0.200000</td>\n",
       "      <td>0.200000</td>\n",
       "      <td>0.000000</td>\n",
       "      <td>0.0</td>\n",
       "      <td>Feb</td>\n",
       "      <td>1</td>\n",
       "      <td>1</td>\n",
       "      <td>1</td>\n",
       "      <td>1</td>\n",
       "      <td>Returning_Visitor</td>\n",
       "      <td>False</td>\n",
       "      <td>False</td>\n",
       "    </tr>\n",
       "    <tr>\n",
       "      <th>1</th>\n",
       "      <td>0.0</td>\n",
       "      <td>0.0</td>\n",
       "      <td>0.0</td>\n",
       "      <td>0.0</td>\n",
       "      <td>2.0</td>\n",
       "      <td>64.000000</td>\n",
       "      <td>0.000000</td>\n",
       "      <td>0.100000</td>\n",
       "      <td>0.000000</td>\n",
       "      <td>0.0</td>\n",
       "      <td>Feb</td>\n",
       "      <td>2</td>\n",
       "      <td>2</td>\n",
       "      <td>1</td>\n",
       "      <td>2</td>\n",
       "      <td>Returning_Visitor</td>\n",
       "      <td>False</td>\n",
       "      <td>False</td>\n",
       "    </tr>\n",
       "    <tr>\n",
       "      <th>2</th>\n",
       "      <td>0.0</td>\n",
       "      <td>0.0</td>\n",
       "      <td>0.0</td>\n",
       "      <td>0.0</td>\n",
       "      <td>1.0</td>\n",
       "      <td>0.000000</td>\n",
       "      <td>0.200000</td>\n",
       "      <td>0.200000</td>\n",
       "      <td>0.000000</td>\n",
       "      <td>0.0</td>\n",
       "      <td>Feb</td>\n",
       "      <td>4</td>\n",
       "      <td>1</td>\n",
       "      <td>9</td>\n",
       "      <td>3</td>\n",
       "      <td>Returning_Visitor</td>\n",
       "      <td>False</td>\n",
       "      <td>False</td>\n",
       "    </tr>\n",
       "    <tr>\n",
       "      <th>3</th>\n",
       "      <td>0.0</td>\n",
       "      <td>0.0</td>\n",
       "      <td>0.0</td>\n",
       "      <td>0.0</td>\n",
       "      <td>2.0</td>\n",
       "      <td>2.666667</td>\n",
       "      <td>0.050000</td>\n",
       "      <td>0.140000</td>\n",
       "      <td>0.000000</td>\n",
       "      <td>0.0</td>\n",
       "      <td>Feb</td>\n",
       "      <td>3</td>\n",
       "      <td>2</td>\n",
       "      <td>2</td>\n",
       "      <td>4</td>\n",
       "      <td>Returning_Visitor</td>\n",
       "      <td>False</td>\n",
       "      <td>False</td>\n",
       "    </tr>\n",
       "    <tr>\n",
       "      <th>4</th>\n",
       "      <td>0.0</td>\n",
       "      <td>0.0</td>\n",
       "      <td>0.0</td>\n",
       "      <td>0.0</td>\n",
       "      <td>10.0</td>\n",
       "      <td>627.500000</td>\n",
       "      <td>0.020000</td>\n",
       "      <td>0.050000</td>\n",
       "      <td>0.000000</td>\n",
       "      <td>0.0</td>\n",
       "      <td>Feb</td>\n",
       "      <td>3</td>\n",
       "      <td>3</td>\n",
       "      <td>1</td>\n",
       "      <td>4</td>\n",
       "      <td>Returning_Visitor</td>\n",
       "      <td>True</td>\n",
       "      <td>False</td>\n",
       "    </tr>\n",
       "    <tr>\n",
       "      <th>...</th>\n",
       "      <td>...</td>\n",
       "      <td>...</td>\n",
       "      <td>...</td>\n",
       "      <td>...</td>\n",
       "      <td>...</td>\n",
       "      <td>...</td>\n",
       "      <td>...</td>\n",
       "      <td>...</td>\n",
       "      <td>...</td>\n",
       "      <td>...</td>\n",
       "      <td>...</td>\n",
       "      <td>...</td>\n",
       "      <td>...</td>\n",
       "      <td>...</td>\n",
       "      <td>...</td>\n",
       "      <td>...</td>\n",
       "      <td>...</td>\n",
       "      <td>...</td>\n",
       "    </tr>\n",
       "    <tr>\n",
       "      <th>12325</th>\n",
       "      <td>3.0</td>\n",
       "      <td>145.0</td>\n",
       "      <td>0.0</td>\n",
       "      <td>0.0</td>\n",
       "      <td>53.0</td>\n",
       "      <td>1783.791667</td>\n",
       "      <td>0.007143</td>\n",
       "      <td>0.029031</td>\n",
       "      <td>12.241717</td>\n",
       "      <td>0.0</td>\n",
       "      <td>Dec</td>\n",
       "      <td>4</td>\n",
       "      <td>6</td>\n",
       "      <td>1</td>\n",
       "      <td>1</td>\n",
       "      <td>Returning_Visitor</td>\n",
       "      <td>True</td>\n",
       "      <td>False</td>\n",
       "    </tr>\n",
       "    <tr>\n",
       "      <th>12326</th>\n",
       "      <td>0.0</td>\n",
       "      <td>0.0</td>\n",
       "      <td>0.0</td>\n",
       "      <td>0.0</td>\n",
       "      <td>5.0</td>\n",
       "      <td>465.750000</td>\n",
       "      <td>0.000000</td>\n",
       "      <td>0.021333</td>\n",
       "      <td>0.000000</td>\n",
       "      <td>0.0</td>\n",
       "      <td>Nov</td>\n",
       "      <td>3</td>\n",
       "      <td>2</td>\n",
       "      <td>1</td>\n",
       "      <td>8</td>\n",
       "      <td>Returning_Visitor</td>\n",
       "      <td>True</td>\n",
       "      <td>False</td>\n",
       "    </tr>\n",
       "    <tr>\n",
       "      <th>12327</th>\n",
       "      <td>0.0</td>\n",
       "      <td>0.0</td>\n",
       "      <td>0.0</td>\n",
       "      <td>0.0</td>\n",
       "      <td>6.0</td>\n",
       "      <td>184.250000</td>\n",
       "      <td>0.083333</td>\n",
       "      <td>0.086667</td>\n",
       "      <td>0.000000</td>\n",
       "      <td>0.0</td>\n",
       "      <td>Nov</td>\n",
       "      <td>3</td>\n",
       "      <td>2</td>\n",
       "      <td>1</td>\n",
       "      <td>13</td>\n",
       "      <td>Returning_Visitor</td>\n",
       "      <td>True</td>\n",
       "      <td>False</td>\n",
       "    </tr>\n",
       "    <tr>\n",
       "      <th>12328</th>\n",
       "      <td>4.0</td>\n",
       "      <td>75.0</td>\n",
       "      <td>0.0</td>\n",
       "      <td>0.0</td>\n",
       "      <td>15.0</td>\n",
       "      <td>346.000000</td>\n",
       "      <td>0.000000</td>\n",
       "      <td>0.021053</td>\n",
       "      <td>0.000000</td>\n",
       "      <td>0.0</td>\n",
       "      <td>Nov</td>\n",
       "      <td>2</td>\n",
       "      <td>2</td>\n",
       "      <td>3</td>\n",
       "      <td>11</td>\n",
       "      <td>Returning_Visitor</td>\n",
       "      <td>False</td>\n",
       "      <td>False</td>\n",
       "    </tr>\n",
       "    <tr>\n",
       "      <th>12329</th>\n",
       "      <td>0.0</td>\n",
       "      <td>0.0</td>\n",
       "      <td>0.0</td>\n",
       "      <td>0.0</td>\n",
       "      <td>3.0</td>\n",
       "      <td>21.250000</td>\n",
       "      <td>0.000000</td>\n",
       "      <td>0.066667</td>\n",
       "      <td>0.000000</td>\n",
       "      <td>0.0</td>\n",
       "      <td>Nov</td>\n",
       "      <td>3</td>\n",
       "      <td>2</td>\n",
       "      <td>1</td>\n",
       "      <td>2</td>\n",
       "      <td>New_Visitor</td>\n",
       "      <td>True</td>\n",
       "      <td>False</td>\n",
       "    </tr>\n",
       "  </tbody>\n",
       "</table>\n",
       "<p>12330 rows × 18 columns</p>\n",
       "</div>"
      ],
      "text/plain": [
       "       Administrative  Administrative_Duration  Informational  \\\n",
       "0                 0.0                      0.0            0.0   \n",
       "1                 0.0                      0.0            0.0   \n",
       "2                 0.0                      0.0            0.0   \n",
       "3                 0.0                      0.0            0.0   \n",
       "4                 0.0                      0.0            0.0   \n",
       "...               ...                      ...            ...   \n",
       "12325             3.0                    145.0            0.0   \n",
       "12326             0.0                      0.0            0.0   \n",
       "12327             0.0                      0.0            0.0   \n",
       "12328             4.0                     75.0            0.0   \n",
       "12329             0.0                      0.0            0.0   \n",
       "\n",
       "       Informational_Duration  ProductRelated  ProductRelated_Duration  \\\n",
       "0                         0.0             1.0                 0.000000   \n",
       "1                         0.0             2.0                64.000000   \n",
       "2                         0.0             1.0                 0.000000   \n",
       "3                         0.0             2.0                 2.666667   \n",
       "4                         0.0            10.0               627.500000   \n",
       "...                       ...             ...                      ...   \n",
       "12325                     0.0            53.0              1783.791667   \n",
       "12326                     0.0             5.0               465.750000   \n",
       "12327                     0.0             6.0               184.250000   \n",
       "12328                     0.0            15.0               346.000000   \n",
       "12329                     0.0             3.0                21.250000   \n",
       "\n",
       "       BounceRates  ExitRates  PageValues  SpecialDay Month  OperatingSystems  \\\n",
       "0         0.200000   0.200000    0.000000         0.0   Feb                 1   \n",
       "1         0.000000   0.100000    0.000000         0.0   Feb                 2   \n",
       "2         0.200000   0.200000    0.000000         0.0   Feb                 4   \n",
       "3         0.050000   0.140000    0.000000         0.0   Feb                 3   \n",
       "4         0.020000   0.050000    0.000000         0.0   Feb                 3   \n",
       "...            ...        ...         ...         ...   ...               ...   \n",
       "12325     0.007143   0.029031   12.241717         0.0   Dec                 4   \n",
       "12326     0.000000   0.021333    0.000000         0.0   Nov                 3   \n",
       "12327     0.083333   0.086667    0.000000         0.0   Nov                 3   \n",
       "12328     0.000000   0.021053    0.000000         0.0   Nov                 2   \n",
       "12329     0.000000   0.066667    0.000000         0.0   Nov                 3   \n",
       "\n",
       "       Browser  Region  TrafficType        VisitorType  Weekend  Revenue  \n",
       "0            1       1            1  Returning_Visitor    False    False  \n",
       "1            2       1            2  Returning_Visitor    False    False  \n",
       "2            1       9            3  Returning_Visitor    False    False  \n",
       "3            2       2            4  Returning_Visitor    False    False  \n",
       "4            3       1            4  Returning_Visitor     True    False  \n",
       "...        ...     ...          ...                ...      ...      ...  \n",
       "12325        6       1            1  Returning_Visitor     True    False  \n",
       "12326        2       1            8  Returning_Visitor     True    False  \n",
       "12327        2       1           13  Returning_Visitor     True    False  \n",
       "12328        2       3           11  Returning_Visitor    False    False  \n",
       "12329        2       1            2        New_Visitor     True    False  \n",
       "\n",
       "[12330 rows x 18 columns]"
      ]
     },
     "execution_count": 5,
     "metadata": {},
     "output_type": "execute_result"
    }
   ],
   "source": [
    "list_minus1 = ['Administrative_Duration', 'Informational_Duration', 'ProductRelated_Duration']\n",
    "for i in list_minus1:\n",
    "    olshop_df2[i].replace(-1.0, olshop_df2[i].mode()[0], inplace=True)\n",
    "olshop_df2"
   ]
  },
  {
   "cell_type": "code",
   "execution_count": 6,
   "metadata": {
    "scrolled": true
   },
   "outputs": [
    {
     "data": {
      "text/html": [
       "<div>\n",
       "<style scoped>\n",
       "    .dataframe tbody tr th:only-of-type {\n",
       "        vertical-align: middle;\n",
       "    }\n",
       "\n",
       "    .dataframe tbody tr th {\n",
       "        vertical-align: top;\n",
       "    }\n",
       "\n",
       "    .dataframe thead th {\n",
       "        text-align: right;\n",
       "    }\n",
       "</style>\n",
       "<table border=\"1\" class=\"dataframe\">\n",
       "  <thead>\n",
       "    <tr style=\"text-align: right;\">\n",
       "      <th></th>\n",
       "      <th>Administrative</th>\n",
       "      <th>Informational</th>\n",
       "      <th>ProductRelated</th>\n",
       "      <th>ExitRates</th>\n",
       "      <th>PageValues</th>\n",
       "      <th>SpecialDay</th>\n",
       "      <th>Month</th>\n",
       "      <th>Region</th>\n",
       "      <th>TrafficType</th>\n",
       "      <th>VisitorType</th>\n",
       "      <th>Weekend</th>\n",
       "      <th>Revenue</th>\n",
       "    </tr>\n",
       "  </thead>\n",
       "  <tbody>\n",
       "    <tr>\n",
       "      <th>0</th>\n",
       "      <td>0.0</td>\n",
       "      <td>0.0</td>\n",
       "      <td>1.0</td>\n",
       "      <td>0.20</td>\n",
       "      <td>0.0</td>\n",
       "      <td>0.0</td>\n",
       "      <td>Feb</td>\n",
       "      <td>1</td>\n",
       "      <td>1</td>\n",
       "      <td>Returning_Visitor</td>\n",
       "      <td>False</td>\n",
       "      <td>False</td>\n",
       "    </tr>\n",
       "    <tr>\n",
       "      <th>1</th>\n",
       "      <td>0.0</td>\n",
       "      <td>0.0</td>\n",
       "      <td>2.0</td>\n",
       "      <td>0.10</td>\n",
       "      <td>0.0</td>\n",
       "      <td>0.0</td>\n",
       "      <td>Feb</td>\n",
       "      <td>1</td>\n",
       "      <td>2</td>\n",
       "      <td>Returning_Visitor</td>\n",
       "      <td>False</td>\n",
       "      <td>False</td>\n",
       "    </tr>\n",
       "    <tr>\n",
       "      <th>2</th>\n",
       "      <td>0.0</td>\n",
       "      <td>0.0</td>\n",
       "      <td>1.0</td>\n",
       "      <td>0.20</td>\n",
       "      <td>0.0</td>\n",
       "      <td>0.0</td>\n",
       "      <td>Feb</td>\n",
       "      <td>9</td>\n",
       "      <td>3</td>\n",
       "      <td>Returning_Visitor</td>\n",
       "      <td>False</td>\n",
       "      <td>False</td>\n",
       "    </tr>\n",
       "    <tr>\n",
       "      <th>3</th>\n",
       "      <td>0.0</td>\n",
       "      <td>0.0</td>\n",
       "      <td>2.0</td>\n",
       "      <td>0.14</td>\n",
       "      <td>0.0</td>\n",
       "      <td>0.0</td>\n",
       "      <td>Feb</td>\n",
       "      <td>2</td>\n",
       "      <td>4</td>\n",
       "      <td>Returning_Visitor</td>\n",
       "      <td>False</td>\n",
       "      <td>False</td>\n",
       "    </tr>\n",
       "    <tr>\n",
       "      <th>4</th>\n",
       "      <td>0.0</td>\n",
       "      <td>0.0</td>\n",
       "      <td>10.0</td>\n",
       "      <td>0.05</td>\n",
       "      <td>0.0</td>\n",
       "      <td>0.0</td>\n",
       "      <td>Feb</td>\n",
       "      <td>1</td>\n",
       "      <td>4</td>\n",
       "      <td>Returning_Visitor</td>\n",
       "      <td>True</td>\n",
       "      <td>False</td>\n",
       "    </tr>\n",
       "  </tbody>\n",
       "</table>\n",
       "</div>"
      ],
      "text/plain": [
       "   Administrative  Informational  ProductRelated  ExitRates  PageValues  \\\n",
       "0             0.0            0.0             1.0       0.20         0.0   \n",
       "1             0.0            0.0             2.0       0.10         0.0   \n",
       "2             0.0            0.0             1.0       0.20         0.0   \n",
       "3             0.0            0.0             2.0       0.14         0.0   \n",
       "4             0.0            0.0            10.0       0.05         0.0   \n",
       "\n",
       "   SpecialDay Month  Region  TrafficType        VisitorType  Weekend  Revenue  \n",
       "0         0.0   Feb       1            1  Returning_Visitor    False    False  \n",
       "1         0.0   Feb       1            2  Returning_Visitor    False    False  \n",
       "2         0.0   Feb       9            3  Returning_Visitor    False    False  \n",
       "3         0.0   Feb       2            4  Returning_Visitor    False    False  \n",
       "4         0.0   Feb       1            4  Returning_Visitor     True    False  "
      ]
     },
     "metadata": {},
     "output_type": "display_data"
    },
    {
     "data": {
      "text/html": [
       "<div>\n",
       "<style scoped>\n",
       "    .dataframe tbody tr th:only-of-type {\n",
       "        vertical-align: middle;\n",
       "    }\n",
       "\n",
       "    .dataframe tbody tr th {\n",
       "        vertical-align: top;\n",
       "    }\n",
       "\n",
       "    .dataframe thead th {\n",
       "        text-align: right;\n",
       "    }\n",
       "</style>\n",
       "<table border=\"1\" class=\"dataframe\">\n",
       "  <thead>\n",
       "    <tr style=\"text-align: right;\">\n",
       "      <th></th>\n",
       "      <th>Administrative</th>\n",
       "      <th>Informational</th>\n",
       "      <th>ProductRelated</th>\n",
       "      <th>ExitRates</th>\n",
       "      <th>PageValues</th>\n",
       "      <th>SpecialDay</th>\n",
       "      <th>Revenue</th>\n",
       "    </tr>\n",
       "  </thead>\n",
       "  <tbody>\n",
       "    <tr>\n",
       "      <th>0</th>\n",
       "      <td>0.0</td>\n",
       "      <td>0.0</td>\n",
       "      <td>1.0</td>\n",
       "      <td>0.20</td>\n",
       "      <td>0.0</td>\n",
       "      <td>0.0</td>\n",
       "      <td>0</td>\n",
       "    </tr>\n",
       "    <tr>\n",
       "      <th>1</th>\n",
       "      <td>0.0</td>\n",
       "      <td>0.0</td>\n",
       "      <td>2.0</td>\n",
       "      <td>0.10</td>\n",
       "      <td>0.0</td>\n",
       "      <td>0.0</td>\n",
       "      <td>0</td>\n",
       "    </tr>\n",
       "    <tr>\n",
       "      <th>2</th>\n",
       "      <td>0.0</td>\n",
       "      <td>0.0</td>\n",
       "      <td>1.0</td>\n",
       "      <td>0.20</td>\n",
       "      <td>0.0</td>\n",
       "      <td>0.0</td>\n",
       "      <td>0</td>\n",
       "    </tr>\n",
       "    <tr>\n",
       "      <th>3</th>\n",
       "      <td>0.0</td>\n",
       "      <td>0.0</td>\n",
       "      <td>2.0</td>\n",
       "      <td>0.14</td>\n",
       "      <td>0.0</td>\n",
       "      <td>0.0</td>\n",
       "      <td>0</td>\n",
       "    </tr>\n",
       "    <tr>\n",
       "      <th>4</th>\n",
       "      <td>0.0</td>\n",
       "      <td>0.0</td>\n",
       "      <td>10.0</td>\n",
       "      <td>0.05</td>\n",
       "      <td>0.0</td>\n",
       "      <td>0.0</td>\n",
       "      <td>0</td>\n",
       "    </tr>\n",
       "  </tbody>\n",
       "</table>\n",
       "</div>"
      ],
      "text/plain": [
       "   Administrative  Informational  ProductRelated  ExitRates  PageValues  \\\n",
       "0             0.0            0.0             1.0       0.20         0.0   \n",
       "1             0.0            0.0             2.0       0.10         0.0   \n",
       "2             0.0            0.0             1.0       0.20         0.0   \n",
       "3             0.0            0.0             2.0       0.14         0.0   \n",
       "4             0.0            0.0            10.0       0.05         0.0   \n",
       "\n",
       "   SpecialDay  Revenue  \n",
       "0         0.0        0  \n",
       "1         0.0        0  \n",
       "2         0.0        0  \n",
       "3         0.0        0  \n",
       "4         0.0        0  "
      ]
     },
     "metadata": {},
     "output_type": "display_data"
    },
    {
     "data": {
      "text/html": [
       "<div>\n",
       "<style scoped>\n",
       "    .dataframe tbody tr th:only-of-type {\n",
       "        vertical-align: middle;\n",
       "    }\n",
       "\n",
       "    .dataframe tbody tr th {\n",
       "        vertical-align: top;\n",
       "    }\n",
       "\n",
       "    .dataframe thead th {\n",
       "        text-align: right;\n",
       "    }\n",
       "</style>\n",
       "<table border=\"1\" class=\"dataframe\">\n",
       "  <thead>\n",
       "    <tr style=\"text-align: right;\">\n",
       "      <th></th>\n",
       "      <th>Month</th>\n",
       "      <th>Region</th>\n",
       "      <th>TrafficType</th>\n",
       "      <th>VisitorType</th>\n",
       "      <th>Weekend</th>\n",
       "      <th>Revenue</th>\n",
       "    </tr>\n",
       "  </thead>\n",
       "  <tbody>\n",
       "    <tr>\n",
       "      <th>0</th>\n",
       "      <td>Feb</td>\n",
       "      <td>1</td>\n",
       "      <td>1</td>\n",
       "      <td>Returning_Visitor</td>\n",
       "      <td>False</td>\n",
       "      <td>0</td>\n",
       "    </tr>\n",
       "    <tr>\n",
       "      <th>1</th>\n",
       "      <td>Feb</td>\n",
       "      <td>1</td>\n",
       "      <td>2</td>\n",
       "      <td>Returning_Visitor</td>\n",
       "      <td>False</td>\n",
       "      <td>0</td>\n",
       "    </tr>\n",
       "    <tr>\n",
       "      <th>2</th>\n",
       "      <td>Feb</td>\n",
       "      <td>9</td>\n",
       "      <td>3</td>\n",
       "      <td>Returning_Visitor</td>\n",
       "      <td>False</td>\n",
       "      <td>0</td>\n",
       "    </tr>\n",
       "    <tr>\n",
       "      <th>3</th>\n",
       "      <td>Feb</td>\n",
       "      <td>2</td>\n",
       "      <td>4</td>\n",
       "      <td>Returning_Visitor</td>\n",
       "      <td>False</td>\n",
       "      <td>0</td>\n",
       "    </tr>\n",
       "    <tr>\n",
       "      <th>4</th>\n",
       "      <td>Feb</td>\n",
       "      <td>1</td>\n",
       "      <td>4</td>\n",
       "      <td>Returning_Visitor</td>\n",
       "      <td>True</td>\n",
       "      <td>0</td>\n",
       "    </tr>\n",
       "  </tbody>\n",
       "</table>\n",
       "</div>"
      ],
      "text/plain": [
       "  Month  Region  TrafficType        VisitorType  Weekend  Revenue\n",
       "0   Feb       1            1  Returning_Visitor    False        0\n",
       "1   Feb       1            2  Returning_Visitor    False        0\n",
       "2   Feb       9            3  Returning_Visitor    False        0\n",
       "3   Feb       2            4  Returning_Visitor    False        0\n",
       "4   Feb       1            4  Returning_Visitor     True        0"
      ]
     },
     "metadata": {},
     "output_type": "display_data"
    },
    {
     "data": {
      "text/html": [
       "<div>\n",
       "<style scoped>\n",
       "    .dataframe tbody tr th:only-of-type {\n",
       "        vertical-align: middle;\n",
       "    }\n",
       "\n",
       "    .dataframe tbody tr th {\n",
       "        vertical-align: top;\n",
       "    }\n",
       "\n",
       "    .dataframe thead th {\n",
       "        text-align: right;\n",
       "    }\n",
       "</style>\n",
       "<table border=\"1\" class=\"dataframe\">\n",
       "  <thead>\n",
       "    <tr style=\"text-align: right;\">\n",
       "      <th></th>\n",
       "      <th>Month</th>\n",
       "      <th>Region</th>\n",
       "      <th>TrafficType</th>\n",
       "      <th>VisitorType</th>\n",
       "      <th>Weekend</th>\n",
       "      <th>Revenue</th>\n",
       "    </tr>\n",
       "  </thead>\n",
       "  <tbody>\n",
       "    <tr>\n",
       "      <th>0</th>\n",
       "      <td>Feb</td>\n",
       "      <td>1</td>\n",
       "      <td>1</td>\n",
       "      <td>Returning_Visitor</td>\n",
       "      <td>False</td>\n",
       "      <td>False</td>\n",
       "    </tr>\n",
       "    <tr>\n",
       "      <th>1</th>\n",
       "      <td>Feb</td>\n",
       "      <td>1</td>\n",
       "      <td>2</td>\n",
       "      <td>Returning_Visitor</td>\n",
       "      <td>False</td>\n",
       "      <td>False</td>\n",
       "    </tr>\n",
       "    <tr>\n",
       "      <th>2</th>\n",
       "      <td>Feb</td>\n",
       "      <td>9</td>\n",
       "      <td>3</td>\n",
       "      <td>Returning_Visitor</td>\n",
       "      <td>False</td>\n",
       "      <td>False</td>\n",
       "    </tr>\n",
       "    <tr>\n",
       "      <th>3</th>\n",
       "      <td>Feb</td>\n",
       "      <td>2</td>\n",
       "      <td>4</td>\n",
       "      <td>Returning_Visitor</td>\n",
       "      <td>False</td>\n",
       "      <td>False</td>\n",
       "    </tr>\n",
       "    <tr>\n",
       "      <th>4</th>\n",
       "      <td>Feb</td>\n",
       "      <td>1</td>\n",
       "      <td>4</td>\n",
       "      <td>Returning_Visitor</td>\n",
       "      <td>True</td>\n",
       "      <td>False</td>\n",
       "    </tr>\n",
       "  </tbody>\n",
       "</table>\n",
       "</div>"
      ],
      "text/plain": [
       "  Month  Region  TrafficType        VisitorType  Weekend  Revenue\n",
       "0   Feb       1            1  Returning_Visitor    False    False\n",
       "1   Feb       1            2  Returning_Visitor    False    False\n",
       "2   Feb       9            3  Returning_Visitor    False    False\n",
       "3   Feb       2            4  Returning_Visitor    False    False\n",
       "4   Feb       1            4  Returning_Visitor     True    False"
      ]
     },
     "metadata": {},
     "output_type": "display_data"
    },
    {
     "data": {
      "text/html": [
       "<div>\n",
       "<style scoped>\n",
       "    .dataframe tbody tr th:only-of-type {\n",
       "        vertical-align: middle;\n",
       "    }\n",
       "\n",
       "    .dataframe tbody tr th {\n",
       "        vertical-align: top;\n",
       "    }\n",
       "\n",
       "    .dataframe thead th {\n",
       "        text-align: right;\n",
       "    }\n",
       "</style>\n",
       "<table border=\"1\" class=\"dataframe\">\n",
       "  <thead>\n",
       "    <tr style=\"text-align: right;\">\n",
       "      <th></th>\n",
       "      <th>Administrative</th>\n",
       "      <th>Informational</th>\n",
       "      <th>ProductRelated</th>\n",
       "      <th>Revenue</th>\n",
       "    </tr>\n",
       "  </thead>\n",
       "  <tbody>\n",
       "    <tr>\n",
       "      <th>0</th>\n",
       "      <td>0.0</td>\n",
       "      <td>0.0</td>\n",
       "      <td>1.0</td>\n",
       "      <td>0</td>\n",
       "    </tr>\n",
       "    <tr>\n",
       "      <th>1</th>\n",
       "      <td>0.0</td>\n",
       "      <td>0.0</td>\n",
       "      <td>2.0</td>\n",
       "      <td>0</td>\n",
       "    </tr>\n",
       "    <tr>\n",
       "      <th>2</th>\n",
       "      <td>0.0</td>\n",
       "      <td>0.0</td>\n",
       "      <td>1.0</td>\n",
       "      <td>0</td>\n",
       "    </tr>\n",
       "    <tr>\n",
       "      <th>3</th>\n",
       "      <td>0.0</td>\n",
       "      <td>0.0</td>\n",
       "      <td>2.0</td>\n",
       "      <td>0</td>\n",
       "    </tr>\n",
       "    <tr>\n",
       "      <th>4</th>\n",
       "      <td>0.0</td>\n",
       "      <td>0.0</td>\n",
       "      <td>10.0</td>\n",
       "      <td>0</td>\n",
       "    </tr>\n",
       "  </tbody>\n",
       "</table>\n",
       "</div>"
      ],
      "text/plain": [
       "   Administrative  Informational  ProductRelated  Revenue\n",
       "0             0.0            0.0             1.0        0\n",
       "1             0.0            0.0             2.0        0\n",
       "2             0.0            0.0             1.0        0\n",
       "3             0.0            0.0             2.0        0\n",
       "4             0.0            0.0            10.0        0"
      ]
     },
     "metadata": {},
     "output_type": "display_data"
    },
    {
     "data": {
      "text/html": [
       "<div>\n",
       "<style scoped>\n",
       "    .dataframe tbody tr th:only-of-type {\n",
       "        vertical-align: middle;\n",
       "    }\n",
       "\n",
       "    .dataframe tbody tr th {\n",
       "        vertical-align: top;\n",
       "    }\n",
       "\n",
       "    .dataframe thead th {\n",
       "        text-align: right;\n",
       "    }\n",
       "</style>\n",
       "<table border=\"1\" class=\"dataframe\">\n",
       "  <thead>\n",
       "    <tr style=\"text-align: right;\">\n",
       "      <th></th>\n",
       "      <th>ExitRates</th>\n",
       "      <th>PageValues</th>\n",
       "      <th>SpecialDay</th>\n",
       "      <th>Revenue</th>\n",
       "    </tr>\n",
       "  </thead>\n",
       "  <tbody>\n",
       "    <tr>\n",
       "      <th>0</th>\n",
       "      <td>0.20</td>\n",
       "      <td>0.0</td>\n",
       "      <td>0.0</td>\n",
       "      <td>0</td>\n",
       "    </tr>\n",
       "    <tr>\n",
       "      <th>1</th>\n",
       "      <td>0.10</td>\n",
       "      <td>0.0</td>\n",
       "      <td>0.0</td>\n",
       "      <td>0</td>\n",
       "    </tr>\n",
       "    <tr>\n",
       "      <th>2</th>\n",
       "      <td>0.20</td>\n",
       "      <td>0.0</td>\n",
       "      <td>0.0</td>\n",
       "      <td>0</td>\n",
       "    </tr>\n",
       "    <tr>\n",
       "      <th>3</th>\n",
       "      <td>0.14</td>\n",
       "      <td>0.0</td>\n",
       "      <td>0.0</td>\n",
       "      <td>0</td>\n",
       "    </tr>\n",
       "    <tr>\n",
       "      <th>4</th>\n",
       "      <td>0.05</td>\n",
       "      <td>0.0</td>\n",
       "      <td>0.0</td>\n",
       "      <td>0</td>\n",
       "    </tr>\n",
       "  </tbody>\n",
       "</table>\n",
       "</div>"
      ],
      "text/plain": [
       "   ExitRates  PageValues  SpecialDay  Revenue\n",
       "0       0.20         0.0         0.0        0\n",
       "1       0.10         0.0         0.0        0\n",
       "2       0.20         0.0         0.0        0\n",
       "3       0.14         0.0         0.0        0\n",
       "4       0.05         0.0         0.0        0"
      ]
     },
     "metadata": {},
     "output_type": "display_data"
    },
    {
     "data": {
      "text/html": [
       "<div>\n",
       "<style scoped>\n",
       "    .dataframe tbody tr th:only-of-type {\n",
       "        vertical-align: middle;\n",
       "    }\n",
       "\n",
       "    .dataframe tbody tr th {\n",
       "        vertical-align: top;\n",
       "    }\n",
       "\n",
       "    .dataframe thead th {\n",
       "        text-align: right;\n",
       "    }\n",
       "</style>\n",
       "<table border=\"1\" class=\"dataframe\">\n",
       "  <thead>\n",
       "    <tr style=\"text-align: right;\">\n",
       "      <th></th>\n",
       "      <th>Month</th>\n",
       "      <th>Region</th>\n",
       "      <th>TrafficType</th>\n",
       "      <th>VisitorType</th>\n",
       "      <th>Weekend</th>\n",
       "      <th>Revenue</th>\n",
       "    </tr>\n",
       "  </thead>\n",
       "  <tbody>\n",
       "    <tr>\n",
       "      <th>0</th>\n",
       "      <td>2</td>\n",
       "      <td>0</td>\n",
       "      <td>0</td>\n",
       "      <td>2</td>\n",
       "      <td>0</td>\n",
       "      <td>0</td>\n",
       "    </tr>\n",
       "    <tr>\n",
       "      <th>1</th>\n",
       "      <td>2</td>\n",
       "      <td>0</td>\n",
       "      <td>1</td>\n",
       "      <td>2</td>\n",
       "      <td>0</td>\n",
       "      <td>0</td>\n",
       "    </tr>\n",
       "    <tr>\n",
       "      <th>2</th>\n",
       "      <td>2</td>\n",
       "      <td>8</td>\n",
       "      <td>2</td>\n",
       "      <td>2</td>\n",
       "      <td>0</td>\n",
       "      <td>0</td>\n",
       "    </tr>\n",
       "    <tr>\n",
       "      <th>3</th>\n",
       "      <td>2</td>\n",
       "      <td>1</td>\n",
       "      <td>3</td>\n",
       "      <td>2</td>\n",
       "      <td>0</td>\n",
       "      <td>0</td>\n",
       "    </tr>\n",
       "    <tr>\n",
       "      <th>4</th>\n",
       "      <td>2</td>\n",
       "      <td>0</td>\n",
       "      <td>3</td>\n",
       "      <td>2</td>\n",
       "      <td>1</td>\n",
       "      <td>0</td>\n",
       "    </tr>\n",
       "  </tbody>\n",
       "</table>\n",
       "</div>"
      ],
      "text/plain": [
       "   Month  Region  TrafficType  VisitorType  Weekend  Revenue\n",
       "0      2       0            0            2        0        0\n",
       "1      2       0            1            2        0        0\n",
       "2      2       8            2            2        0        0\n",
       "3      2       1            3            2        0        0\n",
       "4      2       0            3            2        1        0"
      ]
     },
     "metadata": {},
     "output_type": "display_data"
    },
    {
     "data": {
      "text/html": [
       "<div>\n",
       "<style scoped>\n",
       "    .dataframe tbody tr th:only-of-type {\n",
       "        vertical-align: middle;\n",
       "    }\n",
       "\n",
       "    .dataframe tbody tr th {\n",
       "        vertical-align: top;\n",
       "    }\n",
       "\n",
       "    .dataframe thead th {\n",
       "        text-align: right;\n",
       "    }\n",
       "</style>\n",
       "<table border=\"1\" class=\"dataframe\">\n",
       "  <thead>\n",
       "    <tr style=\"text-align: right;\">\n",
       "      <th></th>\n",
       "      <th>Administrative</th>\n",
       "      <th>Informational</th>\n",
       "      <th>ProductRelated</th>\n",
       "      <th>ExitRates</th>\n",
       "      <th>PageValues</th>\n",
       "      <th>SpecialDay</th>\n",
       "      <th>Month</th>\n",
       "      <th>Region</th>\n",
       "      <th>TrafficType</th>\n",
       "      <th>VisitorType</th>\n",
       "      <th>Weekend</th>\n",
       "      <th>Revenue</th>\n",
       "    </tr>\n",
       "  </thead>\n",
       "  <tbody>\n",
       "    <tr>\n",
       "      <th>0</th>\n",
       "      <td>0.0</td>\n",
       "      <td>0.0</td>\n",
       "      <td>1.0</td>\n",
       "      <td>0.20</td>\n",
       "      <td>0.0</td>\n",
       "      <td>0.0</td>\n",
       "      <td>2</td>\n",
       "      <td>0</td>\n",
       "      <td>0</td>\n",
       "      <td>2</td>\n",
       "      <td>0</td>\n",
       "      <td>0</td>\n",
       "    </tr>\n",
       "    <tr>\n",
       "      <th>1</th>\n",
       "      <td>0.0</td>\n",
       "      <td>0.0</td>\n",
       "      <td>2.0</td>\n",
       "      <td>0.10</td>\n",
       "      <td>0.0</td>\n",
       "      <td>0.0</td>\n",
       "      <td>2</td>\n",
       "      <td>0</td>\n",
       "      <td>1</td>\n",
       "      <td>2</td>\n",
       "      <td>0</td>\n",
       "      <td>0</td>\n",
       "    </tr>\n",
       "    <tr>\n",
       "      <th>2</th>\n",
       "      <td>0.0</td>\n",
       "      <td>0.0</td>\n",
       "      <td>1.0</td>\n",
       "      <td>0.20</td>\n",
       "      <td>0.0</td>\n",
       "      <td>0.0</td>\n",
       "      <td>2</td>\n",
       "      <td>8</td>\n",
       "      <td>2</td>\n",
       "      <td>2</td>\n",
       "      <td>0</td>\n",
       "      <td>0</td>\n",
       "    </tr>\n",
       "    <tr>\n",
       "      <th>3</th>\n",
       "      <td>0.0</td>\n",
       "      <td>0.0</td>\n",
       "      <td>2.0</td>\n",
       "      <td>0.14</td>\n",
       "      <td>0.0</td>\n",
       "      <td>0.0</td>\n",
       "      <td>2</td>\n",
       "      <td>1</td>\n",
       "      <td>3</td>\n",
       "      <td>2</td>\n",
       "      <td>0</td>\n",
       "      <td>0</td>\n",
       "    </tr>\n",
       "    <tr>\n",
       "      <th>4</th>\n",
       "      <td>0.0</td>\n",
       "      <td>0.0</td>\n",
       "      <td>10.0</td>\n",
       "      <td>0.05</td>\n",
       "      <td>0.0</td>\n",
       "      <td>0.0</td>\n",
       "      <td>2</td>\n",
       "      <td>0</td>\n",
       "      <td>3</td>\n",
       "      <td>2</td>\n",
       "      <td>1</td>\n",
       "      <td>0</td>\n",
       "    </tr>\n",
       "  </tbody>\n",
       "</table>\n",
       "</div>"
      ],
      "text/plain": [
       "   Administrative  Informational  ProductRelated  ExitRates  PageValues  \\\n",
       "0             0.0            0.0             1.0       0.20         0.0   \n",
       "1             0.0            0.0             2.0       0.10         0.0   \n",
       "2             0.0            0.0             1.0       0.20         0.0   \n",
       "3             0.0            0.0             2.0       0.14         0.0   \n",
       "4             0.0            0.0            10.0       0.05         0.0   \n",
       "\n",
       "   SpecialDay  Month  Region  TrafficType  VisitorType  Weekend  Revenue  \n",
       "0         0.0      2       0            0            2        0        0  \n",
       "1         0.0      2       0            1            2        0        0  \n",
       "2         0.0      2       8            2            2        0        0  \n",
       "3         0.0      2       1            3            2        0        0  \n",
       "4         0.0      2       0            3            2        1        0  "
      ]
     },
     "execution_count": 6,
     "metadata": {},
     "output_type": "execute_result"
    }
   ],
   "source": [
    "# Variasi DataFrame\n",
    "dfm = olshop_df2.copy(deep=True)\n",
    "feat_to_del = ['Administrative_Duration', 'Informational_Duration', 'ProductRelated_Duration', 'BounceRates', 'OperatingSystems', 'Browser']\n",
    "dfm.drop(feat_to_del, axis=1, inplace=True)\n",
    "display(dfm.head())\n",
    "\n",
    "from sklearn.preprocessing import LabelEncoder\n",
    "dfa = dfm.copy(deep=True)\n",
    "dfa['Revenue'] = LabelEncoder().fit_transform(dfa['Revenue'])\n",
    "obj_feat = dfa.columns.tolist()[6:11]\n",
    "dfa.drop(obj_feat, axis=1, inplace=True)\n",
    "display(dfa.head())\n",
    "\n",
    "dfb = dfm.copy(deep=True)\n",
    "obj_feat = dfb.columns.tolist()[6:12]\n",
    "dfb = dfb[obj_feat]\n",
    "revenue = dfb['Revenue'].unique().tolist()\n",
    "revenue_dict = {revenue[i]: i for i in range (len(revenue))}\n",
    "dfb['Revenue'] = [revenue_dict[i] for i in dfb['Revenue'].tolist()]\n",
    "display(dfb.head())\n",
    "\n",
    "dfc = dfm.copy(deep=True)\n",
    "obj_feat = dfc.columns.tolist()[6:12]\n",
    "dfc = dfc[obj_feat]\n",
    "display(dfc.head())\n",
    "\n",
    "float_col1 = dfm.columns.tolist()[:3]\n",
    "float_col2 = dfm.columns.tolist()[3:6]\n",
    "dfd = dfa.drop(float_col2, axis=1)\n",
    "display(dfd.head())\n",
    "\n",
    "dfe = dfa.drop(float_col1, axis=1)\n",
    "display(dfe.head())\n",
    "\n",
    "from sklearn.preprocessing import LabelEncoder\n",
    "dff = pd.DataFrame()\n",
    "for i in dfc.columns.tolist():\n",
    "    dff[i] = LabelEncoder().fit_transform(dfc[i])\n",
    "display(dff.head())\n",
    "\n",
    "dfg = dfa.drop('Revenue', axis=1)\n",
    "dfg = pd.concat([dfg, dff], axis=1)\n",
    "dfg.head()"
   ]
  },
  {
   "cell_type": "markdown",
   "metadata": {},
   "source": [
    "# Menentukan Model Machine Learning"
   ]
  },
  {
   "cell_type": "code",
   "execution_count": 7,
   "metadata": {},
   "outputs": [],
   "source": [
    "from sklearn.metrics import confusion_matrix\n",
    "from sklearn.metrics import classification_report\n",
    "from sklearn.metrics import plot_confusion_matrix"
   ]
  },
  {
   "cell_type": "code",
   "execution_count": 8,
   "metadata": {},
   "outputs": [
    {
     "data": {
      "text/plain": [
       "Index(['Administrative', 'Informational', 'ProductRelated', 'ExitRates',\n",
       "       'PageValues', 'SpecialDay', 'Month', 'Region', 'TrafficType',\n",
       "       'VisitorType', 'Weekend', 'Revenue'],\n",
       "      dtype='object')"
      ]
     },
     "execution_count": 8,
     "metadata": {},
     "output_type": "execute_result"
    }
   ],
   "source": [
    "dfg.columns"
   ]
  },
  {
   "cell_type": "markdown",
   "metadata": {},
   "source": [
    "Marketer itu gelontarkan dana marketing ke Prediksi Beli atau Prediksi Tidak Beli?\n",
    "\n",
    "Pertimbangan secara parah-parahan yang mana:\n",
    "Case 1:\n",
    "Kalau Marketer gelontarkan anggaran ke Prediksi BELI.\n",
    "- Kalau ternyata TIDAK BELI, maka RUGI. (FP)\n",
    "- Kalau BELI, baru TIDAK RUGI.\n",
    "\n",
    "Case 2:\n",
    "Kalau Marketer gelontarkan anggaran ke Prediksi TIDAK BELI.\n",
    "- Kalau ternyata BELI, maka TIDAK RUGI. (FN)\n",
    "- Kalau ternyata TIDAK BELI, maka bisa dikatakan juga TIDAK RUGI karena kan sudah diingatkan Prediksi secara benar bahwa TIDAK BELI. Karena berarti target marketing disini adalah BRANDING bukan REVENUE.\n",
    "\n",
    "KESIMPULAN BENARNYA BERARTI TEKAN NILAI **\"FP\"** SERENDAH-RENDAHNYA, karena di kasus ini Marketer ingin mengalokasikan anggaran ke sesuatu yang jelas menambah Revenue."
   ]
  },
  {
   "cell_type": "markdown",
   "metadata": {},
   "source": [
    "## Train Test Split"
   ]
  },
  {
   "cell_type": "code",
   "execution_count": 9,
   "metadata": {},
   "outputs": [],
   "source": [
    "from sklearn.model_selection import train_test_split"
   ]
  },
  {
   "cell_type": "code",
   "execution_count": 10,
   "metadata": {},
   "outputs": [],
   "source": [
    "X = dfg.drop('Revenue', axis=1) # Kolom survived dihapus di X karena mau dipakai sebagai target (dependent value) (kunci jawaban)\n",
    "y = dfg['Revenue']\n",
    "X_train, X_test, y_train, y_test = train_test_split(X, y, test_size=0.2, random_state=1)"
   ]
  },
  {
   "cell_type": "code",
   "execution_count": 11,
   "metadata": {},
   "outputs": [
    {
     "data": {
      "text/plain": [
       "True"
      ]
     },
     "execution_count": 11,
     "metadata": {},
     "output_type": "execute_result"
    }
   ],
   "source": [
    "len(X_train) == len(y_train)"
   ]
  },
  {
   "cell_type": "code",
   "execution_count": 12,
   "metadata": {},
   "outputs": [
    {
     "data": {
      "text/plain": [
       "0    8307\n",
       "1    1557\n",
       "Name: Revenue, dtype: int64"
      ]
     },
     "metadata": {},
     "output_type": "display_data"
    },
    {
     "data": {
      "text/plain": [
       "0    2115\n",
       "1     351\n",
       "Name: Revenue, dtype: int64"
      ]
     },
     "metadata": {},
     "output_type": "display_data"
    }
   ],
   "source": [
    "display(y_train.value_counts())\n",
    "display(y_test.value_counts())"
   ]
  },
  {
   "cell_type": "code",
   "execution_count": 13,
   "metadata": {},
   "outputs": [
    {
     "data": {
      "text/html": [
       "<div>\n",
       "<style scoped>\n",
       "    .dataframe tbody tr th:only-of-type {\n",
       "        vertical-align: middle;\n",
       "    }\n",
       "\n",
       "    .dataframe tbody tr th {\n",
       "        vertical-align: top;\n",
       "    }\n",
       "\n",
       "    .dataframe thead th {\n",
       "        text-align: right;\n",
       "    }\n",
       "</style>\n",
       "<table border=\"1\" class=\"dataframe\">\n",
       "  <thead>\n",
       "    <tr style=\"text-align: right;\">\n",
       "      <th></th>\n",
       "      <th>Administrative</th>\n",
       "      <th>Informational</th>\n",
       "      <th>ProductRelated</th>\n",
       "      <th>ExitRates</th>\n",
       "      <th>PageValues</th>\n",
       "      <th>SpecialDay</th>\n",
       "      <th>Month</th>\n",
       "      <th>Region</th>\n",
       "      <th>TrafficType</th>\n",
       "      <th>VisitorType</th>\n",
       "      <th>Weekend</th>\n",
       "    </tr>\n",
       "  </thead>\n",
       "  <tbody>\n",
       "    <tr>\n",
       "      <th>3339</th>\n",
       "      <td>0.0</td>\n",
       "      <td>0.0</td>\n",
       "      <td>4.0</td>\n",
       "      <td>0.050000</td>\n",
       "      <td>0.00000</td>\n",
       "      <td>0.0</td>\n",
       "      <td>6</td>\n",
       "      <td>1</td>\n",
       "      <td>1</td>\n",
       "      <td>2</td>\n",
       "      <td>0</td>\n",
       "    </tr>\n",
       "    <tr>\n",
       "      <th>10953</th>\n",
       "      <td>0.0</td>\n",
       "      <td>0.0</td>\n",
       "      <td>1.0</td>\n",
       "      <td>0.200000</td>\n",
       "      <td>0.00000</td>\n",
       "      <td>0.0</td>\n",
       "      <td>1</td>\n",
       "      <td>2</td>\n",
       "      <td>1</td>\n",
       "      <td>2</td>\n",
       "      <td>0</td>\n",
       "    </tr>\n",
       "    <tr>\n",
       "      <th>8536</th>\n",
       "      <td>0.0</td>\n",
       "      <td>0.0</td>\n",
       "      <td>1.0</td>\n",
       "      <td>0.200000</td>\n",
       "      <td>0.00000</td>\n",
       "      <td>0.0</td>\n",
       "      <td>7</td>\n",
       "      <td>2</td>\n",
       "      <td>2</td>\n",
       "      <td>2</td>\n",
       "      <td>0</td>\n",
       "    </tr>\n",
       "    <tr>\n",
       "      <th>7766</th>\n",
       "      <td>6.0</td>\n",
       "      <td>0.0</td>\n",
       "      <td>11.0</td>\n",
       "      <td>0.040000</td>\n",
       "      <td>0.00000</td>\n",
       "      <td>0.0</td>\n",
       "      <td>7</td>\n",
       "      <td>0</td>\n",
       "      <td>2</td>\n",
       "      <td>2</td>\n",
       "      <td>0</td>\n",
       "    </tr>\n",
       "    <tr>\n",
       "      <th>8280</th>\n",
       "      <td>5.0</td>\n",
       "      <td>0.0</td>\n",
       "      <td>17.0</td>\n",
       "      <td>0.022222</td>\n",
       "      <td>0.00000</td>\n",
       "      <td>0.0</td>\n",
       "      <td>1</td>\n",
       "      <td>1</td>\n",
       "      <td>12</td>\n",
       "      <td>2</td>\n",
       "      <td>0</td>\n",
       "    </tr>\n",
       "    <tr>\n",
       "      <th>...</th>\n",
       "      <td>...</td>\n",
       "      <td>...</td>\n",
       "      <td>...</td>\n",
       "      <td>...</td>\n",
       "      <td>...</td>\n",
       "      <td>...</td>\n",
       "      <td>...</td>\n",
       "      <td>...</td>\n",
       "      <td>...</td>\n",
       "      <td>...</td>\n",
       "      <td>...</td>\n",
       "    </tr>\n",
       "    <tr>\n",
       "      <th>10955</th>\n",
       "      <td>4.0</td>\n",
       "      <td>0.0</td>\n",
       "      <td>6.0</td>\n",
       "      <td>0.012500</td>\n",
       "      <td>0.00000</td>\n",
       "      <td>0.0</td>\n",
       "      <td>1</td>\n",
       "      <td>2</td>\n",
       "      <td>7</td>\n",
       "      <td>0</td>\n",
       "      <td>0</td>\n",
       "    </tr>\n",
       "    <tr>\n",
       "      <th>905</th>\n",
       "      <td>3.0</td>\n",
       "      <td>5.0</td>\n",
       "      <td>43.0</td>\n",
       "      <td>0.011667</td>\n",
       "      <td>3.31108</td>\n",
       "      <td>0.0</td>\n",
       "      <td>5</td>\n",
       "      <td>0</td>\n",
       "      <td>0</td>\n",
       "      <td>2</td>\n",
       "      <td>1</td>\n",
       "    </tr>\n",
       "    <tr>\n",
       "      <th>5192</th>\n",
       "      <td>1.0</td>\n",
       "      <td>0.0</td>\n",
       "      <td>49.0</td>\n",
       "      <td>0.048014</td>\n",
       "      <td>0.00000</td>\n",
       "      <td>0.2</td>\n",
       "      <td>6</td>\n",
       "      <td>0</td>\n",
       "      <td>3</td>\n",
       "      <td>2</td>\n",
       "      <td>0</td>\n",
       "    </tr>\n",
       "    <tr>\n",
       "      <th>12172</th>\n",
       "      <td>2.0</td>\n",
       "      <td>0.0</td>\n",
       "      <td>70.0</td>\n",
       "      <td>0.027791</td>\n",
       "      <td>0.00000</td>\n",
       "      <td>0.0</td>\n",
       "      <td>7</td>\n",
       "      <td>2</td>\n",
       "      <td>7</td>\n",
       "      <td>2</td>\n",
       "      <td>0</td>\n",
       "    </tr>\n",
       "    <tr>\n",
       "      <th>235</th>\n",
       "      <td>3.0</td>\n",
       "      <td>5.0</td>\n",
       "      <td>7.0</td>\n",
       "      <td>0.014082</td>\n",
       "      <td>0.00000</td>\n",
       "      <td>0.0</td>\n",
       "      <td>5</td>\n",
       "      <td>1</td>\n",
       "      <td>1</td>\n",
       "      <td>2</td>\n",
       "      <td>0</td>\n",
       "    </tr>\n",
       "  </tbody>\n",
       "</table>\n",
       "<p>9864 rows × 11 columns</p>\n",
       "</div>"
      ],
      "text/plain": [
       "       Administrative  Informational  ProductRelated  ExitRates  PageValues  \\\n",
       "3339              0.0            0.0             4.0   0.050000     0.00000   \n",
       "10953             0.0            0.0             1.0   0.200000     0.00000   \n",
       "8536              0.0            0.0             1.0   0.200000     0.00000   \n",
       "7766              6.0            0.0            11.0   0.040000     0.00000   \n",
       "8280              5.0            0.0            17.0   0.022222     0.00000   \n",
       "...               ...            ...             ...        ...         ...   \n",
       "10955             4.0            0.0             6.0   0.012500     0.00000   \n",
       "905               3.0            5.0            43.0   0.011667     3.31108   \n",
       "5192              1.0            0.0            49.0   0.048014     0.00000   \n",
       "12172             2.0            0.0            70.0   0.027791     0.00000   \n",
       "235               3.0            5.0             7.0   0.014082     0.00000   \n",
       "\n",
       "       SpecialDay  Month  Region  TrafficType  VisitorType  Weekend  \n",
       "3339          0.0      6       1            1            2        0  \n",
       "10953         0.0      1       2            1            2        0  \n",
       "8536          0.0      7       2            2            2        0  \n",
       "7766          0.0      7       0            2            2        0  \n",
       "8280          0.0      1       1           12            2        0  \n",
       "...           ...    ...     ...          ...          ...      ...  \n",
       "10955         0.0      1       2            7            0        0  \n",
       "905           0.0      5       0            0            2        1  \n",
       "5192          0.2      6       0            3            2        0  \n",
       "12172         0.0      7       2            7            2        0  \n",
       "235           0.0      5       1            1            2        0  \n",
       "\n",
       "[9864 rows x 11 columns]"
      ]
     },
     "metadata": {},
     "output_type": "display_data"
    },
    {
     "data": {
      "text/plain": [
       "3339     0\n",
       "10953    0\n",
       "8536     0\n",
       "7766     0\n",
       "8280     0\n",
       "        ..\n",
       "10955    0\n",
       "905      1\n",
       "5192     0\n",
       "12172    1\n",
       "235      0\n",
       "Name: Revenue, Length: 9864, dtype: int64"
      ]
     },
     "metadata": {},
     "output_type": "display_data"
    }
   ],
   "source": [
    "display(X_train)\n",
    "display(y_train)"
   ]
  },
  {
   "cell_type": "code",
   "execution_count": 14,
   "metadata": {},
   "outputs": [
    {
     "data": {
      "text/html": [
       "<div>\n",
       "<style scoped>\n",
       "    .dataframe tbody tr th:only-of-type {\n",
       "        vertical-align: middle;\n",
       "    }\n",
       "\n",
       "    .dataframe tbody tr th {\n",
       "        vertical-align: top;\n",
       "    }\n",
       "\n",
       "    .dataframe thead th {\n",
       "        text-align: right;\n",
       "    }\n",
       "</style>\n",
       "<table border=\"1\" class=\"dataframe\">\n",
       "  <thead>\n",
       "    <tr style=\"text-align: right;\">\n",
       "      <th></th>\n",
       "      <th>Administrative</th>\n",
       "      <th>Informational</th>\n",
       "      <th>ProductRelated</th>\n",
       "      <th>ExitRates</th>\n",
       "      <th>PageValues</th>\n",
       "      <th>SpecialDay</th>\n",
       "      <th>Month</th>\n",
       "      <th>Region</th>\n",
       "      <th>TrafficType</th>\n",
       "      <th>VisitorType</th>\n",
       "      <th>Weekend</th>\n",
       "    </tr>\n",
       "  </thead>\n",
       "  <tbody>\n",
       "    <tr>\n",
       "      <th>5487</th>\n",
       "      <td>0.0</td>\n",
       "      <td>0.0</td>\n",
       "      <td>1.0</td>\n",
       "      <td>0.200000</td>\n",
       "      <td>0.000000</td>\n",
       "      <td>0.0</td>\n",
       "      <td>3</td>\n",
       "      <td>1</td>\n",
       "      <td>4</td>\n",
       "      <td>0</td>\n",
       "      <td>1</td>\n",
       "    </tr>\n",
       "    <tr>\n",
       "      <th>7736</th>\n",
       "      <td>5.0</td>\n",
       "      <td>0.0</td>\n",
       "      <td>34.0</td>\n",
       "      <td>0.030247</td>\n",
       "      <td>8.041078</td>\n",
       "      <td>0.0</td>\n",
       "      <td>0</td>\n",
       "      <td>0</td>\n",
       "      <td>0</td>\n",
       "      <td>2</td>\n",
       "      <td>0</td>\n",
       "    </tr>\n",
       "    <tr>\n",
       "      <th>5310</th>\n",
       "      <td>0.0</td>\n",
       "      <td>0.0</td>\n",
       "      <td>2.0</td>\n",
       "      <td>0.050000</td>\n",
       "      <td>0.000000</td>\n",
       "      <td>0.0</td>\n",
       "      <td>6</td>\n",
       "      <td>0</td>\n",
       "      <td>2</td>\n",
       "      <td>2</td>\n",
       "      <td>0</td>\n",
       "    </tr>\n",
       "    <tr>\n",
       "      <th>2982</th>\n",
       "      <td>2.0</td>\n",
       "      <td>0.0</td>\n",
       "      <td>20.0</td>\n",
       "      <td>0.003333</td>\n",
       "      <td>0.000000</td>\n",
       "      <td>0.0</td>\n",
       "      <td>6</td>\n",
       "      <td>0</td>\n",
       "      <td>1</td>\n",
       "      <td>2</td>\n",
       "      <td>1</td>\n",
       "    </tr>\n",
       "    <tr>\n",
       "      <th>662</th>\n",
       "      <td>4.0</td>\n",
       "      <td>0.0</td>\n",
       "      <td>8.0</td>\n",
       "      <td>0.010000</td>\n",
       "      <td>0.000000</td>\n",
       "      <td>0.0</td>\n",
       "      <td>5</td>\n",
       "      <td>0</td>\n",
       "      <td>7</td>\n",
       "      <td>0</td>\n",
       "      <td>1</td>\n",
       "    </tr>\n",
       "    <tr>\n",
       "      <th>...</th>\n",
       "      <td>...</td>\n",
       "      <td>...</td>\n",
       "      <td>...</td>\n",
       "      <td>...</td>\n",
       "      <td>...</td>\n",
       "      <td>...</td>\n",
       "      <td>...</td>\n",
       "      <td>...</td>\n",
       "      <td>...</td>\n",
       "      <td>...</td>\n",
       "      <td>...</td>\n",
       "    </tr>\n",
       "    <tr>\n",
       "      <th>6688</th>\n",
       "      <td>3.0</td>\n",
       "      <td>0.0</td>\n",
       "      <td>11.0</td>\n",
       "      <td>0.004444</td>\n",
       "      <td>0.000000</td>\n",
       "      <td>0.0</td>\n",
       "      <td>3</td>\n",
       "      <td>0</td>\n",
       "      <td>2</td>\n",
       "      <td>0</td>\n",
       "      <td>0</td>\n",
       "    </tr>\n",
       "    <tr>\n",
       "      <th>1305</th>\n",
       "      <td>0.0</td>\n",
       "      <td>0.0</td>\n",
       "      <td>5.0</td>\n",
       "      <td>0.160000</td>\n",
       "      <td>0.000000</td>\n",
       "      <td>0.0</td>\n",
       "      <td>5</td>\n",
       "      <td>0</td>\n",
       "      <td>0</td>\n",
       "      <td>2</td>\n",
       "      <td>0</td>\n",
       "    </tr>\n",
       "    <tr>\n",
       "      <th>4434</th>\n",
       "      <td>3.0</td>\n",
       "      <td>0.0</td>\n",
       "      <td>37.0</td>\n",
       "      <td>0.030511</td>\n",
       "      <td>7.941532</td>\n",
       "      <td>0.0</td>\n",
       "      <td>6</td>\n",
       "      <td>0</td>\n",
       "      <td>1</td>\n",
       "      <td>2</td>\n",
       "      <td>0</td>\n",
       "    </tr>\n",
       "    <tr>\n",
       "      <th>9358</th>\n",
       "      <td>0.0</td>\n",
       "      <td>0.0</td>\n",
       "      <td>10.0</td>\n",
       "      <td>0.050000</td>\n",
       "      <td>0.000000</td>\n",
       "      <td>0.0</td>\n",
       "      <td>7</td>\n",
       "      <td>8</td>\n",
       "      <td>1</td>\n",
       "      <td>0</td>\n",
       "      <td>1</td>\n",
       "    </tr>\n",
       "    <tr>\n",
       "      <th>5424</th>\n",
       "      <td>1.0</td>\n",
       "      <td>0.0</td>\n",
       "      <td>36.0</td>\n",
       "      <td>0.005882</td>\n",
       "      <td>0.000000</td>\n",
       "      <td>0.0</td>\n",
       "      <td>6</td>\n",
       "      <td>5</td>\n",
       "      <td>2</td>\n",
       "      <td>2</td>\n",
       "      <td>0</td>\n",
       "    </tr>\n",
       "  </tbody>\n",
       "</table>\n",
       "<p>2466 rows × 11 columns</p>\n",
       "</div>"
      ],
      "text/plain": [
       "      Administrative  Informational  ProductRelated  ExitRates  PageValues  \\\n",
       "5487             0.0            0.0             1.0   0.200000    0.000000   \n",
       "7736             5.0            0.0            34.0   0.030247    8.041078   \n",
       "5310             0.0            0.0             2.0   0.050000    0.000000   \n",
       "2982             2.0            0.0            20.0   0.003333    0.000000   \n",
       "662              4.0            0.0             8.0   0.010000    0.000000   \n",
       "...              ...            ...             ...        ...         ...   \n",
       "6688             3.0            0.0            11.0   0.004444    0.000000   \n",
       "1305             0.0            0.0             5.0   0.160000    0.000000   \n",
       "4434             3.0            0.0            37.0   0.030511    7.941532   \n",
       "9358             0.0            0.0            10.0   0.050000    0.000000   \n",
       "5424             1.0            0.0            36.0   0.005882    0.000000   \n",
       "\n",
       "      SpecialDay  Month  Region  TrafficType  VisitorType  Weekend  \n",
       "5487         0.0      3       1            4            0        1  \n",
       "7736         0.0      0       0            0            2        0  \n",
       "5310         0.0      6       0            2            2        0  \n",
       "2982         0.0      6       0            1            2        1  \n",
       "662          0.0      5       0            7            0        1  \n",
       "...          ...    ...     ...          ...          ...      ...  \n",
       "6688         0.0      3       0            2            0        0  \n",
       "1305         0.0      5       0            0            2        0  \n",
       "4434         0.0      6       0            1            2        0  \n",
       "9358         0.0      7       8            1            0        1  \n",
       "5424         0.0      6       5            2            2        0  \n",
       "\n",
       "[2466 rows x 11 columns]"
      ]
     },
     "metadata": {},
     "output_type": "display_data"
    },
    {
     "data": {
      "text/plain": [
       "5487    0\n",
       "7736    1\n",
       "5310    0\n",
       "2982    0\n",
       "662     0\n",
       "       ..\n",
       "6688    0\n",
       "1305    0\n",
       "4434    0\n",
       "9358    0\n",
       "5424    0\n",
       "Name: Revenue, Length: 2466, dtype: int64"
      ]
     },
     "metadata": {},
     "output_type": "display_data"
    }
   ],
   "source": [
    "display(X_test)\n",
    "display(y_test)"
   ]
  },
  {
   "cell_type": "markdown",
   "metadata": {},
   "source": [
    "## Resample"
   ]
  },
  {
   "cell_type": "code",
   "execution_count": 15,
   "metadata": {},
   "outputs": [],
   "source": [
    "from imblearn.over_sampling import RandomOverSampler, SMOTE\n",
    "from imblearn.under_sampling import RandomUnderSampler"
   ]
  },
  {
   "cell_type": "markdown",
   "metadata": {},
   "source": [
    "### Oversampling"
   ]
  },
  {
   "cell_type": "code",
   "execution_count": 16,
   "metadata": {},
   "outputs": [
    {
     "data": {
      "text/plain": [
       "0    8307\n",
       "1    1557\n",
       "Name: Revenue, dtype: int64"
      ]
     },
     "metadata": {},
     "output_type": "display_data"
    },
    {
     "data": {
      "text/plain": [
       "1    8307\n",
       "0    8307\n",
       "Name: Revenue, dtype: int64"
      ]
     },
     "metadata": {},
     "output_type": "display_data"
    },
    {
     "data": {
      "text/plain": [
       "0    2115\n",
       "1     351\n",
       "Name: Revenue, dtype: int64"
      ]
     },
     "metadata": {},
     "output_type": "display_data"
    }
   ],
   "source": [
    "ros = RandomOverSampler(random_state=1)\n",
    "X_ros, y_ros = ros.fit_resample(X_train, y_train)\n",
    "\n",
    "display(y_train.value_counts())\n",
    "display(y_ros.value_counts())\n",
    "display(y_test.value_counts())"
   ]
  },
  {
   "cell_type": "markdown",
   "metadata": {},
   "source": [
    "### SMOTE"
   ]
  },
  {
   "cell_type": "code",
   "execution_count": 17,
   "metadata": {},
   "outputs": [
    {
     "data": {
      "text/plain": [
       "0    8307\n",
       "1    1557\n",
       "Name: Revenue, dtype: int64"
      ]
     },
     "metadata": {},
     "output_type": "display_data"
    },
    {
     "data": {
      "text/plain": [
       "1    8307\n",
       "0    8307\n",
       "Name: Revenue, dtype: int64"
      ]
     },
     "metadata": {},
     "output_type": "display_data"
    },
    {
     "data": {
      "text/plain": [
       "0    2115\n",
       "1     351\n",
       "Name: Revenue, dtype: int64"
      ]
     },
     "metadata": {},
     "output_type": "display_data"
    }
   ],
   "source": [
    "smo = SMOTE(random_state=1)\n",
    "X_smo, y_smo = smo.fit_resample(X_train, y_train)\n",
    "\n",
    "display(y_train.value_counts())\n",
    "display(y_smo.value_counts())\n",
    "display(y_test.value_counts())"
   ]
  },
  {
   "cell_type": "markdown",
   "metadata": {},
   "source": [
    "### Undersampling"
   ]
  },
  {
   "cell_type": "code",
   "execution_count": 18,
   "metadata": {},
   "outputs": [
    {
     "data": {
      "text/plain": [
       "0    8307\n",
       "1    1557\n",
       "Name: Revenue, dtype: int64"
      ]
     },
     "metadata": {},
     "output_type": "display_data"
    },
    {
     "data": {
      "text/plain": [
       "1    1557\n",
       "0    1557\n",
       "Name: Revenue, dtype: int64"
      ]
     },
     "metadata": {},
     "output_type": "display_data"
    },
    {
     "data": {
      "text/plain": [
       "0    2115\n",
       "1     351\n",
       "Name: Revenue, dtype: int64"
      ]
     },
     "metadata": {},
     "output_type": "display_data"
    }
   ],
   "source": [
    "rus = RandomUnderSampler(random_state=1)\n",
    "X_rus, y_rus = rus.fit_resample(X_train, y_train)\n",
    "\n",
    "display(y_train.value_counts())\n",
    "display(y_rus.value_counts())\n",
    "display(y_test.value_counts())"
   ]
  },
  {
   "cell_type": "markdown",
   "metadata": {},
   "source": [
    "## 1. Logistic Regression"
   ]
  },
  {
   "cell_type": "code",
   "execution_count": 19,
   "metadata": {
    "scrolled": true
   },
   "outputs": [
    {
     "name": "stderr",
     "output_type": "stream",
     "text": [
      "C:\\Users\\Asyraf\\anaconda3\\lib\\site-packages\\sklearn\\linear_model\\_logistic.py:764: ConvergenceWarning: lbfgs failed to converge (status=1):\n",
      "STOP: TOTAL NO. of ITERATIONS REACHED LIMIT.\n",
      "\n",
      "Increase the number of iterations (max_iter) or scale the data as shown in:\n",
      "    https://scikit-learn.org/stable/modules/preprocessing.html\n",
      "Please also refer to the documentation for alternative solver options:\n",
      "    https://scikit-learn.org/stable/modules/linear_model.html#logistic-regression\n",
      "  extra_warning_msg=_LOGISTIC_SOLVER_CONVERGENCE_MSG)\n"
     ]
    },
    {
     "data": {
      "text/plain": [
       "<sklearn.metrics._plot.confusion_matrix.ConfusionMatrixDisplay at 0x21117584908>"
      ]
     },
     "execution_count": 19,
     "metadata": {},
     "output_type": "execute_result"
    },
    {
     "data": {
      "image/png": "[encoded data removed]",
      "text/plain": [
       "<Figure size 432x288 with 2 Axes>"
      ]
     },
     "metadata": {
      "needs_background": "light"
     },
     "output_type": "display_data"
    }
   ],
   "source": [
    "log = LogisticRegression(random_state=1)\n",
    "log.fit(X_train, y_train)\n",
    "# print('Slope/Coef:', log.coef_[0][0])\n",
    "# print('C/Intercept:', log.intercept_[0])\n",
    "\n",
    "log_pred = log.predict(X_test)\n",
    "log_proba = log.predict_proba(X_test)\n",
    "\n",
    "confusion_matrix(y_test, log_pred)\n",
    "\n",
    "plot_confusion_matrix(log, X_test, y_test)"
   ]
  },
  {
   "cell_type": "code",
   "execution_count": 20,
   "metadata": {
    "scrolled": true
   },
   "outputs": [
    {
     "name": "stderr",
     "output_type": "stream",
     "text": [
      "C:\\Users\\Asyraf\\anaconda3\\lib\\site-packages\\sklearn\\linear_model\\_logistic.py:764: ConvergenceWarning: lbfgs failed to converge (status=1):\n",
      "STOP: TOTAL NO. of ITERATIONS REACHED LIMIT.\n",
      "\n",
      "Increase the number of iterations (max_iter) or scale the data as shown in:\n",
      "    https://scikit-learn.org/stable/modules/preprocessing.html\n",
      "Please also refer to the documentation for alternative solver options:\n",
      "    https://scikit-learn.org/stable/modules/linear_model.html#logistic-regression\n",
      "  extra_warning_msg=_LOGISTIC_SOLVER_CONVERGENCE_MSG)\n"
     ]
    },
    {
     "data": {
      "text/plain": [
       "<sklearn.metrics._plot.confusion_matrix.ConfusionMatrixDisplay at 0x211175b4c48>"
      ]
     },
     "execution_count": 20,
     "metadata": {},
     "output_type": "execute_result"
    },
    {
     "data": {
      "image/png": "[encoded data removed]",
      "text/plain": [
       "<Figure size 432x288 with 2 Axes>"
      ]
     },
     "metadata": {
      "needs_background": "light"
     },
     "output_type": "display_data"
    }
   ],
   "source": [
    "# Dengan Oversampling\n",
    "log_ros = LogisticRegression(random_state=1)\n",
    "log_ros.fit(X_ros, y_ros)\n",
    "# print('Slope/Coef:', log.coef_[0][0])\n",
    "# print('C/Intercept:', log.intercept_[0])\n",
    "\n",
    "log_ros_pred = log_ros.predict(X_test)\n",
    "log_ros_proba = log_ros.predict_proba(X_test)\n",
    "\n",
    "confusion_matrix(y_test, log_ros_pred)\n",
    "\n",
    "plot_confusion_matrix(log_ros, X_test, y_test)"
   ]
  },
  {
   "cell_type": "code",
   "execution_count": 21,
   "metadata": {},
   "outputs": [
    {
     "name": "stderr",
     "output_type": "stream",
     "text": [
      "C:\\Users\\Asyraf\\anaconda3\\lib\\site-packages\\sklearn\\linear_model\\_logistic.py:764: ConvergenceWarning: lbfgs failed to converge (status=1):\n",
      "STOP: TOTAL NO. of ITERATIONS REACHED LIMIT.\n",
      "\n",
      "Increase the number of iterations (max_iter) or scale the data as shown in:\n",
      "    https://scikit-learn.org/stable/modules/preprocessing.html\n",
      "Please also refer to the documentation for alternative solver options:\n",
      "    https://scikit-learn.org/stable/modules/linear_model.html#logistic-regression\n",
      "  extra_warning_msg=_LOGISTIC_SOLVER_CONVERGENCE_MSG)\n"
     ]
    },
    {
     "data": {
      "text/plain": [
       "<sklearn.metrics._plot.confusion_matrix.ConfusionMatrixDisplay at 0x211175d1f88>"
      ]
     },
     "execution_count": 21,
     "metadata": {},
     "output_type": "execute_result"
    },
    {
     "data": {
      "image/png": "[encoded data removed]",
      "text/plain": [
       "<Figure size 432x288 with 2 Axes>"
      ]
     },
     "metadata": {
      "needs_background": "light"
     },
     "output_type": "display_data"
    }
   ],
   "source": [
    "# Dengan SMOTE\n",
    "log_smo = LogisticRegression(random_state=1)\n",
    "log_smo.fit(X_smo, y_smo)\n",
    "# print('Slope/Coef:', log.coef_[0][0])\n",
    "# print('C/Intercept:', log.intercept_[0])\n",
    "\n",
    "log_smo_pred = log_smo.predict(X_test)\n",
    "log_smo_proba = log_smo.predict_proba(X_test)\n",
    "\n",
    "confusion_matrix(y_test, log_smo_pred)\n",
    "\n",
    "plot_confusion_matrix(log_smo, X_test, y_test)"
   ]
  },
  {
   "cell_type": "code",
   "execution_count": 22,
   "metadata": {
    "scrolled": false
   },
   "outputs": [
    {
     "name": "stderr",
     "output_type": "stream",
     "text": [
      "C:\\Users\\Asyraf\\anaconda3\\lib\\site-packages\\sklearn\\linear_model\\_logistic.py:764: ConvergenceWarning: lbfgs failed to converge (status=1):\n",
      "STOP: TOTAL NO. of ITERATIONS REACHED LIMIT.\n",
      "\n",
      "Increase the number of iterations (max_iter) or scale the data as shown in:\n",
      "    https://scikit-learn.org/stable/modules/preprocessing.html\n",
      "Please also refer to the documentation for alternative solver options:\n",
      "    https://scikit-learn.org/stable/modules/linear_model.html#logistic-regression\n",
      "  extra_warning_msg=_LOGISTIC_SOLVER_CONVERGENCE_MSG)\n"
     ]
    },
    {
     "data": {
      "text/plain": [
       "<sklearn.metrics._plot.confusion_matrix.ConfusionMatrixDisplay at 0x21118ebf608>"
      ]
     },
     "execution_count": 22,
     "metadata": {},
     "output_type": "execute_result"
    },
    {
     "data": {
      "image/png": "[encoded data removed]",
      "text/plain": [
       "<Figure size 432x288 with 2 Axes>"
      ]
     },
     "metadata": {
      "needs_background": "light"
     },
     "output_type": "display_data"
    }
   ],
   "source": [
    "# Dengan Undersampling\n",
    "log_rus = LogisticRegression(random_state=1)\n",
    "log_rus.fit(X_rus, y_rus)\n",
    "# print('Slope/Coef:', log.coef_[0][0])\n",
    "# print('C/Intercept:', log.intercept_[0])\n",
    "\n",
    "log_rus_pred = log_rus.predict(X_test)\n",
    "log_rus_proba = log_rus.predict_proba(X_test)\n",
    "\n",
    "confusion_matrix(y_test, log_rus_pred)\n",
    "\n",
    "plot_confusion_matrix(log_rus, X_test, y_test)"
   ]
  },
  {
   "cell_type": "markdown",
   "metadata": {},
   "source": [
    "Dengan **Logistic Regression** dan tanpa metode **Resample** dihasilkan nilai Precision (+) dan Recall (-) nya tertinggi. Precision(+) = TP / (TP+FP) , Recall(-) = TN / (TN+FP). Nilai Accuracy tidak menjadi perhatian utama karena jumlah data target featurenya (Revenue True dan Revenue False) tidak balanced (jauh lebih banyak Revenue False)."
   ]
  },
  {
   "cell_type": "code",
   "execution_count": 23,
   "metadata": {},
   "outputs": [
    {
     "data": {
      "text/plain": [
       "array([[2061,   54],\n",
       "       [ 219,  132]], dtype=int64)"
      ]
     },
     "metadata": {},
     "output_type": "display_data"
    },
    {
     "name": "stdout",
     "output_type": "stream",
     "text": [
      "                 precision    recall  f1-score   support\n",
      "\n",
      "0/-/Not Revenue       0.90      0.97      0.94      2115\n",
      "    1/+/Revenue       0.71      0.38      0.49       351\n",
      "\n",
      "       accuracy                           0.89      2466\n",
      "      macro avg       0.81      0.68      0.71      2466\n",
      "   weighted avg       0.88      0.89      0.87      2466\n",
      "\n"
     ]
    }
   ],
   "source": [
    "display(confusion_matrix(y_test, log_pred))\n",
    "print(classification_report(y_test, log_pred, target_names=['0/-/Not Revenue', '1/+/Revenue']))"
   ]
  },
  {
   "cell_type": "code",
   "execution_count": 24,
   "metadata": {},
   "outputs": [
    {
     "data": {
      "text/plain": [
       "0    2115\n",
       "1     351\n",
       "Name: Revenue, dtype: int64"
      ]
     },
     "execution_count": 24,
     "metadata": {},
     "output_type": "execute_result"
    }
   ],
   "source": [
    "y_test.value_counts()\n",
    "# TN + FP = 2062 + 53 = 2115\n",
    "# FN + TP = 216 + 135 = 351"
   ]
  },
  {
   "cell_type": "code",
   "execution_count": 25,
   "metadata": {},
   "outputs": [
    {
     "data": {
      "text/plain": [
       "2061"
      ]
     },
     "execution_count": 25,
     "metadata": {},
     "output_type": "execute_result"
    }
   ],
   "source": [
    "confusion_matrix(y_test, log_pred)[0][0]"
   ]
  },
  {
   "cell_type": "code",
   "execution_count": 26,
   "metadata": {},
   "outputs": [
    {
     "data": {
      "text/html": [
       "<div>\n",
       "<style scoped>\n",
       "    .dataframe tbody tr th:only-of-type {\n",
       "        vertical-align: middle;\n",
       "    }\n",
       "\n",
       "    .dataframe tbody tr th {\n",
       "        vertical-align: top;\n",
       "    }\n",
       "\n",
       "    .dataframe thead th {\n",
       "        text-align: right;\n",
       "    }\n",
       "</style>\n",
       "<table border=\"1\" class=\"dataframe\">\n",
       "  <thead>\n",
       "    <tr style=\"text-align: right;\">\n",
       "      <th></th>\n",
       "      <th>precision_score(+)</th>\n",
       "      <th>recall_score(-)</th>\n",
       "      <th>conf_matrix (TN, FP, FN, TP)</th>\n",
       "    </tr>\n",
       "  </thead>\n",
       "  <tbody>\n",
       "    <tr>\n",
       "      <th>Logistic Regression No Resample</th>\n",
       "      <td>0.709677</td>\n",
       "      <td>0.974468</td>\n",
       "      <td>[2061, 54, 219, 132]</td>\n",
       "    </tr>\n",
       "    <tr>\n",
       "      <th>Logistic Regression With Oversampling</th>\n",
       "      <td>0.565502</td>\n",
       "      <td>0.90591</td>\n",
       "      <td>[1916, 199, 92, 259]</td>\n",
       "    </tr>\n",
       "    <tr>\n",
       "      <th>Logistic Regression With SMOTE</th>\n",
       "      <td>0.537832</td>\n",
       "      <td>0.893144</td>\n",
       "      <td>[1889, 226, 88, 263]</td>\n",
       "    </tr>\n",
       "    <tr>\n",
       "      <th>Logistic Regression With Undersampling</th>\n",
       "      <td>0.556025</td>\n",
       "      <td>0.900709</td>\n",
       "      <td>[1905, 210, 88, 263]</td>\n",
       "    </tr>\n",
       "  </tbody>\n",
       "</table>\n",
       "</div>"
      ],
      "text/plain": [
       "                                       precision_score(+) recall_score(-)  \\\n",
       "Logistic Regression No Resample                  0.709677        0.974468   \n",
       "Logistic Regression With Oversampling            0.565502         0.90591   \n",
       "Logistic Regression With SMOTE                   0.537832        0.893144   \n",
       "Logistic Regression With Undersampling           0.556025        0.900709   \n",
       "\n",
       "                                       conf_matrix (TN, FP, FN, TP)  \n",
       "Logistic Regression No Resample                [2061, 54, 219, 132]  \n",
       "Logistic Regression With Oversampling          [1916, 199, 92, 259]  \n",
       "Logistic Regression With SMOTE                 [1889, 226, 88, 263]  \n",
       "Logistic Regression With Undersampling         [1905, 210, 88, 263]  "
      ]
     },
     "execution_count": 26,
     "metadata": {},
     "output_type": "execute_result"
    }
   ],
   "source": [
    "log_model = pd.DataFrame({\n",
    "    \"Logistic Regression No Resample\": [precision_score(y_test, log_pred), recall_score(y_test, log_pred, pos_label=0), list(confusion_matrix(y_test, log_pred).ravel())],\n",
    "    \"Logistic Regression With Oversampling\": [precision_score(y_test, log_ros_pred), recall_score(y_test, log_ros_pred, pos_label=0), list(confusion_matrix(y_test, log_ros_pred).ravel())],\n",
    "    \"Logistic Regression With SMOTE\": [precision_score(y_test, log_smo_pred), recall_score(y_test, log_smo_pred, pos_label=0), list(confusion_matrix(y_test, log_smo_pred).ravel())],\n",
    "    \"Logistic Regression With Undersampling\": [precision_score(y_test, log_rus_pred), recall_score(y_test, log_rus_pred, pos_label=0), list(confusion_matrix(y_test, log_rus_pred).ravel())]\n",
    "}, index = ['precision_score(+)', 'recall_score(-)', 'conf_matrix (TN, FP, FN, TP)']).T\n",
    "log_model"
   ]
  },
  {
   "cell_type": "markdown",
   "metadata": {},
   "source": [
    "## 2. Decision Tree Classifier"
   ]
  },
  {
   "cell_type": "code",
   "execution_count": 27,
   "metadata": {},
   "outputs": [],
   "source": [
    "from sklearn.tree import DecisionTreeClassifier\n",
    "from sklearn import tree"
   ]
  },
  {
   "cell_type": "code",
   "execution_count": 28,
   "metadata": {
    "scrolled": true
   },
   "outputs": [
    {
     "data": {
      "text/plain": [
       "<sklearn.metrics._plot.confusion_matrix.ConfusionMatrixDisplay at 0x21118f5a548>"
      ]
     },
     "execution_count": 28,
     "metadata": {},
     "output_type": "execute_result"
    },
    {
     "data": {
      "image/png": "[encoded data removed]",
      "text/plain": [
       "<Figure size 432x288 with 2 Axes>"
      ]
     },
     "metadata": {
      "needs_background": "light"
     },
     "output_type": "display_data"
    }
   ],
   "source": [
    "dtr = DecisionTreeClassifier(random_state=8)\n",
    "dtr.fit(X_train, y_train)\n",
    "dtr_pred = dtr.predict(X_test)\n",
    "dtr_proba = dtr.predict_proba(X_test)\n",
    "\n",
    "confusion_matrix(y_test, dtr_pred)\n",
    "\n",
    "plot_confusion_matrix(dtr, X_test, y_test)"
   ]
  },
  {
   "cell_type": "code",
   "execution_count": 29,
   "metadata": {},
   "outputs": [
    {
     "data": {
      "text/plain": [
       "<sklearn.metrics._plot.confusion_matrix.ConfusionMatrixDisplay at 0x21119014d08>"
      ]
     },
     "execution_count": 29,
     "metadata": {},
     "output_type": "execute_result"
    },
    {
     "data": {
      "image/png": "[encoded data removed]",
      "text/plain": [
       "<Figure size 432x288 with 2 Axes>"
      ]
     },
     "metadata": {
      "needs_background": "light"
     },
     "output_type": "display_data"
    }
   ],
   "source": [
    "# Dengan Oversampling\n",
    "dtr_ros = DecisionTreeClassifier(random_state=9)\n",
    "dtr_ros.fit(X_ros, y_ros)\n",
    "\n",
    "dtr_ros_pred = dtr_ros.predict(X_test)\n",
    "dtr_ros_proba = dtr_ros.predict_proba(X_test)\n",
    "\n",
    "confusion_matrix(y_test, dtr_ros_pred)\n",
    "\n",
    "plot_confusion_matrix(dtr_ros, X_test, y_test)"
   ]
  },
  {
   "cell_type": "code",
   "execution_count": 30,
   "metadata": {},
   "outputs": [
    {
     "data": {
      "text/plain": [
       "<sklearn.metrics._plot.confusion_matrix.ConfusionMatrixDisplay at 0x211190d49c8>"
      ]
     },
     "execution_count": 30,
     "metadata": {},
     "output_type": "execute_result"
    },
    {
     "data": {
      "image/png": "[encoded data removed]",
      "text/plain": [
       "<Figure size 432x288 with 2 Axes>"
      ]
     },
     "metadata": {
      "needs_background": "light"
     },
     "output_type": "display_data"
    }
   ],
   "source": [
    "# Dengan SMOTE\n",
    "dtr_smo = DecisionTreeClassifier(random_state=5)\n",
    "dtr_smo.fit(X_smo, y_smo)\n",
    "\n",
    "dtr_smo_pred = dtr_smo.predict(X_test)\n",
    "dtr_smo_proba = dtr_smo.predict_proba(X_test)\n",
    "\n",
    "confusion_matrix(y_test, dtr_smo_pred)\n",
    "\n",
    "plot_confusion_matrix(dtr_smo, X_test, y_test)"
   ]
  },
  {
   "cell_type": "code",
   "execution_count": 31,
   "metadata": {},
   "outputs": [
    {
     "data": {
      "text/plain": [
       "<sklearn.metrics._plot.confusion_matrix.ConfusionMatrixDisplay at 0x211190bdd48>"
      ]
     },
     "execution_count": 31,
     "metadata": {},
     "output_type": "execute_result"
    },
    {
     "data": {
      "image/png": "[encoded data removed]",
      "text/plain": [
       "<Figure size 432x288 with 2 Axes>"
      ]
     },
     "metadata": {
      "needs_background": "light"
     },
     "output_type": "display_data"
    }
   ],
   "source": [
    "# Dengan Undersampling\n",
    "dtr_rus = DecisionTreeClassifier(random_state=10)\n",
    "dtr_rus.fit(X_rus, y_rus)\n",
    "\n",
    "dtr_rus_pred = dtr_rus.predict(X_test)\n",
    "dtr_rus_proba = dtr_rus.predict_proba(X_test)\n",
    "\n",
    "confusion_matrix(y_test, dtr_rus_pred)\n",
    "\n",
    "plot_confusion_matrix(dtr_rus, X_test, y_test)"
   ]
  },
  {
   "cell_type": "markdown",
   "metadata": {},
   "source": [
    "Dengan **Decision Tree Classifier** dan tanpa metode **Resample** dihasilkan nilai Precision (+) dan Recall (-) nya tertinggi. Precision(+) = TP / (TP+FP) , Recall(-) = TN / (TN+FP)"
   ]
  },
  {
   "cell_type": "code",
   "execution_count": 32,
   "metadata": {
    "scrolled": true
   },
   "outputs": [
    {
     "data": {
      "text/plain": [
       "array([[1933,  182],\n",
       "       [ 136,  215]], dtype=int64)"
      ]
     },
     "metadata": {},
     "output_type": "display_data"
    },
    {
     "name": "stdout",
     "output_type": "stream",
     "text": [
      "              precision    recall  f1-score   support\n",
      "\n",
      "           0       0.93      0.91      0.92      2115\n",
      "           1       0.54      0.61      0.57       351\n",
      "\n",
      "    accuracy                           0.87      2466\n",
      "   macro avg       0.74      0.76      0.75      2466\n",
      "weighted avg       0.88      0.87      0.87      2466\n",
      "\n"
     ]
    }
   ],
   "source": [
    "display(confusion_matrix(y_test, dtr_pred))\n",
    "print(classification_report(y_test, dtr_pred))"
   ]
  },
  {
   "cell_type": "code",
   "execution_count": 33,
   "metadata": {},
   "outputs": [
    {
     "data": {
      "text/html": [
       "<div>\n",
       "<style scoped>\n",
       "    .dataframe tbody tr th:only-of-type {\n",
       "        vertical-align: middle;\n",
       "    }\n",
       "\n",
       "    .dataframe tbody tr th {\n",
       "        vertical-align: top;\n",
       "    }\n",
       "\n",
       "    .dataframe thead th {\n",
       "        text-align: right;\n",
       "    }\n",
       "</style>\n",
       "<table border=\"1\" class=\"dataframe\">\n",
       "  <thead>\n",
       "    <tr style=\"text-align: right;\">\n",
       "      <th></th>\n",
       "      <th>precision_score(+)</th>\n",
       "      <th>recall_score(-)</th>\n",
       "      <th>conf_matrix (TN, FP, FN, TP)</th>\n",
       "    </tr>\n",
       "  </thead>\n",
       "  <tbody>\n",
       "    <tr>\n",
       "      <th>Decision Tree No Resample</th>\n",
       "      <td>0.541562</td>\n",
       "      <td>0.913948</td>\n",
       "      <td>[1933, 182, 136, 215]</td>\n",
       "    </tr>\n",
       "    <tr>\n",
       "      <th>Decision Tree With Oversampling</th>\n",
       "      <td>0.54039</td>\n",
       "      <td>0.921986</td>\n",
       "      <td>[1950, 165, 157, 194]</td>\n",
       "    </tr>\n",
       "    <tr>\n",
       "      <th>Decision Tree With SMOTE</th>\n",
       "      <td>0.48307</td>\n",
       "      <td>0.891726</td>\n",
       "      <td>[1886, 229, 137, 214]</td>\n",
       "    </tr>\n",
       "    <tr>\n",
       "      <th>Decision Tree With Undersampling</th>\n",
       "      <td>0.389205</td>\n",
       "      <td>0.79669</td>\n",
       "      <td>[1685, 430, 77, 274]</td>\n",
       "    </tr>\n",
       "  </tbody>\n",
       "</table>\n",
       "</div>"
      ],
      "text/plain": [
       "                                 precision_score(+) recall_score(-)  \\\n",
       "Decision Tree No Resample                  0.541562        0.913948   \n",
       "Decision Tree With Oversampling             0.54039        0.921986   \n",
       "Decision Tree With SMOTE                    0.48307        0.891726   \n",
       "Decision Tree With Undersampling           0.389205         0.79669   \n",
       "\n",
       "                                 conf_matrix (TN, FP, FN, TP)  \n",
       "Decision Tree No Resample               [1933, 182, 136, 215]  \n",
       "Decision Tree With Oversampling         [1950, 165, 157, 194]  \n",
       "Decision Tree With SMOTE                [1886, 229, 137, 214]  \n",
       "Decision Tree With Undersampling         [1685, 430, 77, 274]  "
      ]
     },
     "execution_count": 33,
     "metadata": {},
     "output_type": "execute_result"
    }
   ],
   "source": [
    "dtr_model = pd.DataFrame({\n",
    "    \"Decision Tree No Resample\": [precision_score(y_test, dtr_pred), recall_score(y_test, dtr_pred, pos_label=0), list(confusion_matrix(y_test, dtr_pred).ravel())],\n",
    "    \"Decision Tree With Oversampling\": [precision_score(y_test, dtr_ros_pred), recall_score(y_test, dtr_ros_pred, pos_label=0), list(confusion_matrix(y_test, dtr_ros_pred).ravel())],\n",
    "    \"Decision Tree With SMOTE\": [precision_score(y_test, dtr_smo_pred), recall_score(y_test, dtr_smo_pred, pos_label=0), list(confusion_matrix(y_test, dtr_smo_pred).ravel())],\n",
    "    \"Decision Tree With Undersampling\": [precision_score(y_test, dtr_rus_pred), recall_score(y_test, dtr_rus_pred, pos_label=0), list(confusion_matrix(y_test, dtr_rus_pred).ravel())]\n",
    "}, index = ['precision_score(+)', 'recall_score(-)', 'conf_matrix (TN, FP, FN, TP)']).T\n",
    "dtr_model"
   ]
  },
  {
   "cell_type": "code",
   "execution_count": 34,
   "metadata": {},
   "outputs": [],
   "source": [
    "# from sklearn import tree\n",
    "# tree.export_graphviz(dtr, out_file = 'dtr_olshop.dot', feature_names=X_train.columns,\n",
    "#                     class_names=['Revenue False', 'Revenue True'])\n",
    "\n",
    "# cek file yg bernama titanic.dot di folder yang sama\n",
    "# lalu copy semua codes yang ada di dalamnya dan paste di https://dreampuf.github.io/GraphvizOnline/ untuk melihat gambar tree nya\n",
    "# lalu klik kanan pada gambar untuk download gambarnya, beri nama \"dtr_olshop.png\", lalu simpan di folder yang sama"
   ]
  },
  {
   "cell_type": "code",
   "execution_count": 35,
   "metadata": {},
   "outputs": [],
   "source": [
    "# Untuk import gambar tree nya kesini (jupyter)\n",
    "# from IPython.display import Image\n",
    "# Image(filename='dtr_olshop.png')  # untuk membuka gambar yang tadi di download"
   ]
  },
  {
   "cell_type": "code",
   "execution_count": 36,
   "metadata": {},
   "outputs": [],
   "source": [
    "# dtr_fi = pd.DataFrame({'feature': X_train.columns, 'score': dtr.feature_importances_}).sort_values('score', ascending=False)\n",
    "# dtr_fi"
   ]
  },
  {
   "cell_type": "markdown",
   "metadata": {},
   "source": [
    "## 3. Random Forest Classifier"
   ]
  },
  {
   "cell_type": "code",
   "execution_count": 37,
   "metadata": {},
   "outputs": [],
   "source": [
    "from sklearn.ensemble import RandomForestClassifier"
   ]
  },
  {
   "cell_type": "code",
   "execution_count": 38,
   "metadata": {},
   "outputs": [
    {
     "data": {
      "text/plain": [
       "<sklearn.metrics._plot.confusion_matrix.ConfusionMatrixDisplay at 0x21119217808>"
      ]
     },
     "execution_count": 38,
     "metadata": {},
     "output_type": "execute_result"
    },
    {
     "data": {
      "image/png": "[encoded data removed]",
      "text/plain": [
       "<Figure size 432x288 with 2 Axes>"
      ]
     },
     "metadata": {
      "needs_background": "light"
     },
     "output_type": "display_data"
    }
   ],
   "source": [
    "rfc = RandomForestClassifier(random_state=7)\n",
    "rfc.fit(X_train, y_train)\n",
    "rfc_pred = rfc.predict(X_test)\n",
    "rfc_proba = rfc.predict_proba(X_test)\n",
    "\n",
    "confusion_matrix(y_test, rfc_pred)\n",
    "\n",
    "plot_confusion_matrix(rfc, X_test, y_test)"
   ]
  },
  {
   "cell_type": "code",
   "execution_count": 39,
   "metadata": {},
   "outputs": [
    {
     "data": {
      "text/plain": [
       "<sklearn.metrics._plot.confusion_matrix.ConfusionMatrixDisplay at 0x2111a28e9c8>"
      ]
     },
     "execution_count": 39,
     "metadata": {},
     "output_type": "execute_result"
    },
    {
     "data": {
      "image/png": "[encoded data removed]",
      "text/plain": [
       "<Figure size 432x288 with 2 Axes>"
      ]
     },
     "metadata": {
      "needs_background": "light"
     },
     "output_type": "display_data"
    }
   ],
   "source": [
    "# Dengan Oversampling\n",
    "rfc_ros = RandomForestClassifier(random_state=3)\n",
    "rfc_ros.fit(X_ros, y_ros)\n",
    "\n",
    "rfc_ros_pred = rfc_ros.predict(X_test)\n",
    "rfc_ros_proba = rfc_ros.predict_proba(X_test)\n",
    "\n",
    "confusion_matrix(y_test, rfc_ros_pred)\n",
    "\n",
    "plot_confusion_matrix(rfc_ros, X_test, y_test)"
   ]
  },
  {
   "cell_type": "code",
   "execution_count": 40,
   "metadata": {},
   "outputs": [
    {
     "data": {
      "text/plain": [
       "<sklearn.metrics._plot.confusion_matrix.ConfusionMatrixDisplay at 0x2111c2de248>"
      ]
     },
     "execution_count": 40,
     "metadata": {},
     "output_type": "execute_result"
    },
    {
     "data": {
      "image/png": "[encoded data removed]",
      "text/plain": [
       "<Figure size 432x288 with 2 Axes>"
      ]
     },
     "metadata": {
      "needs_background": "light"
     },
     "output_type": "display_data"
    }
   ],
   "source": [
    "# Dengan SMOTE\n",
    "rfc_smo = RandomForestClassifier(random_state=1)\n",
    "rfc_smo.fit(X_smo, y_smo)\n",
    "\n",
    "rfc_smo_pred = rfc_smo.predict(X_test)\n",
    "rfc_smo_proba = rfc_smo.predict_proba(X_test)\n",
    "\n",
    "confusion_matrix(y_test, rfc_smo_pred)\n",
    "\n",
    "plot_confusion_matrix(rfc_smo, X_test, y_test)"
   ]
  },
  {
   "cell_type": "code",
   "execution_count": 41,
   "metadata": {},
   "outputs": [
    {
     "data": {
      "text/plain": [
       "<sklearn.metrics._plot.confusion_matrix.ConfusionMatrixDisplay at 0x2111d3584c8>"
      ]
     },
     "execution_count": 41,
     "metadata": {},
     "output_type": "execute_result"
    },
    {
     "data": {
      "image/png": "[encoded data removed]",
      "text/plain": [
       "<Figure size 432x288 with 2 Axes>"
      ]
     },
     "metadata": {
      "needs_background": "light"
     },
     "output_type": "display_data"
    }
   ],
   "source": [
    "# Dengan Undersampling\n",
    "rfc_rus = RandomForestClassifier(random_state=3)\n",
    "rfc_rus.fit(X_rus, y_rus)\n",
    "\n",
    "rfc_rus_pred = rfc_rus.predict(X_test)\n",
    "rfc_rus_proba = rfc_rus.predict_proba(X_test)\n",
    "\n",
    "confusion_matrix(y_test, rfc_rus_pred)\n",
    "\n",
    "plot_confusion_matrix(rfc_rus, X_test, y_test)"
   ]
  },
  {
   "cell_type": "markdown",
   "metadata": {},
   "source": [
    "Dengan **Random Forest Classifier** dan tanpa metode **Resample** dihasilkan nilai Precision (+) dan Recall (-) nya tertinggi. Precision(+) = TP / (TP+FP) , Recall(-) = TN / (TN+FP)"
   ]
  },
  {
   "cell_type": "code",
   "execution_count": 42,
   "metadata": {},
   "outputs": [
    {
     "data": {
      "text/plain": [
       "array([[2035,   80],\n",
       "       [ 148,  203]], dtype=int64)"
      ]
     },
     "metadata": {},
     "output_type": "display_data"
    },
    {
     "name": "stdout",
     "output_type": "stream",
     "text": [
      "              precision    recall  f1-score   support\n",
      "\n",
      "           0       0.93      0.96      0.95      2115\n",
      "           1       0.72      0.58      0.64       351\n",
      "\n",
      "    accuracy                           0.91      2466\n",
      "   macro avg       0.82      0.77      0.79      2466\n",
      "weighted avg       0.90      0.91      0.90      2466\n",
      "\n"
     ]
    }
   ],
   "source": [
    "display(confusion_matrix(y_test, rfc_pred))\n",
    "print(classification_report(y_test, rfc_pred))"
   ]
  },
  {
   "cell_type": "code",
   "execution_count": 43,
   "metadata": {},
   "outputs": [
    {
     "data": {
      "text/html": [
       "<div>\n",
       "<style scoped>\n",
       "    .dataframe tbody tr th:only-of-type {\n",
       "        vertical-align: middle;\n",
       "    }\n",
       "\n",
       "    .dataframe tbody tr th {\n",
       "        vertical-align: top;\n",
       "    }\n",
       "\n",
       "    .dataframe thead th {\n",
       "        text-align: right;\n",
       "    }\n",
       "</style>\n",
       "<table border=\"1\" class=\"dataframe\">\n",
       "  <thead>\n",
       "    <tr style=\"text-align: right;\">\n",
       "      <th></th>\n",
       "      <th>precision_score(+)</th>\n",
       "      <th>recall_score(-)</th>\n",
       "      <th>conf_matrix (TN, FP, FN, TP)</th>\n",
       "    </tr>\n",
       "  </thead>\n",
       "  <tbody>\n",
       "    <tr>\n",
       "      <th>Random Forest No Resample</th>\n",
       "      <td>0.717314</td>\n",
       "      <td>0.962175</td>\n",
       "      <td>[2035, 80, 148, 203]</td>\n",
       "    </tr>\n",
       "    <tr>\n",
       "      <th>Random Forest With Oversampling</th>\n",
       "      <td>0.633508</td>\n",
       "      <td>0.933806</td>\n",
       "      <td>[1975, 140, 109, 242]</td>\n",
       "    </tr>\n",
       "    <tr>\n",
       "      <th>Random Forest With SMOTE</th>\n",
       "      <td>0.581236</td>\n",
       "      <td>0.913475</td>\n",
       "      <td>[1932, 183, 97, 254]</td>\n",
       "    </tr>\n",
       "    <tr>\n",
       "      <th>Random Forest With Undersampling</th>\n",
       "      <td>0.475038</td>\n",
       "      <td>0.835934</td>\n",
       "      <td>[1768, 347, 37, 314]</td>\n",
       "    </tr>\n",
       "  </tbody>\n",
       "</table>\n",
       "</div>"
      ],
      "text/plain": [
       "                                 precision_score(+) recall_score(-)  \\\n",
       "Random Forest No Resample                  0.717314        0.962175   \n",
       "Random Forest With Oversampling            0.633508        0.933806   \n",
       "Random Forest With SMOTE                   0.581236        0.913475   \n",
       "Random Forest With Undersampling           0.475038        0.835934   \n",
       "\n",
       "                                 conf_matrix (TN, FP, FN, TP)  \n",
       "Random Forest No Resample                [2035, 80, 148, 203]  \n",
       "Random Forest With Oversampling         [1975, 140, 109, 242]  \n",
       "Random Forest With SMOTE                 [1932, 183, 97, 254]  \n",
       "Random Forest With Undersampling         [1768, 347, 37, 314]  "
      ]
     },
     "execution_count": 43,
     "metadata": {},
     "output_type": "execute_result"
    }
   ],
   "source": [
    "rfc_model = pd.DataFrame({\n",
    "    \"Random Forest No Resample\": [precision_score(y_test, rfc_pred), recall_score(y_test, rfc_pred, pos_label=0), list(confusion_matrix(y_test, rfc_pred).ravel())],\n",
    "    \"Random Forest With Oversampling\": [precision_score(y_test, rfc_ros_pred), recall_score(y_test, rfc_ros_pred, pos_label=0), list(confusion_matrix(y_test, rfc_ros_pred).ravel())],\n",
    "    \"Random Forest With SMOTE\": [precision_score(y_test, rfc_smo_pred), recall_score(y_test, rfc_smo_pred, pos_label=0), list(confusion_matrix(y_test, rfc_smo_pred).ravel())],\n",
    "    \"Random Forest With Undersampling\": [precision_score(y_test, rfc_rus_pred), recall_score(y_test, rfc_rus_pred, pos_label=0), list(confusion_matrix(y_test, rfc_rus_pred).ravel())]\n",
    "}, index = ['precision_score(+)', 'recall_score(-)', 'conf_matrix (TN, FP, FN, TP)']).T\n",
    "rfc_model"
   ]
  },
  {
   "cell_type": "code",
   "execution_count": 44,
   "metadata": {},
   "outputs": [],
   "source": [
    "# rfc_fi = pd.DataFrame({'feature': X_train.columns, 'score': rfc.feature_importances_}).sort_values('score', ascending=False)\n",
    "# rfc_fi"
   ]
  },
  {
   "cell_type": "markdown",
   "metadata": {},
   "source": [
    "## 4. AdaBoost Classifier"
   ]
  },
  {
   "cell_type": "code",
   "execution_count": 45,
   "metadata": {},
   "outputs": [
    {
     "data": {
      "text/plain": [
       "<sklearn.metrics._plot.confusion_matrix.ConfusionMatrixDisplay at 0x2111d403c88>"
      ]
     },
     "execution_count": 45,
     "metadata": {},
     "output_type": "execute_result"
    },
    {
     "data": {
      "image/png": "[encoded data removed]",
      "text/plain": [
       "<Figure size 432x288 with 2 Axes>"
      ]
     },
     "metadata": {
      "needs_background": "light"
     },
     "output_type": "display_data"
    }
   ],
   "source": [
    "ada = AdaBoostClassifier(random_state=1) # random_state tidak memberi perubahan\n",
    "ada.fit(X_train, y_train)\n",
    "ada_pred = ada.predict(X_test)\n",
    "ada_proba = ada.predict_proba(X_test)\n",
    "\n",
    "confusion_matrix(y_test, ada_pred)\n",
    "\n",
    "plot_confusion_matrix(ada, X_test, y_test)"
   ]
  },
  {
   "cell_type": "code",
   "execution_count": 46,
   "metadata": {},
   "outputs": [
    {
     "data": {
      "text/plain": [
       "<sklearn.metrics._plot.confusion_matrix.ConfusionMatrixDisplay at 0x2111d4c9e08>"
      ]
     },
     "execution_count": 46,
     "metadata": {},
     "output_type": "execute_result"
    },
    {
     "data": {
      "image/png": "[encoded data removed]",
      "text/plain": [
       "<Figure size 432x288 with 2 Axes>"
      ]
     },
     "metadata": {
      "needs_background": "light"
     },
     "output_type": "display_data"
    }
   ],
   "source": [
    "# Dengan Oversampling\n",
    "ada_ros = AdaBoostClassifier(random_state=1) # random_state tidak memberi perubahan\n",
    "ada_ros.fit(X_ros, y_ros)\n",
    "\n",
    "ada_ros_pred = ada_ros.predict(X_test)\n",
    "ada_ros_proba = ada_ros.predict_proba(X_test)\n",
    "\n",
    "confusion_matrix(y_test, ada_ros_pred)\n",
    "\n",
    "plot_confusion_matrix(ada_ros, X_test, y_test)"
   ]
  },
  {
   "cell_type": "code",
   "execution_count": 47,
   "metadata": {},
   "outputs": [
    {
     "data": {
      "text/plain": [
       "<sklearn.metrics._plot.confusion_matrix.ConfusionMatrixDisplay at 0x2111d56e4c8>"
      ]
     },
     "execution_count": 47,
     "metadata": {},
     "output_type": "execute_result"
    },
    {
     "data": {
      "image/png": "[encoded data removed]",
      "text/plain": [
       "<Figure size 432x288 with 2 Axes>"
      ]
     },
     "metadata": {
      "needs_background": "light"
     },
     "output_type": "display_data"
    }
   ],
   "source": [
    "# Dengan SMOTE\n",
    "ada_smo = AdaBoostClassifier(random_state=1) # random_state tidak memberi perubahan\n",
    "ada_smo.fit(X_ros, y_ros)\n",
    "\n",
    "ada_smo_pred = ada_smo.predict(X_test)\n",
    "ada_smo_proba = ada_smo.predict_proba(X_test)\n",
    "\n",
    "confusion_matrix(y_test, ada_smo_pred)\n",
    "\n",
    "plot_confusion_matrix(ada_smo, X_test, y_test)"
   ]
  },
  {
   "cell_type": "code",
   "execution_count": 48,
   "metadata": {},
   "outputs": [
    {
     "data": {
      "text/plain": [
       "<sklearn.metrics._plot.confusion_matrix.ConfusionMatrixDisplay at 0x2111d616488>"
      ]
     },
     "execution_count": 48,
     "metadata": {},
     "output_type": "execute_result"
    },
    {
     "data": {
      "image/png": "[encoded data removed]",
      "text/plain": [
       "<Figure size 432x288 with 2 Axes>"
      ]
     },
     "metadata": {
      "needs_background": "light"
     },
     "output_type": "display_data"
    }
   ],
   "source": [
    "# Dengan Undersampling\n",
    "ada_rus = AdaBoostClassifier(random_state=1) # random_state tidak memberi perubahan\n",
    "ada_rus.fit(X_rus, y_rus)\n",
    "\n",
    "ada_rus_pred = ada_rus.predict(X_test)\n",
    "ada_rus_proba = ada_rus.predict_proba(X_test)\n",
    "\n",
    "confusion_matrix(y_test, ada_rus_pred)\n",
    "\n",
    "plot_confusion_matrix(ada_rus, X_test, y_test)"
   ]
  },
  {
   "cell_type": "markdown",
   "metadata": {},
   "source": [
    "Dengan **AdaBoost Classifier** dan tanpa metode **Resample** dihasilkan nilai Precision (+) dan Recall (-) nya tertinggi. Precision(+) = TP / (TP+FP) , Recall(-) = TN / (TN+FP)"
   ]
  },
  {
   "cell_type": "code",
   "execution_count": 49,
   "metadata": {},
   "outputs": [
    {
     "data": {
      "text/plain": [
       "array([[1997,  118],\n",
       "       [ 147,  204]], dtype=int64)"
      ]
     },
     "metadata": {},
     "output_type": "display_data"
    },
    {
     "name": "stdout",
     "output_type": "stream",
     "text": [
      "              precision    recall  f1-score   support\n",
      "\n",
      "           0       0.93      0.94      0.94      2115\n",
      "           1       0.63      0.58      0.61       351\n",
      "\n",
      "    accuracy                           0.89      2466\n",
      "   macro avg       0.78      0.76      0.77      2466\n",
      "weighted avg       0.89      0.89      0.89      2466\n",
      "\n"
     ]
    }
   ],
   "source": [
    "display(confusion_matrix(y_test, ada_pred))\n",
    "print(classification_report(y_test, ada_pred))"
   ]
  },
  {
   "cell_type": "code",
   "execution_count": 50,
   "metadata": {},
   "outputs": [
    {
     "data": {
      "text/html": [
       "<div>\n",
       "<style scoped>\n",
       "    .dataframe tbody tr th:only-of-type {\n",
       "        vertical-align: middle;\n",
       "    }\n",
       "\n",
       "    .dataframe tbody tr th {\n",
       "        vertical-align: top;\n",
       "    }\n",
       "\n",
       "    .dataframe thead th {\n",
       "        text-align: right;\n",
       "    }\n",
       "</style>\n",
       "<table border=\"1\" class=\"dataframe\">\n",
       "  <thead>\n",
       "    <tr style=\"text-align: right;\">\n",
       "      <th></th>\n",
       "      <th>precision_score(+)</th>\n",
       "      <th>recall_score(-)</th>\n",
       "      <th>conf_matrix (TN, FP, FN, TP)</th>\n",
       "    </tr>\n",
       "  </thead>\n",
       "  <tbody>\n",
       "    <tr>\n",
       "      <th>AdaBoost Classifier No Resample</th>\n",
       "      <td>0.63354</td>\n",
       "      <td>0.944208</td>\n",
       "      <td>[1997, 118, 147, 204]</td>\n",
       "    </tr>\n",
       "    <tr>\n",
       "      <th>AdaBoost Classifier With Oversampling</th>\n",
       "      <td>0.512456</td>\n",
       "      <td>0.870449</td>\n",
       "      <td>[1841, 274, 63, 288]</td>\n",
       "    </tr>\n",
       "    <tr>\n",
       "      <th>AdaBoost Classifier With SMOTE</th>\n",
       "      <td>0.512456</td>\n",
       "      <td>0.870449</td>\n",
       "      <td>[1841, 274, 63, 288]</td>\n",
       "    </tr>\n",
       "    <tr>\n",
       "      <th>AdaBoost Classifier With Undersampling</th>\n",
       "      <td>0.514991</td>\n",
       "      <td>0.869976</td>\n",
       "      <td>[1840, 275, 59, 292]</td>\n",
       "    </tr>\n",
       "  </tbody>\n",
       "</table>\n",
       "</div>"
      ],
      "text/plain": [
       "                                       precision_score(+) recall_score(-)  \\\n",
       "AdaBoost Classifier No Resample                   0.63354        0.944208   \n",
       "AdaBoost Classifier With Oversampling            0.512456        0.870449   \n",
       "AdaBoost Classifier With SMOTE                   0.512456        0.870449   \n",
       "AdaBoost Classifier With Undersampling           0.514991        0.869976   \n",
       "\n",
       "                                       conf_matrix (TN, FP, FN, TP)  \n",
       "AdaBoost Classifier No Resample               [1997, 118, 147, 204]  \n",
       "AdaBoost Classifier With Oversampling          [1841, 274, 63, 288]  \n",
       "AdaBoost Classifier With SMOTE                 [1841, 274, 63, 288]  \n",
       "AdaBoost Classifier With Undersampling         [1840, 275, 59, 292]  "
      ]
     },
     "execution_count": 50,
     "metadata": {},
     "output_type": "execute_result"
    }
   ],
   "source": [
    "ada_model = pd.DataFrame({\n",
    "    \"AdaBoost Classifier No Resample\": [precision_score(y_test, ada_pred), recall_score(y_test, ada_pred, pos_label=0), list(confusion_matrix(y_test, ada_pred).ravel())],\n",
    "    \"AdaBoost Classifier With Oversampling\": [precision_score(y_test, ada_ros_pred), recall_score(y_test, ada_ros_pred, pos_label=0), list(confusion_matrix(y_test, ada_ros_pred).ravel())],\n",
    "    \"AdaBoost Classifier With SMOTE\": [precision_score(y_test, ada_smo_pred), recall_score(y_test, ada_smo_pred, pos_label=0), list(confusion_matrix(y_test, ada_smo_pred).ravel())],\n",
    "    \"AdaBoost Classifier With Undersampling\": [precision_score(y_test, ada_rus_pred), recall_score(y_test, ada_rus_pred, pos_label=0), list(confusion_matrix(y_test, ada_rus_pred).ravel())]\n",
    "}, index = ['precision_score(+)', 'recall_score(-)', 'conf_matrix (TN, FP, FN, TP)']).T\n",
    "ada_model"
   ]
  },
  {
   "cell_type": "code",
   "execution_count": 51,
   "metadata": {},
   "outputs": [],
   "source": [
    "# ada_fi = pd.DataFrame({'feature': X_train.columns, 'score': ada.feature_importances_}).sort_values('score', ascending=False)\n",
    "# ada_fi"
   ]
  },
  {
   "cell_type": "markdown",
   "metadata": {},
   "source": [
    "## 5. Gradient Boosting Classifier"
   ]
  },
  {
   "cell_type": "code",
   "execution_count": 52,
   "metadata": {},
   "outputs": [],
   "source": [
    "from sklearn.ensemble import GradientBoostingClassifier"
   ]
  },
  {
   "cell_type": "code",
   "execution_count": 53,
   "metadata": {},
   "outputs": [
    {
     "data": {
      "text/plain": [
       "<sklearn.metrics._plot.confusion_matrix.ConfusionMatrixDisplay at 0x2111d6cc988>"
      ]
     },
     "execution_count": 53,
     "metadata": {},
     "output_type": "execute_result"
    },
    {
     "data": {
      "image/png": "[encoded data removed]",
      "text/plain": [
       "<Figure size 432x288 with 2 Axes>"
      ]
     },
     "metadata": {
      "needs_background": "light"
     },
     "output_type": "display_data"
    }
   ],
   "source": [
    "gbc = GradientBoostingClassifier(random_state=1) # random_state tidak memberi perubahan\n",
    "gbc.fit(X_train, y_train)\n",
    "gbc_pred = gbc.predict(X_test)\n",
    "gbc_proba = gbc.predict_proba(X_test)\n",
    "\n",
    "confusion_matrix(y_test, gbc_pred)\n",
    "\n",
    "plot_confusion_matrix(gbc, X_test, y_test)"
   ]
  },
  {
   "cell_type": "code",
   "execution_count": 54,
   "metadata": {},
   "outputs": [
    {
     "data": {
      "text/plain": [
       "<sklearn.metrics._plot.confusion_matrix.ConfusionMatrixDisplay at 0x2111d7799c8>"
      ]
     },
     "execution_count": 54,
     "metadata": {},
     "output_type": "execute_result"
    },
    {
     "data": {
      "image/png": "[encoded data removed]",
      "text/plain": [
       "<Figure size 432x288 with 2 Axes>"
      ]
     },
     "metadata": {
      "needs_background": "light"
     },
     "output_type": "display_data"
    }
   ],
   "source": [
    "# Dengan Oversampling\n",
    "gbc_ros = GradientBoostingClassifier(random_state=1) # random_state tidak memberi perubahan\n",
    "gbc_ros.fit(X_ros, y_ros)\n",
    "\n",
    "gbc_ros_pred = gbc_ros.predict(X_test)\n",
    "gbc_ros_proba = gbc_ros.predict_proba(X_test)\n",
    "\n",
    "confusion_matrix(y_test, gbc_ros_pred)\n",
    "\n",
    "plot_confusion_matrix(gbc_ros, X_test, y_test)"
   ]
  },
  {
   "cell_type": "code",
   "execution_count": 55,
   "metadata": {},
   "outputs": [
    {
     "data": {
      "text/plain": [
       "<sklearn.metrics._plot.confusion_matrix.ConfusionMatrixDisplay at 0x2111e7f9688>"
      ]
     },
     "execution_count": 55,
     "metadata": {},
     "output_type": "execute_result"
    },
    {
     "data": {
      "image/png": "[encoded data removed]",
      "text/plain": [
       "<Figure size 432x288 with 2 Axes>"
      ]
     },
     "metadata": {
      "needs_background": "light"
     },
     "output_type": "display_data"
    }
   ],
   "source": [
    "# Dengan SMOTE\n",
    "gbc_smo = GradientBoostingClassifier(random_state=1) # random_state tidak memberi perubahan\n",
    "gbc_smo.fit(X_smo, y_smo)\n",
    "\n",
    "gbc_smo_pred = gbc_smo.predict(X_test)\n",
    "gbc_smo_proba = gbc_smo.predict_proba(X_test)\n",
    "\n",
    "confusion_matrix(y_test, gbc_smo_pred)\n",
    "\n",
    "plot_confusion_matrix(gbc_smo, X_test, y_test)"
   ]
  },
  {
   "cell_type": "code",
   "execution_count": 56,
   "metadata": {},
   "outputs": [
    {
     "data": {
      "text/plain": [
       "<sklearn.metrics._plot.confusion_matrix.ConfusionMatrixDisplay at 0x2111e89efc8>"
      ]
     },
     "execution_count": 56,
     "metadata": {},
     "output_type": "execute_result"
    },
    {
     "data": {
      "image/png": "[encoded data removed]",
      "text/plain": [
       "<Figure size 432x288 with 2 Axes>"
      ]
     },
     "metadata": {
      "needs_background": "light"
     },
     "output_type": "display_data"
    }
   ],
   "source": [
    "# Dengan Undersampling\n",
    "gbc_rus = GradientBoostingClassifier(random_state=1) # random_state tidak memberi perubahan\n",
    "gbc_rus.fit(X_rus, y_rus)\n",
    "\n",
    "gbc_rus_pred = gbc_rus.predict(X_test)\n",
    "gbc_rus_proba = gbc_rus.predict_proba(X_test)\n",
    "\n",
    "confusion_matrix(y_test, gbc_rus_pred)\n",
    "\n",
    "plot_confusion_matrix(gbc_rus, X_test, y_test)"
   ]
  },
  {
   "cell_type": "markdown",
   "metadata": {},
   "source": [
    "Dengan **GradientBoosting Classifier** dan tanpa metode **Resample** dihasilkan nilai Precision (+) dan Recall (-) nya tertinggi. Precision(+) = TP / (TP+FP) , Recall(-) = TN / (TN+FP)"
   ]
  },
  {
   "cell_type": "code",
   "execution_count": 57,
   "metadata": {},
   "outputs": [
    {
     "data": {
      "text/plain": [
       "array([[2027,   88],\n",
       "       [ 136,  215]], dtype=int64)"
      ]
     },
     "metadata": {},
     "output_type": "display_data"
    },
    {
     "name": "stdout",
     "output_type": "stream",
     "text": [
      "              precision    recall  f1-score   support\n",
      "\n",
      "           0       0.94      0.96      0.95      2115\n",
      "           1       0.71      0.61      0.66       351\n",
      "\n",
      "    accuracy                           0.91      2466\n",
      "   macro avg       0.82      0.79      0.80      2466\n",
      "weighted avg       0.90      0.91      0.91      2466\n",
      "\n"
     ]
    }
   ],
   "source": [
    "display(confusion_matrix(y_test, gbc_pred))\n",
    "print(classification_report(y_test, gbc_pred))"
   ]
  },
  {
   "cell_type": "code",
   "execution_count": 58,
   "metadata": {},
   "outputs": [
    {
     "data": {
      "text/html": [
       "<div>\n",
       "<style scoped>\n",
       "    .dataframe tbody tr th:only-of-type {\n",
       "        vertical-align: middle;\n",
       "    }\n",
       "\n",
       "    .dataframe tbody tr th {\n",
       "        vertical-align: top;\n",
       "    }\n",
       "\n",
       "    .dataframe thead th {\n",
       "        text-align: right;\n",
       "    }\n",
       "</style>\n",
       "<table border=\"1\" class=\"dataframe\">\n",
       "  <thead>\n",
       "    <tr style=\"text-align: right;\">\n",
       "      <th></th>\n",
       "      <th>precision_score(+)</th>\n",
       "      <th>recall_score(-)</th>\n",
       "      <th>conf_matrix (TN, FP, FN, TP)</th>\n",
       "    </tr>\n",
       "  </thead>\n",
       "  <tbody>\n",
       "    <tr>\n",
       "      <th>GradientBoosting Classifier No Resample</th>\n",
       "      <td>0.709571</td>\n",
       "      <td>0.958392</td>\n",
       "      <td>[2027, 88, 136, 215]</td>\n",
       "    </tr>\n",
       "    <tr>\n",
       "      <th>GradientBoosting Classifier With Oversampling</th>\n",
       "      <td>0.509434</td>\n",
       "      <td>0.864775</td>\n",
       "      <td>[1829, 286, 54, 297]</td>\n",
       "    </tr>\n",
       "    <tr>\n",
       "      <th>GradientBoosting Classifier With SMOTE</th>\n",
       "      <td>0.590517</td>\n",
       "      <td>0.910165</td>\n",
       "      <td>[1925, 190, 77, 274]</td>\n",
       "    </tr>\n",
       "    <tr>\n",
       "      <th>GradientBoosting Classifier With Undersampling</th>\n",
       "      <td>0.493569</td>\n",
       "      <td>0.851064</td>\n",
       "      <td>[1800, 315, 44, 307]</td>\n",
       "    </tr>\n",
       "  </tbody>\n",
       "</table>\n",
       "</div>"
      ],
      "text/plain": [
       "                                               precision_score(+)  \\\n",
       "GradientBoosting Classifier No Resample                  0.709571   \n",
       "GradientBoosting Classifier With Oversampling            0.509434   \n",
       "GradientBoosting Classifier With SMOTE                   0.590517   \n",
       "GradientBoosting Classifier With Undersampling           0.493569   \n",
       "\n",
       "                                               recall_score(-)  \\\n",
       "GradientBoosting Classifier No Resample               0.958392   \n",
       "GradientBoosting Classifier With Oversampling         0.864775   \n",
       "GradientBoosting Classifier With SMOTE                0.910165   \n",
       "GradientBoosting Classifier With Undersampling        0.851064   \n",
       "\n",
       "                                               conf_matrix (TN, FP, FN, TP)  \n",
       "GradientBoosting Classifier No Resample                [2027, 88, 136, 215]  \n",
       "GradientBoosting Classifier With Oversampling          [1829, 286, 54, 297]  \n",
       "GradientBoosting Classifier With SMOTE                 [1925, 190, 77, 274]  \n",
       "GradientBoosting Classifier With Undersampling         [1800, 315, 44, 307]  "
      ]
     },
     "execution_count": 58,
     "metadata": {},
     "output_type": "execute_result"
    }
   ],
   "source": [
    "gbc_model = pd.DataFrame({\n",
    "    \"GradientBoosting Classifier No Resample\": [precision_score(y_test, gbc_pred), recall_score(y_test, gbc_pred, pos_label=0), list(confusion_matrix(y_test, gbc_pred).ravel())],\n",
    "    \"GradientBoosting Classifier With Oversampling\": [precision_score(y_test, gbc_ros_pred), recall_score(y_test, gbc_ros_pred, pos_label=0), list(confusion_matrix(y_test, gbc_ros_pred).ravel())],\n",
    "    \"GradientBoosting Classifier With SMOTE\": [precision_score(y_test, gbc_smo_pred), recall_score(y_test, gbc_smo_pred, pos_label=0), list(confusion_matrix(y_test, gbc_smo_pred).ravel())],\n",
    "    \"GradientBoosting Classifier With Undersampling\": [precision_score(y_test, gbc_rus_pred), recall_score(y_test, gbc_rus_pred, pos_label=0), list(confusion_matrix(y_test, gbc_rus_pred).ravel())]\n",
    "}, index = ['precision_score(+)', 'recall_score(-)', 'conf_matrix (TN, FP, FN, TP)']).T\n",
    "gbc_model"
   ]
  },
  {
   "cell_type": "code",
   "execution_count": 59,
   "metadata": {},
   "outputs": [],
   "source": [
    "# gbc_fi = pd.DataFrame({'feature': X_train.columns, 'score': gbc.feature_importances_}).sort_values('score', ascending=False)\n",
    "# gbc_fi"
   ]
  },
  {
   "cell_type": "markdown",
   "metadata": {},
   "source": [
    "## K Nearest Neighbour Classifier"
   ]
  },
  {
   "cell_type": "code",
   "execution_count": 60,
   "metadata": {},
   "outputs": [
    {
     "data": {
      "text/plain": [
       "9864"
      ]
     },
     "execution_count": 60,
     "metadata": {},
     "output_type": "execute_result"
    }
   ],
   "source": [
    "len(X_train)"
   ]
  },
  {
   "cell_type": "code",
   "execution_count": 61,
   "metadata": {},
   "outputs": [
    {
     "name": "stdout",
     "output_type": "stream",
     "text": [
      "for k=1: 0.4973544973544973\n",
      "for k=3: 0.5930599369085173\n",
      "for k=5: 0.6241379310344828\n",
      "for k=7: 0.6292517006802721\n",
      "for k=9: 0.6466666666666666\n",
      "for k=11: 0.6599326599326599\n",
      "for k=13: 0.6565656565656566\n",
      "for k=15: 0.6421404682274248\n"
     ]
    }
   ],
   "source": [
    "from sklearn.metrics import accuracy_score\n",
    "for i in range(1,16,2):\n",
    "    knn_model = KNeighborsClassifier(n_neighbors=i)\n",
    "    knn_model.fit(X_train, y_train)\n",
    "    knn_model_pred = knn_model.predict(X_test)\n",
    "\n",
    "    print(f'for k={i}:', precision_score(y_test, knn_model_pred))\n",
    "    \n",
    "# Jadi pilihlah nilai k yang hasilnya paling tinggi"
   ]
  },
  {
   "cell_type": "code",
   "execution_count": 62,
   "metadata": {},
   "outputs": [
    {
     "data": {
      "text/plain": [
       "<sklearn.metrics._plot.confusion_matrix.ConfusionMatrixDisplay at 0x2111e964d48>"
      ]
     },
     "execution_count": 62,
     "metadata": {},
     "output_type": "execute_result"
    },
    {
     "data": {
      "image/png": "[encoded data removed]",
      "text/plain": [
       "<Figure size 432x288 with 2 Axes>"
      ]
     },
     "metadata": {
      "needs_background": "light"
     },
     "output_type": "display_data"
    }
   ],
   "source": [
    "knn = KNeighborsClassifier(n_neighbors=13) # default p=2 (minkowski)\n",
    "knn.fit(X_train, y_train)\n",
    "knn_pred = knn.predict(X_test)\n",
    "knn_proba = knn.predict_proba(X_test)\n",
    "\n",
    "confusion_matrix(y_test, knn_pred)\n",
    "\n",
    "plot_confusion_matrix(knn, X_test, y_test)"
   ]
  },
  {
   "cell_type": "code",
   "execution_count": 63,
   "metadata": {},
   "outputs": [
    {
     "data": {
      "text/plain": [
       "0    2115\n",
       "1     351\n",
       "Name: Revenue, dtype: int64"
      ]
     },
     "execution_count": 63,
     "metadata": {},
     "output_type": "execute_result"
    }
   ],
   "source": [
    "y_test.value_counts()\n",
    "# 0 = 2075 + 40\n",
    "# 1 = 269 + 82"
   ]
  },
  {
   "cell_type": "code",
   "execution_count": 64,
   "metadata": {},
   "outputs": [
    {
     "data": {
      "text/plain": [
       "<sklearn.metrics._plot.confusion_matrix.ConfusionMatrixDisplay at 0x2111e9600c8>"
      ]
     },
     "execution_count": 64,
     "metadata": {},
     "output_type": "execute_result"
    },
    {
     "data": {
      "image/png": "[encoded data removed]",
      "text/plain": [
       "<Figure size 432x288 with 2 Axes>"
      ]
     },
     "metadata": {
      "needs_background": "light"
     },
     "output_type": "display_data"
    }
   ],
   "source": [
    "# Dengan Oversampling\n",
    "knn_ros = KNeighborsClassifier(n_neighbors=13)\n",
    "knn_ros.fit(X_ros, y_ros)\n",
    "knn_ros_pred = knn_ros.predict(X_test)\n",
    "knn_ros_proba = knn_ros.predict_proba(X_test)\n",
    "\n",
    "confusion_matrix(y_test, knn_ros_pred)\n",
    "\n",
    "plot_confusion_matrix(knn_ros, X_test, y_test)"
   ]
  },
  {
   "cell_type": "code",
   "execution_count": 65,
   "metadata": {},
   "outputs": [
    {
     "data": {
      "text/plain": [
       "<sklearn.metrics._plot.confusion_matrix.ConfusionMatrixDisplay at 0x2111ed78c08>"
      ]
     },
     "execution_count": 65,
     "metadata": {},
     "output_type": "execute_result"
    },
    {
     "data": {
      "image/png": "[encoded data removed]",
      "text/plain": [
       "<Figure size 432x288 with 2 Axes>"
      ]
     },
     "metadata": {
      "needs_background": "light"
     },
     "output_type": "display_data"
    }
   ],
   "source": [
    "# Dengan SMOTE\n",
    "knn_smo = KNeighborsClassifier(n_neighbors=13)\n",
    "knn_smo.fit(X_smo, y_smo)\n",
    "knn_smo_pred = knn_smo.predict(X_test)\n",
    "knn_smo_proba = knn_smo.predict_proba(X_test)\n",
    "\n",
    "confusion_matrix(y_test, knn_smo_pred)\n",
    "\n",
    "plot_confusion_matrix(knn_smo, X_test, y_test)"
   ]
  },
  {
   "cell_type": "code",
   "execution_count": 66,
   "metadata": {},
   "outputs": [
    {
     "data": {
      "text/plain": [
       "<sklearn.metrics._plot.confusion_matrix.ConfusionMatrixDisplay at 0x2111f103588>"
      ]
     },
     "execution_count": 66,
     "metadata": {},
     "output_type": "execute_result"
    },
    {
     "data": {
      "image/png": "[encoded data removed]",
      "text/plain": [
       "<Figure size 432x288 with 2 Axes>"
      ]
     },
     "metadata": {
      "needs_background": "light"
     },
     "output_type": "display_data"
    }
   ],
   "source": [
    "# Dengan Undersampling\n",
    "knn_rus = KNeighborsClassifier(n_neighbors=13)\n",
    "knn_rus.fit(X_rus, y_rus)\n",
    "knn_rus_pred = knn_rus.predict(X_test)\n",
    "knn_rus_proba = knn_rus.predict_proba(X_test)\n",
    "\n",
    "confusion_matrix(y_test, knn_rus_pred)\n",
    "\n",
    "plot_confusion_matrix(knn_rus, X_test, y_test)"
   ]
  },
  {
   "cell_type": "markdown",
   "metadata": {},
   "source": [
    "Dengan **KNeighbors Classifier** dan tanpa metode **Resample** dihasilkan nilai Precision (+) dan Recall (-) nya tertinggi. Precision(+) = TP / (TP+FP) , Recall(-) = TN / (TN+FP)"
   ]
  },
  {
   "cell_type": "code",
   "execution_count": 67,
   "metadata": {},
   "outputs": [
    {
     "name": "stdout",
     "output_type": "stream",
     "text": [
      "              precision    recall  f1-score   support\n",
      "\n",
      "           0       0.93      0.95      0.94      2115\n",
      "           1       0.66      0.56      0.60       351\n",
      "\n",
      "    accuracy                           0.90      2466\n",
      "   macro avg       0.79      0.75      0.77      2466\n",
      "weighted avg       0.89      0.90      0.89      2466\n",
      "\n"
     ]
    }
   ],
   "source": [
    "print(classification_report(y_test, knn_pred))"
   ]
  },
  {
   "cell_type": "code",
   "execution_count": 68,
   "metadata": {},
   "outputs": [
    {
     "data": {
      "text/html": [
       "<div>\n",
       "<style scoped>\n",
       "    .dataframe tbody tr th:only-of-type {\n",
       "        vertical-align: middle;\n",
       "    }\n",
       "\n",
       "    .dataframe tbody tr th {\n",
       "        vertical-align: top;\n",
       "    }\n",
       "\n",
       "    .dataframe thead th {\n",
       "        text-align: right;\n",
       "    }\n",
       "</style>\n",
       "<table border=\"1\" class=\"dataframe\">\n",
       "  <thead>\n",
       "    <tr style=\"text-align: right;\">\n",
       "      <th></th>\n",
       "      <th>precision_score(+)</th>\n",
       "      <th>recall_score(-)</th>\n",
       "      <th>conf_matrix (TN, FP, FN, TP)</th>\n",
       "    </tr>\n",
       "  </thead>\n",
       "  <tbody>\n",
       "    <tr>\n",
       "      <th>KNeighbors Classifier No Resample</th>\n",
       "      <td>0.656566</td>\n",
       "      <td>0.951773</td>\n",
       "      <td>[2013, 102, 156, 195]</td>\n",
       "    </tr>\n",
       "    <tr>\n",
       "      <th>KNeighbors Classifier With Oversampling</th>\n",
       "      <td>0.421613</td>\n",
       "      <td>0.820331</td>\n",
       "      <td>[1735, 380, 74, 277]</td>\n",
       "    </tr>\n",
       "    <tr>\n",
       "      <th>KNeighbors Classifier With SMOTE</th>\n",
       "      <td>0.417288</td>\n",
       "      <td>0.81513</td>\n",
       "      <td>[1724, 391, 71, 280]</td>\n",
       "    </tr>\n",
       "    <tr>\n",
       "      <th>KNeighbors Classifier With Undersampling</th>\n",
       "      <td>0.489619</td>\n",
       "      <td>0.86052</td>\n",
       "      <td>[1820, 295, 68, 283]</td>\n",
       "    </tr>\n",
       "  </tbody>\n",
       "</table>\n",
       "</div>"
      ],
      "text/plain": [
       "                                         precision_score(+) recall_score(-)  \\\n",
       "KNeighbors Classifier No Resample                  0.656566        0.951773   \n",
       "KNeighbors Classifier With Oversampling            0.421613        0.820331   \n",
       "KNeighbors Classifier With SMOTE                   0.417288         0.81513   \n",
       "KNeighbors Classifier With Undersampling           0.489619         0.86052   \n",
       "\n",
       "                                         conf_matrix (TN, FP, FN, TP)  \n",
       "KNeighbors Classifier No Resample               [2013, 102, 156, 195]  \n",
       "KNeighbors Classifier With Oversampling          [1735, 380, 74, 277]  \n",
       "KNeighbors Classifier With SMOTE                 [1724, 391, 71, 280]  \n",
       "KNeighbors Classifier With Undersampling         [1820, 295, 68, 283]  "
      ]
     },
     "execution_count": 68,
     "metadata": {},
     "output_type": "execute_result"
    }
   ],
   "source": [
    "knn_model = pd.DataFrame({\n",
    "    \"KNeighbors Classifier No Resample\": [precision_score(y_test, knn_pred), recall_score(y_test, knn_pred, pos_label=0), list(confusion_matrix(y_test, knn_pred).ravel())],\n",
    "    \"KNeighbors Classifier With Oversampling\": [precision_score(y_test, knn_ros_pred), recall_score(y_test, knn_ros_pred, pos_label=0), list(confusion_matrix(y_test, knn_ros_pred).ravel())],\n",
    "    \"KNeighbors Classifier With SMOTE\": [precision_score(y_test, knn_smo_pred), recall_score(y_test, knn_smo_pred, pos_label=0), list(confusion_matrix(y_test, knn_smo_pred).ravel())],\n",
    "    \"KNeighbors Classifier With Undersampling\": [precision_score(y_test, knn_rus_pred), recall_score(y_test, knn_rus_pred, pos_label=0), list(confusion_matrix(y_test, knn_rus_pred).ravel())]\n",
    "}, index = ['precision_score(+)', 'recall_score(-)', 'conf_matrix (TN, FP, FN, TP)']).T\n",
    "knn_model"
   ]
  },
  {
   "cell_type": "markdown",
   "metadata": {},
   "source": [
    "### Pemilihan Metode Machine Learning untuk diproses lanjut:"
   ]
  },
  {
   "cell_type": "code",
   "execution_count": 69,
   "metadata": {},
   "outputs": [
    {
     "data": {
      "text/html": [
       "<div>\n",
       "<style scoped>\n",
       "    .dataframe tbody tr th:only-of-type {\n",
       "        vertical-align: middle;\n",
       "    }\n",
       "\n",
       "    .dataframe tbody tr th {\n",
       "        vertical-align: top;\n",
       "    }\n",
       "\n",
       "    .dataframe thead th {\n",
       "        text-align: right;\n",
       "    }\n",
       "</style>\n",
       "<table border=\"1\" class=\"dataframe\">\n",
       "  <thead>\n",
       "    <tr style=\"text-align: right;\">\n",
       "      <th></th>\n",
       "      <th>precision_score(+)</th>\n",
       "      <th>recall_score(-)</th>\n",
       "      <th>conf_matrix (TN, FP, FN, TP)</th>\n",
       "    </tr>\n",
       "  </thead>\n",
       "  <tbody>\n",
       "    <tr>\n",
       "      <th>Logistic Regression</th>\n",
       "      <td>0.709677</td>\n",
       "      <td>0.974468</td>\n",
       "      <td>[2061, 54, 219, 132]</td>\n",
       "    </tr>\n",
       "    <tr>\n",
       "      <th>Decision Tree Classifier</th>\n",
       "      <td>0.541562</td>\n",
       "      <td>0.913948</td>\n",
       "      <td>[1933, 182, 136, 215]</td>\n",
       "    </tr>\n",
       "    <tr>\n",
       "      <th>Random Forest Classifier</th>\n",
       "      <td>0.717314</td>\n",
       "      <td>0.962175</td>\n",
       "      <td>[2035, 80, 148, 203]</td>\n",
       "    </tr>\n",
       "    <tr>\n",
       "      <th>AdaBoost Classifier</th>\n",
       "      <td>0.63354</td>\n",
       "      <td>0.944208</td>\n",
       "      <td>[1997, 118, 147, 204]</td>\n",
       "    </tr>\n",
       "    <tr>\n",
       "      <th>GradientBoosting Classifier</th>\n",
       "      <td>0.709571</td>\n",
       "      <td>0.958392</td>\n",
       "      <td>[2027, 88, 136, 215]</td>\n",
       "    </tr>\n",
       "    <tr>\n",
       "      <th>KNeighbors Classifier</th>\n",
       "      <td>0.656566</td>\n",
       "      <td>0.951773</td>\n",
       "      <td>[2013, 102, 156, 195]</td>\n",
       "    </tr>\n",
       "  </tbody>\n",
       "</table>\n",
       "</div>"
      ],
      "text/plain": [
       "                            precision_score(+) recall_score(-)  \\\n",
       "Logistic Regression                   0.709677        0.974468   \n",
       "Decision Tree Classifier              0.541562        0.913948   \n",
       "Random Forest Classifier              0.717314        0.962175   \n",
       "AdaBoost Classifier                    0.63354        0.944208   \n",
       "GradientBoosting Classifier           0.709571        0.958392   \n",
       "KNeighbors Classifier                 0.656566        0.951773   \n",
       "\n",
       "                            conf_matrix (TN, FP, FN, TP)  \n",
       "Logistic Regression                 [2061, 54, 219, 132]  \n",
       "Decision Tree Classifier           [1933, 182, 136, 215]  \n",
       "Random Forest Classifier            [2035, 80, 148, 203]  \n",
       "AdaBoost Classifier                [1997, 118, 147, 204]  \n",
       "GradientBoosting Classifier         [2027, 88, 136, 215]  \n",
       "KNeighbors Classifier              [2013, 102, 156, 195]  "
      ]
     },
     "execution_count": 69,
     "metadata": {},
     "output_type": "execute_result"
    }
   ],
   "source": [
    "ml_model = pd.DataFrame({\n",
    "    \"Logistic Regression\": [precision_score(y_test, log_pred), recall_score(y_test, log_pred, pos_label=0), list(confusion_matrix(y_test, log_pred).ravel())],\n",
    "    \"Decision Tree Classifier\": [precision_score(y_test, dtr_pred), recall_score(y_test, dtr_pred, pos_label=0), list(confusion_matrix(y_test, dtr_pred).ravel())],\n",
    "    \"Random Forest Classifier\": [precision_score(y_test, rfc_pred), recall_score(y_test, rfc_pred, pos_label=0), list(confusion_matrix(y_test, rfc_pred).ravel())],\n",
    "    \"AdaBoost Classifier\": [precision_score(y_test, ada_pred), recall_score(y_test, ada_pred, pos_label=0), list(confusion_matrix(y_test, ada_pred).ravel())],\n",
    "    \"GradientBoosting Classifier\": [precision_score(y_test, gbc_pred), recall_score(y_test, gbc_pred, pos_label=0), list(confusion_matrix(y_test, gbc_pred).ravel())],\n",
    "    \"KNeighbors Classifier\": [precision_score(y_test, knn_pred), recall_score(y_test, knn_pred, pos_label=0), list(confusion_matrix(y_test, knn_pred).ravel())]\n",
    "}, index = ['precision_score(+)', 'recall_score(-)', 'conf_matrix (TN, FP, FN, TP)']).T\n",
    "ml_model"
   ]
  },
  {
   "cell_type": "code",
   "execution_count": 70,
   "metadata": {},
   "outputs": [
    {
     "data": {
      "text/plain": [
       "Random Forest Classifier       0.717314\n",
       "Logistic Regression            0.709677\n",
       "GradientBoosting Classifier    0.709571\n",
       "KNeighbors Classifier          0.656566\n",
       "AdaBoost Classifier             0.63354\n",
       "Decision Tree Classifier       0.541562\n",
       "Name: precision_score(+), dtype: object"
      ]
     },
     "execution_count": 70,
     "metadata": {},
     "output_type": "execute_result"
    }
   ],
   "source": [
    "ml_model['precision_score(+)'].sort_values(ascending=False)"
   ]
  },
  {
   "cell_type": "code",
   "execution_count": 71,
   "metadata": {},
   "outputs": [
    {
     "data": {
      "text/plain": [
       "Logistic Regression            0.974468\n",
       "Random Forest Classifier       0.962175\n",
       "GradientBoosting Classifier    0.958392\n",
       "KNeighbors Classifier          0.951773\n",
       "AdaBoost Classifier            0.944208\n",
       "Decision Tree Classifier       0.913948\n",
       "Name: recall_score(-), dtype: object"
      ]
     },
     "execution_count": 71,
     "metadata": {},
     "output_type": "execute_result"
    }
   ],
   "source": [
    "ml_model['recall_score(-)'].sort_values(ascending=False)"
   ]
  },
  {
   "cell_type": "code",
   "execution_count": 72,
   "metadata": {},
   "outputs": [],
   "source": [
    "# Random Forest Classifier or Logistic Regression ?"
   ]
  },
  {
   "cell_type": "markdown",
   "metadata": {},
   "source": [
    "## Looking for the best parameters"
   ]
  },
  {
   "cell_type": "markdown",
   "metadata": {},
   "source": [
    "### Random Forest Classifier"
   ]
  },
  {
   "cell_type": "code",
   "execution_count": 73,
   "metadata": {},
   "outputs": [],
   "source": [
    "# rfc.get_params()"
   ]
  },
  {
   "cell_type": "markdown",
   "metadata": {},
   "source": [
    "#### RandomSearchCV"
   ]
  },
  {
   "cell_type": "code",
   "execution_count": 74,
   "metadata": {},
   "outputs": [],
   "source": [
    "# criterion_opsi = ['gini', 'entropy']\n",
    "# max_depth_opsi = [10, 15, 20, 25]\n",
    "# max_features_opsi = ['auto', 'sqrt', 'log2']\n",
    "# n_estimators_opsi = [50, 75, 100, 150]\n",
    "# max_samples_opsi = [None, 50, 100, 150]\n",
    "\n",
    "# params = {'criterion': criterion_opsi, 'max_depth': max_depth_opsi, 'max_features': max_features_opsi,\n",
    "#           'n_estimators': n_estimators_opsi, 'max_samples': max_samples_opsi}\n",
    "# params"
   ]
  },
  {
   "cell_type": "code",
   "execution_count": 75,
   "metadata": {},
   "outputs": [],
   "source": [
    "# rfc = RandomForestClassifier(random_state=7)\n",
    "# random_for_rfc = RandomizedSearchCV(estimator=rfc, param_distributions = params, cv = 7, random_state=1)\n",
    "# # random_for_rfc.fit(X_train, y_train)"
   ]
  },
  {
   "cell_type": "code",
   "execution_count": 76,
   "metadata": {},
   "outputs": [],
   "source": [
    "# random_for_rfc.fit(X_train, y_train)"
   ]
  },
  {
   "cell_type": "code",
   "execution_count": 77,
   "metadata": {},
   "outputs": [],
   "source": [
    "# random_for_rfc.best_estimator_"
   ]
  },
  {
   "cell_type": "code",
   "execution_count": 78,
   "metadata": {},
   "outputs": [],
   "source": [
    "# rfc_random = random_for_rfc.best_estimator_\n",
    "# rfc_random.get_params()"
   ]
  },
  {
   "cell_type": "code",
   "execution_count": 79,
   "metadata": {},
   "outputs": [],
   "source": [
    "# rfc_random = RandomForestClassifier(random_state=7)\n",
    "# rfc_random.fit(X_train, y_train)\n",
    "# rfc_random_pred = rfc_random.predict(X_test)\n",
    "# rfc_random_proba = rfc_random.predict_proba(X_test)\n",
    "\n",
    "# confusion_matrix(y_test, rfc_random_pred)\n",
    "\n",
    "# plot_confusion_matrix(rfc_random, X_test, y_test)"
   ]
  },
  {
   "cell_type": "code",
   "execution_count": 80,
   "metadata": {},
   "outputs": [],
   "source": [
    "# rfc = RandomForestClassifier(random_state=7)\n",
    "# rfc.fit(X_train, y_train)\n",
    "# rfc_pred = rfc.predict(X_test)\n",
    "# rfc_proba = rfc.predict_proba(X_test)\n",
    "\n",
    "# confusion_matrix(y_test, rfc_pred)\n",
    "\n",
    "# plot_confusion_matrix(rfc, X_test, y_test)"
   ]
  },
  {
   "cell_type": "markdown",
   "metadata": {},
   "source": [
    "#### GridSearch CV"
   ]
  },
  {
   "cell_type": "code",
   "execution_count": 81,
   "metadata": {},
   "outputs": [],
   "source": [
    "# grid_for_rfc = GridSearchCV(estimator=rfc, param_grid=params, cv=7)\n",
    "# grid_for_rfc.fit(X_train, y_train)"
   ]
  },
  {
   "cell_type": "code",
   "execution_count": 82,
   "metadata": {},
   "outputs": [],
   "source": [
    "# grid_for_rfc.best_estimator_"
   ]
  },
  {
   "cell_type": "code",
   "execution_count": 83,
   "metadata": {},
   "outputs": [],
   "source": [
    "# rfc_grid = grid_for_rfc.best_estimator_\n",
    "# rfc_grid.get_params()"
   ]
  },
  {
   "cell_type": "code",
   "execution_count": 84,
   "metadata": {},
   "outputs": [],
   "source": [
    "# rfc_grid = RandomForestClassifier(random_state=7)\n",
    "# rfc_grid.fit(X_train, y_train)\n",
    "# rfc_grid_pred = rfc_grid.predict(X_test)\n",
    "# rfc_grid_proba = rfc_grid.predict_proba(X_test)\n",
    "\n",
    "# confusion_matrix(y_test, rfc_grid_pred)\n",
    "\n",
    "# plot_confusion_matrix(rfc_grid, X_test, y_test)"
   ]
  },
  {
   "cell_type": "markdown",
   "metadata": {},
   "source": [
    "**rfc_pred**, **rfc_random_pred**, **rfc_grid_pred** menghasilkan nilai yang sama. **RandomSCV** dan **GridSCV** tidak membuat perubahan lebih baik."
   ]
  },
  {
   "cell_type": "markdown",
   "metadata": {},
   "source": [
    "### Logistic Regression"
   ]
  },
  {
   "cell_type": "code",
   "execution_count": 85,
   "metadata": {},
   "outputs": [],
   "source": [
    "# log.get_params()"
   ]
  },
  {
   "cell_type": "code",
   "execution_count": 86,
   "metadata": {},
   "outputs": [],
   "source": [
    "# class_weight_opsi = [None, 'dict', 'balanced']\n",
    "# penalty_opsi = ['l1', 'l2', 'elasticnet', None]\n",
    "\n",
    "# log_params = {'class_weight': class_weight_opsi, 'penalty': penalty_opsi}\n",
    "# log_params"
   ]
  },
  {
   "cell_type": "code",
   "execution_count": 87,
   "metadata": {},
   "outputs": [],
   "source": [
    "# log = LogisticRegression(random_state=1)\n",
    "# random_for_log = RandomizedSearchCV(estimator=log, param_distributions = log_params, cv = 7, random_state=1)\n",
    "# random_for_log.fit(X_train, y_train)"
   ]
  },
  {
   "cell_type": "code",
   "execution_count": 88,
   "metadata": {},
   "outputs": [],
   "source": [
    "# random_for_log.best_estimator_"
   ]
  },
  {
   "cell_type": "code",
   "execution_count": 89,
   "metadata": {},
   "outputs": [],
   "source": [
    "# log_random = random_for_log.best_estimator_\n",
    "# log_random.get_params()"
   ]
  },
  {
   "cell_type": "code",
   "execution_count": 90,
   "metadata": {
    "scrolled": true
   },
   "outputs": [],
   "source": [
    "# log_random = LogisticRegression(random_state=1)\n",
    "# log_random.fit(X_train, y_train)\n",
    "# # print('Slope/Coef:', log.coef_[0][0])\n",
    "# # print('C/Intercept:', log.intercept_[0])\n",
    "\n",
    "# log_random_pred = log_random.predict(X_test)\n",
    "# log_random_proba = log_random.predict_proba(X_test)\n",
    "\n",
    "# confusion_matrix(y_test, log_random_pred)\n",
    "\n",
    "# plot_confusion_matrix(log_random, X_test, y_test)"
   ]
  },
  {
   "cell_type": "code",
   "execution_count": 91,
   "metadata": {},
   "outputs": [],
   "source": [
    "### Pakai Hyperparameter tuning RandomSearchCV dan GridSCV tidak memberi pengaruh ke perubahan yg lebih baik"
   ]
  },
  {
   "cell_type": "markdown",
   "metadata": {},
   "source": [
    "# KFold Validation"
   ]
  },
  {
   "cell_type": "code",
   "execution_count": 92,
   "metadata": {},
   "outputs": [
    {
     "data": {
      "text/plain": [
       "KFold(n_splits=8, random_state=1, shuffle=True)"
      ]
     },
     "execution_count": 92,
     "metadata": {},
     "output_type": "execute_result"
    }
   ],
   "source": [
    "kf = KFold(n_splits=8, random_state=1, shuffle=True)\n",
    "kf"
   ]
  },
  {
   "cell_type": "code",
   "execution_count": 93,
   "metadata": {},
   "outputs": [
    {
     "data": {
      "text/plain": [
       "8"
      ]
     },
     "execution_count": 93,
     "metadata": {},
     "output_type": "execute_result"
    }
   ],
   "source": [
    "kf.get_n_splits(X)"
   ]
  },
  {
   "cell_type": "code",
   "execution_count": 94,
   "metadata": {},
   "outputs": [
    {
     "data": {
      "text/html": [
       "<div>\n",
       "<style scoped>\n",
       "    .dataframe tbody tr th:only-of-type {\n",
       "        vertical-align: middle;\n",
       "    }\n",
       "\n",
       "    .dataframe tbody tr th {\n",
       "        vertical-align: top;\n",
       "    }\n",
       "\n",
       "    .dataframe thead th {\n",
       "        text-align: right;\n",
       "    }\n",
       "</style>\n",
       "<table border=\"1\" class=\"dataframe\">\n",
       "  <thead>\n",
       "    <tr style=\"text-align: right;\">\n",
       "      <th></th>\n",
       "      <th>Administrative</th>\n",
       "      <th>Informational</th>\n",
       "      <th>ProductRelated</th>\n",
       "      <th>ExitRates</th>\n",
       "      <th>PageValues</th>\n",
       "      <th>SpecialDay</th>\n",
       "      <th>Month</th>\n",
       "      <th>Region</th>\n",
       "      <th>TrafficType</th>\n",
       "      <th>VisitorType</th>\n",
       "      <th>Weekend</th>\n",
       "    </tr>\n",
       "  </thead>\n",
       "  <tbody>\n",
       "    <tr>\n",
       "      <th>0</th>\n",
       "      <td>0.0</td>\n",
       "      <td>0.0</td>\n",
       "      <td>1.0</td>\n",
       "      <td>0.20</td>\n",
       "      <td>0.0</td>\n",
       "      <td>0.0</td>\n",
       "      <td>2</td>\n",
       "      <td>0</td>\n",
       "      <td>0</td>\n",
       "      <td>2</td>\n",
       "      <td>0</td>\n",
       "    </tr>\n",
       "    <tr>\n",
       "      <th>1</th>\n",
       "      <td>0.0</td>\n",
       "      <td>0.0</td>\n",
       "      <td>2.0</td>\n",
       "      <td>0.10</td>\n",
       "      <td>0.0</td>\n",
       "      <td>0.0</td>\n",
       "      <td>2</td>\n",
       "      <td>0</td>\n",
       "      <td>1</td>\n",
       "      <td>2</td>\n",
       "      <td>0</td>\n",
       "    </tr>\n",
       "    <tr>\n",
       "      <th>2</th>\n",
       "      <td>0.0</td>\n",
       "      <td>0.0</td>\n",
       "      <td>1.0</td>\n",
       "      <td>0.20</td>\n",
       "      <td>0.0</td>\n",
       "      <td>0.0</td>\n",
       "      <td>2</td>\n",
       "      <td>8</td>\n",
       "      <td>2</td>\n",
       "      <td>2</td>\n",
       "      <td>0</td>\n",
       "    </tr>\n",
       "    <tr>\n",
       "      <th>3</th>\n",
       "      <td>0.0</td>\n",
       "      <td>0.0</td>\n",
       "      <td>2.0</td>\n",
       "      <td>0.14</td>\n",
       "      <td>0.0</td>\n",
       "      <td>0.0</td>\n",
       "      <td>2</td>\n",
       "      <td>1</td>\n",
       "      <td>3</td>\n",
       "      <td>2</td>\n",
       "      <td>0</td>\n",
       "    </tr>\n",
       "    <tr>\n",
       "      <th>4</th>\n",
       "      <td>0.0</td>\n",
       "      <td>0.0</td>\n",
       "      <td>10.0</td>\n",
       "      <td>0.05</td>\n",
       "      <td>0.0</td>\n",
       "      <td>0.0</td>\n",
       "      <td>2</td>\n",
       "      <td>0</td>\n",
       "      <td>3</td>\n",
       "      <td>2</td>\n",
       "      <td>1</td>\n",
       "    </tr>\n",
       "  </tbody>\n",
       "</table>\n",
       "</div>"
      ],
      "text/plain": [
       "   Administrative  Informational  ProductRelated  ExitRates  PageValues  \\\n",
       "0             0.0            0.0             1.0       0.20         0.0   \n",
       "1             0.0            0.0             2.0       0.10         0.0   \n",
       "2             0.0            0.0             1.0       0.20         0.0   \n",
       "3             0.0            0.0             2.0       0.14         0.0   \n",
       "4             0.0            0.0            10.0       0.05         0.0   \n",
       "\n",
       "   SpecialDay  Month  Region  TrafficType  VisitorType  Weekend  \n",
       "0         0.0      2       0            0            2        0  \n",
       "1         0.0      2       0            1            2        0  \n",
       "2         0.0      2       8            2            2        0  \n",
       "3         0.0      2       1            3            2        0  \n",
       "4         0.0      2       0            3            2        1  "
      ]
     },
     "metadata": {},
     "output_type": "display_data"
    },
    {
     "name": "stdout",
     "output_type": "stream",
     "text": [
      "12330\n"
     ]
    }
   ],
   "source": [
    "display(X.head())\n",
    "print(len(X))"
   ]
  },
  {
   "cell_type": "code",
   "execution_count": 95,
   "metadata": {},
   "outputs": [
    {
     "name": "stdout",
     "output_type": "stream",
     "text": [
      "1\n",
      "TRAIN: [    0     1     2 ... 12326 12327 12329] \n",
      "TEST: [    4     7    17 ... 12321 12322 12328]\n",
      "2\n",
      "TRAIN: [    0     1     2 ... 12327 12328 12329] \n",
      "TEST: [    6    16    28 ... 12307 12312 12324]\n",
      "3\n",
      "TRAIN: [    0     1     2 ... 12327 12328 12329] \n",
      "TEST: [   21    24    25 ... 12289 12303 12305]\n",
      "4\n",
      "TRAIN: [    0     2     3 ... 12326 12328 12329] \n",
      "TEST: [    1    10    11 ... 12309 12316 12327]\n",
      "5\n",
      "TRAIN: [    0     1     2 ... 12327 12328 12329] \n",
      "TEST: [    3     5    19 ... 12302 12317 12326]\n",
      "6\n",
      "TRAIN: [    0     1     2 ... 12326 12327 12328] \n",
      "TEST: [    8     9    12 ... 12314 12315 12329]\n",
      "7\n",
      "TRAIN: [    1     2     3 ... 12327 12328 12329] \n",
      "TEST: [    0    14    23 ... 12304 12308 12320]\n",
      "8\n",
      "TRAIN: [    0     1     3 ... 12327 12328 12329] \n",
      "TEST: [    2    15    18 ... 12313 12323 12325]\n"
     ]
    }
   ],
   "source": [
    "fold = 0\n",
    "for train_index, test_index in kf.split(X):\n",
    "    fold += 1\n",
    "    print(fold)\n",
    "    print('TRAIN:', train_index, '\\nTEST:', test_index)"
   ]
  },
  {
   "cell_type": "code",
   "execution_count": 96,
   "metadata": {},
   "outputs": [],
   "source": [
    "def KScore(model, xtr, xts, ytr, yts):\n",
    "    model.fit(xtr, ytr)\n",
    "    pred = model.predict(xts)\n",
    "    return (precision_score(yts, pred), recall_score(yts, pred, pos_label=0), list(confusion_matrix(yts, pred).ravel()))"
   ]
  },
  {
   "cell_type": "code",
   "execution_count": 97,
   "metadata": {},
   "outputs": [
    {
     "data": {
      "text/plain": [
       "[(0.7173144876325088, 0.9621749408983451, [2035, 80, 148, 203]),\n",
       " (0.7173144876325088, 0.9621749408983451, [2035, 80, 148, 203]),\n",
       " (0.7173144876325088, 0.9621749408983451, [2035, 80, 148, 203]),\n",
       " (0.7173144876325088, 0.9621749408983451, [2035, 80, 148, 203]),\n",
       " (0.7173144876325088, 0.9621749408983451, [2035, 80, 148, 203]),\n",
       " (0.7173144876325088, 0.9621749408983451, [2035, 80, 148, 203]),\n",
       " (0.7173144876325088, 0.9621749408983451, [2035, 80, 148, 203]),\n",
       " (0.7173144876325088, 0.9621749408983451, [2035, 80, 148, 203])]"
      ]
     },
     "execution_count": 97,
     "metadata": {},
     "output_type": "execute_result"
    }
   ],
   "source": [
    "score = []\n",
    "for train_index, test_index in kf.split(X):\n",
    "    Xk_train = X.iloc[train_index,:]\n",
    "    Xk_test = X.iloc[test_index,:]\n",
    "    yk_train = y.iloc[train_index]\n",
    "    yk_test = y.iloc[test_index]\n",
    "    score.append(KScore(rfc, X_train, X_test, y_train, y_test)) # disini pakai model (engine) \"rfc\" (RandomForestClassifier).\n",
    "\n",
    "score"
   ]
  },
  {
   "cell_type": "code",
   "execution_count": 98,
   "metadata": {},
   "outputs": [
    {
     "data": {
      "text/html": [
       "<div>\n",
       "<style scoped>\n",
       "    .dataframe tbody tr th:only-of-type {\n",
       "        vertical-align: middle;\n",
       "    }\n",
       "\n",
       "    .dataframe tbody tr th {\n",
       "        vertical-align: top;\n",
       "    }\n",
       "\n",
       "    .dataframe thead th {\n",
       "        text-align: right;\n",
       "    }\n",
       "</style>\n",
       "<table border=\"1\" class=\"dataframe\">\n",
       "  <thead>\n",
       "    <tr style=\"text-align: right;\">\n",
       "      <th></th>\n",
       "      <th>precision_score(+)</th>\n",
       "      <th>recall_score(-)</th>\n",
       "      <th>conf_matrix (TN, FP, FN, TP)</th>\n",
       "    </tr>\n",
       "  </thead>\n",
       "  <tbody>\n",
       "    <tr>\n",
       "      <th>1</th>\n",
       "      <td>0.717314</td>\n",
       "      <td>0.962175</td>\n",
       "      <td>[2035, 80, 148, 203]</td>\n",
       "    </tr>\n",
       "    <tr>\n",
       "      <th>2</th>\n",
       "      <td>0.717314</td>\n",
       "      <td>0.962175</td>\n",
       "      <td>[2035, 80, 148, 203]</td>\n",
       "    </tr>\n",
       "    <tr>\n",
       "      <th>3</th>\n",
       "      <td>0.717314</td>\n",
       "      <td>0.962175</td>\n",
       "      <td>[2035, 80, 148, 203]</td>\n",
       "    </tr>\n",
       "    <tr>\n",
       "      <th>4</th>\n",
       "      <td>0.717314</td>\n",
       "      <td>0.962175</td>\n",
       "      <td>[2035, 80, 148, 203]</td>\n",
       "    </tr>\n",
       "    <tr>\n",
       "      <th>5</th>\n",
       "      <td>0.717314</td>\n",
       "      <td>0.962175</td>\n",
       "      <td>[2035, 80, 148, 203]</td>\n",
       "    </tr>\n",
       "    <tr>\n",
       "      <th>6</th>\n",
       "      <td>0.717314</td>\n",
       "      <td>0.962175</td>\n",
       "      <td>[2035, 80, 148, 203]</td>\n",
       "    </tr>\n",
       "    <tr>\n",
       "      <th>7</th>\n",
       "      <td>0.717314</td>\n",
       "      <td>0.962175</td>\n",
       "      <td>[2035, 80, 148, 203]</td>\n",
       "    </tr>\n",
       "    <tr>\n",
       "      <th>8</th>\n",
       "      <td>0.717314</td>\n",
       "      <td>0.962175</td>\n",
       "      <td>[2035, 80, 148, 203]</td>\n",
       "    </tr>\n",
       "  </tbody>\n",
       "</table>\n",
       "</div>"
      ],
      "text/plain": [
       "   precision_score(+)  recall_score(-) conf_matrix (TN, FP, FN, TP)\n",
       "1            0.717314         0.962175         [2035, 80, 148, 203]\n",
       "2            0.717314         0.962175         [2035, 80, 148, 203]\n",
       "3            0.717314         0.962175         [2035, 80, 148, 203]\n",
       "4            0.717314         0.962175         [2035, 80, 148, 203]\n",
       "5            0.717314         0.962175         [2035, 80, 148, 203]\n",
       "6            0.717314         0.962175         [2035, 80, 148, 203]\n",
       "7            0.717314         0.962175         [2035, 80, 148, 203]\n",
       "8            0.717314         0.962175         [2035, 80, 148, 203]"
      ]
     },
     "execution_count": 98,
     "metadata": {},
     "output_type": "execute_result"
    }
   ],
   "source": [
    "kfold_df = pd.DataFrame(score, columns=['precision_score(+)', 'recall_score(-)', 'conf_matrix (TN, FP, FN, TP)'],\n",
    "                       index = range(1,9))\n",
    "kfold_df"
   ]
  },
  {
   "cell_type": "code",
   "execution_count": 99,
   "metadata": {},
   "outputs": [
    {
     "data": {
      "image/png": "[encoded data removed]",
      "text/plain": [
       "<Figure size 432x288 with 1 Axes>"
      ]
     },
     "metadata": {
      "needs_background": "light"
     },
     "output_type": "display_data"
    }
   ],
   "source": [
    "plt.title('K-Fold Scoring (Precision and Recall) of Random Forest Classifier')\n",
    "plt.plot(kfold_df.index, kfold_df['precision_score(+)'], 'b.-', label='Precision(+)')\n",
    "plt.plot(kfold_df.index, kfold_df['recall_score(-)'], 'r.--', label='Recall(-)')\n",
    "plt.xlabel('Fold') # Fold itu artinya percobaan yg keberapa kali\n",
    "plt.ylabel('Score') # Score itu artinya score dari percobaan itu\n",
    "plt.legend('lower right')\n",
    "plt.grid()\n",
    "plt.show()"
   ]
  },
  {
   "cell_type": "markdown",
   "metadata": {},
   "source": [
    "#### KFold Validation Logistic Regression"
   ]
  },
  {
   "cell_type": "code",
   "execution_count": 100,
   "metadata": {},
   "outputs": [
    {
     "name": "stderr",
     "output_type": "stream",
     "text": [
      "C:\\Users\\Asyraf\\anaconda3\\lib\\site-packages\\sklearn\\linear_model\\_logistic.py:764: ConvergenceWarning: lbfgs failed to converge (status=1):\n",
      "STOP: TOTAL NO. of ITERATIONS REACHED LIMIT.\n",
      "\n",
      "Increase the number of iterations (max_iter) or scale the data as shown in:\n",
      "    https://scikit-learn.org/stable/modules/preprocessing.html\n",
      "Please also refer to the documentation for alternative solver options:\n",
      "    https://scikit-learn.org/stable/modules/linear_model.html#logistic-regression\n",
      "  extra_warning_msg=_LOGISTIC_SOLVER_CONVERGENCE_MSG)\n",
      "C:\\Users\\Asyraf\\anaconda3\\lib\\site-packages\\sklearn\\linear_model\\_logistic.py:764: ConvergenceWarning: lbfgs failed to converge (status=1):\n",
      "STOP: TOTAL NO. of ITERATIONS REACHED LIMIT.\n",
      "\n",
      "Increase the number of iterations (max_iter) or scale the data as shown in:\n",
      "    https://scikit-learn.org/stable/modules/preprocessing.html\n",
      "Please also refer to the documentation for alternative solver options:\n",
      "    https://scikit-learn.org/stable/modules/linear_model.html#logistic-regression\n",
      "  extra_warning_msg=_LOGISTIC_SOLVER_CONVERGENCE_MSG)\n",
      "C:\\Users\\Asyraf\\anaconda3\\lib\\site-packages\\sklearn\\linear_model\\_logistic.py:764: ConvergenceWarning: lbfgs failed to converge (status=1):\n",
      "STOP: TOTAL NO. of ITERATIONS REACHED LIMIT.\n",
      "\n",
      "Increase the number of iterations (max_iter) or scale the data as shown in:\n",
      "    https://scikit-learn.org/stable/modules/preprocessing.html\n",
      "Please also refer to the documentation for alternative solver options:\n",
      "    https://scikit-learn.org/stable/modules/linear_model.html#logistic-regression\n",
      "  extra_warning_msg=_LOGISTIC_SOLVER_CONVERGENCE_MSG)\n",
      "C:\\Users\\Asyraf\\anaconda3\\lib\\site-packages\\sklearn\\linear_model\\_logistic.py:764: ConvergenceWarning: lbfgs failed to converge (status=1):\n",
      "STOP: TOTAL NO. of ITERATIONS REACHED LIMIT.\n",
      "\n",
      "Increase the number of iterations (max_iter) or scale the data as shown in:\n",
      "    https://scikit-learn.org/stable/modules/preprocessing.html\n",
      "Please also refer to the documentation for alternative solver options:\n",
      "    https://scikit-learn.org/stable/modules/linear_model.html#logistic-regression\n",
      "  extra_warning_msg=_LOGISTIC_SOLVER_CONVERGENCE_MSG)\n",
      "C:\\Users\\Asyraf\\anaconda3\\lib\\site-packages\\sklearn\\linear_model\\_logistic.py:764: ConvergenceWarning: lbfgs failed to converge (status=1):\n",
      "STOP: TOTAL NO. of ITERATIONS REACHED LIMIT.\n",
      "\n",
      "Increase the number of iterations (max_iter) or scale the data as shown in:\n",
      "    https://scikit-learn.org/stable/modules/preprocessing.html\n",
      "Please also refer to the documentation for alternative solver options:\n",
      "    https://scikit-learn.org/stable/modules/linear_model.html#logistic-regression\n",
      "  extra_warning_msg=_LOGISTIC_SOLVER_CONVERGENCE_MSG)\n",
      "C:\\Users\\Asyraf\\anaconda3\\lib\\site-packages\\sklearn\\linear_model\\_logistic.py:764: ConvergenceWarning: lbfgs failed to converge (status=1):\n",
      "STOP: TOTAL NO. of ITERATIONS REACHED LIMIT.\n",
      "\n",
      "Increase the number of iterations (max_iter) or scale the data as shown in:\n",
      "    https://scikit-learn.org/stable/modules/preprocessing.html\n",
      "Please also refer to the documentation for alternative solver options:\n",
      "    https://scikit-learn.org/stable/modules/linear_model.html#logistic-regression\n",
      "  extra_warning_msg=_LOGISTIC_SOLVER_CONVERGENCE_MSG)\n",
      "C:\\Users\\Asyraf\\anaconda3\\lib\\site-packages\\sklearn\\linear_model\\_logistic.py:764: ConvergenceWarning: lbfgs failed to converge (status=1):\n",
      "STOP: TOTAL NO. of ITERATIONS REACHED LIMIT.\n",
      "\n",
      "Increase the number of iterations (max_iter) or scale the data as shown in:\n",
      "    https://scikit-learn.org/stable/modules/preprocessing.html\n",
      "Please also refer to the documentation for alternative solver options:\n",
      "    https://scikit-learn.org/stable/modules/linear_model.html#logistic-regression\n",
      "  extra_warning_msg=_LOGISTIC_SOLVER_CONVERGENCE_MSG)\n",
      "C:\\Users\\Asyraf\\anaconda3\\lib\\site-packages\\sklearn\\linear_model\\_logistic.py:764: ConvergenceWarning: lbfgs failed to converge (status=1):\n",
      "STOP: TOTAL NO. of ITERATIONS REACHED LIMIT.\n",
      "\n",
      "Increase the number of iterations (max_iter) or scale the data as shown in:\n",
      "    https://scikit-learn.org/stable/modules/preprocessing.html\n",
      "Please also refer to the documentation for alternative solver options:\n",
      "    https://scikit-learn.org/stable/modules/linear_model.html#logistic-regression\n",
      "  extra_warning_msg=_LOGISTIC_SOLVER_CONVERGENCE_MSG)\n"
     ]
    },
    {
     "data": {
      "text/html": [
       "<div>\n",
       "<style scoped>\n",
       "    .dataframe tbody tr th:only-of-type {\n",
       "        vertical-align: middle;\n",
       "    }\n",
       "\n",
       "    .dataframe tbody tr th {\n",
       "        vertical-align: top;\n",
       "    }\n",
       "\n",
       "    .dataframe thead th {\n",
       "        text-align: right;\n",
       "    }\n",
       "</style>\n",
       "<table border=\"1\" class=\"dataframe\">\n",
       "  <thead>\n",
       "    <tr style=\"text-align: right;\">\n",
       "      <th></th>\n",
       "      <th>precision_score(+)</th>\n",
       "      <th>recall_score(-)</th>\n",
       "      <th>conf_matrix (TN, FP, FN, TP)</th>\n",
       "    </tr>\n",
       "  </thead>\n",
       "  <tbody>\n",
       "    <tr>\n",
       "      <th>1</th>\n",
       "      <td>0.709677</td>\n",
       "      <td>0.974468</td>\n",
       "      <td>[2061, 54, 219, 132]</td>\n",
       "    </tr>\n",
       "    <tr>\n",
       "      <th>2</th>\n",
       "      <td>0.709677</td>\n",
       "      <td>0.974468</td>\n",
       "      <td>[2061, 54, 219, 132]</td>\n",
       "    </tr>\n",
       "    <tr>\n",
       "      <th>3</th>\n",
       "      <td>0.709677</td>\n",
       "      <td>0.974468</td>\n",
       "      <td>[2061, 54, 219, 132]</td>\n",
       "    </tr>\n",
       "    <tr>\n",
       "      <th>4</th>\n",
       "      <td>0.709677</td>\n",
       "      <td>0.974468</td>\n",
       "      <td>[2061, 54, 219, 132]</td>\n",
       "    </tr>\n",
       "    <tr>\n",
       "      <th>5</th>\n",
       "      <td>0.709677</td>\n",
       "      <td>0.974468</td>\n",
       "      <td>[2061, 54, 219, 132]</td>\n",
       "    </tr>\n",
       "    <tr>\n",
       "      <th>6</th>\n",
       "      <td>0.709677</td>\n",
       "      <td>0.974468</td>\n",
       "      <td>[2061, 54, 219, 132]</td>\n",
       "    </tr>\n",
       "    <tr>\n",
       "      <th>7</th>\n",
       "      <td>0.709677</td>\n",
       "      <td>0.974468</td>\n",
       "      <td>[2061, 54, 219, 132]</td>\n",
       "    </tr>\n",
       "    <tr>\n",
       "      <th>8</th>\n",
       "      <td>0.709677</td>\n",
       "      <td>0.974468</td>\n",
       "      <td>[2061, 54, 219, 132]</td>\n",
       "    </tr>\n",
       "  </tbody>\n",
       "</table>\n",
       "</div>"
      ],
      "text/plain": [
       "   precision_score(+)  recall_score(-) conf_matrix (TN, FP, FN, TP)\n",
       "1            0.709677         0.974468         [2061, 54, 219, 132]\n",
       "2            0.709677         0.974468         [2061, 54, 219, 132]\n",
       "3            0.709677         0.974468         [2061, 54, 219, 132]\n",
       "4            0.709677         0.974468         [2061, 54, 219, 132]\n",
       "5            0.709677         0.974468         [2061, 54, 219, 132]\n",
       "6            0.709677         0.974468         [2061, 54, 219, 132]\n",
       "7            0.709677         0.974468         [2061, 54, 219, 132]\n",
       "8            0.709677         0.974468         [2061, 54, 219, 132]"
      ]
     },
     "execution_count": 100,
     "metadata": {},
     "output_type": "execute_result"
    }
   ],
   "source": [
    "score = []\n",
    "for train_index, test_index in kf.split(X):\n",
    "    Xk_train = X.iloc[train_index,:]\n",
    "    Xk_test = X.iloc[test_index,:]\n",
    "    yk_train = y.iloc[train_index]\n",
    "    yk_test = y.iloc[test_index]\n",
    "    score.append(KScore(log, X_train, X_test, y_train, y_test)) # disini pakai model (engine) \"log\" (Logistic Regression).\n",
    "\n",
    "kfold_df = pd.DataFrame(score, columns=['precision_score(+)', 'recall_score(-)', 'conf_matrix (TN, FP, FN, TP)'],\n",
    "                       index = range(1,9))\n",
    "kfold_df"
   ]
  },
  {
   "cell_type": "code",
   "execution_count": 101,
   "metadata": {},
   "outputs": [
    {
     "data": {
      "image/png": "[encoded data removed]",
      "text/plain": [
       "<Figure size 432x288 with 1 Axes>"
      ]
     },
     "metadata": {
      "needs_background": "light"
     },
     "output_type": "display_data"
    }
   ],
   "source": [
    "plt.title('K-Fold Scoring (Precision and Recall) of Logistic Regression')\n",
    "plt.plot(kfold_df.index, kfold_df['precision_score(+)'], 'b.-', label='Precision(+)')\n",
    "plt.plot(kfold_df.index, kfold_df['recall_score(-)'], 'r.--', label='Recall(-)')\n",
    "plt.xlabel('Fold') # Fold itu artinya percobaan yg keberapa kali\n",
    "plt.ylabel('Score') # Score itu artinya score dari percobaan itu\n",
    "plt.legend('lower right')\n",
    "plt.grid()\n",
    "plt.show()"
   ]
  },
  {
   "cell_type": "code",
   "execution_count": 102,
   "metadata": {},
   "outputs": [],
   "source": [
    "# RFC dan Log dites pakai KFold sama2 stabil"
   ]
  },
  {
   "cell_type": "markdown",
   "metadata": {},
   "source": [
    "## ROC AUC"
   ]
  },
  {
   "cell_type": "code",
   "execution_count": 103,
   "metadata": {},
   "outputs": [],
   "source": [
    "from sklearn.metrics import roc_curve, auc"
   ]
  },
  {
   "cell_type": "code",
   "execution_count": 104,
   "metadata": {},
   "outputs": [
    {
     "data": {
      "image/png": "[encoded data removed]",
      "text/plain": [
       "<Figure size 432x288 with 1 Axes>"
      ]
     },
     "metadata": {
      "needs_background": "light"
     },
     "output_type": "display_data"
    }
   ],
   "source": [
    "rfcprob1 = rfc_proba[:,1]\n",
    "fpr_rfc1, tpr_rfc1, threshold_rfc1 = roc_curve(y_test, rfcprob1)\n",
    "auc_rfc = auc(fpr_rfc1, tpr_rfc1)\n",
    "\n",
    "plt.title('ROC Curve - Random Forest Classifier')\n",
    "plt.plot(fpr_rfc1, tpr_rfc1, 'b--o', label='AUC - Random Forest Classifier = {}'.format(round(auc_rfc,2)))\n",
    "plt.plot([0,1], [0,1], 'r--')\n",
    "plt.xlim([0,1]) # limit sumbu x\n",
    "plt.ylim([0,1]) # limit sumbu y\n",
    "plt.xlabel('False Positive Rate')\n",
    "plt.ylabel('True Positive Rate')\n",
    "plt.fill_between(fpr_rfc1, tpr_rfc1, 0, facecolor='azure', alpha=1)\n",
    "plt.legend(loc='lower right')\n",
    "plt.show()"
   ]
  },
  {
   "cell_type": "code",
   "execution_count": 138,
   "metadata": {},
   "outputs": [
    {
     "data": {
      "text/html": [
       "<div>\n",
       "<style scoped>\n",
       "    .dataframe tbody tr th:only-of-type {\n",
       "        vertical-align: middle;\n",
       "    }\n",
       "\n",
       "    .dataframe tbody tr th {\n",
       "        vertical-align: top;\n",
       "    }\n",
       "\n",
       "    .dataframe thead th {\n",
       "        text-align: right;\n",
       "    }\n",
       "</style>\n",
       "<table border=\"1\" class=\"dataframe\">\n",
       "  <thead>\n",
       "    <tr style=\"text-align: right;\">\n",
       "      <th></th>\n",
       "      <th>thres</th>\n",
       "      <th>tpr</th>\n",
       "      <th>fpr</th>\n",
       "    </tr>\n",
       "  </thead>\n",
       "  <tbody>\n",
       "    <tr>\n",
       "      <th>32</th>\n",
       "      <td>0.68</td>\n",
       "      <td>0.407407</td>\n",
       "      <td>0.015603</td>\n",
       "    </tr>\n",
       "    <tr>\n",
       "      <th>33</th>\n",
       "      <td>0.67</td>\n",
       "      <td>0.413105</td>\n",
       "      <td>0.017494</td>\n",
       "    </tr>\n",
       "    <tr>\n",
       "      <th>34</th>\n",
       "      <td>0.66</td>\n",
       "      <td>0.421652</td>\n",
       "      <td>0.018440</td>\n",
       "    </tr>\n",
       "    <tr>\n",
       "      <th>35</th>\n",
       "      <td>0.65</td>\n",
       "      <td>0.427350</td>\n",
       "      <td>0.019385</td>\n",
       "    </tr>\n",
       "    <tr>\n",
       "      <th>36</th>\n",
       "      <td>0.64</td>\n",
       "      <td>0.447293</td>\n",
       "      <td>0.019858</td>\n",
       "    </tr>\n",
       "    <tr>\n",
       "      <th>37</th>\n",
       "      <td>0.63</td>\n",
       "      <td>0.458689</td>\n",
       "      <td>0.020804</td>\n",
       "    </tr>\n",
       "    <tr>\n",
       "      <th>38</th>\n",
       "      <td>0.61</td>\n",
       "      <td>0.475783</td>\n",
       "      <td>0.023641</td>\n",
       "    </tr>\n",
       "    <tr>\n",
       "      <th>39</th>\n",
       "      <td>0.60</td>\n",
       "      <td>0.484330</td>\n",
       "      <td>0.023641</td>\n",
       "    </tr>\n",
       "    <tr>\n",
       "      <th>40</th>\n",
       "      <td>0.59</td>\n",
       "      <td>0.498575</td>\n",
       "      <td>0.023641</td>\n",
       "    </tr>\n",
       "    <tr>\n",
       "      <th>41</th>\n",
       "      <td>0.58</td>\n",
       "      <td>0.504274</td>\n",
       "      <td>0.025059</td>\n",
       "    </tr>\n",
       "    <tr>\n",
       "      <th>42</th>\n",
       "      <td>0.57</td>\n",
       "      <td>0.515670</td>\n",
       "      <td>0.026950</td>\n",
       "    </tr>\n",
       "    <tr>\n",
       "      <th>43</th>\n",
       "      <td>0.56</td>\n",
       "      <td>0.524217</td>\n",
       "      <td>0.028369</td>\n",
       "    </tr>\n",
       "  </tbody>\n",
       "</table>\n",
       "</div>"
      ],
      "text/plain": [
       "    thres       tpr       fpr\n",
       "32   0.68  0.407407  0.015603\n",
       "33   0.67  0.413105  0.017494\n",
       "34   0.66  0.421652  0.018440\n",
       "35   0.65  0.427350  0.019385\n",
       "36   0.64  0.447293  0.019858\n",
       "37   0.63  0.458689  0.020804\n",
       "38   0.61  0.475783  0.023641\n",
       "39   0.60  0.484330  0.023641\n",
       "40   0.59  0.498575  0.023641\n",
       "41   0.58  0.504274  0.025059\n",
       "42   0.57  0.515670  0.026950\n",
       "43   0.56  0.524217  0.028369"
      ]
     },
     "execution_count": 138,
     "metadata": {},
     "output_type": "execute_result"
    }
   ],
   "source": [
    "thres_rfc = pd.DataFrame({'thres': threshold_rfc1, 'tpr': tpr_rfc1, 'fpr': fpr_rfc1})\n",
    "# display(thres_rfc['tpr'].sort_values(ascending=False))\n",
    "# display(thres_rfc['fpr'].sort_values(ascending=True))\n",
    "thres_rfc[(thres_rfc['tpr']>0.4) & (thres_rfc['fpr']<0.03)]\n",
    "# thres_rfc"
   ]
  },
  {
   "cell_type": "code",
   "execution_count": 132,
   "metadata": {},
   "outputs": [
    {
     "data": {
      "text/plain": [
       "array([[2068,   47],\n",
       "       [ 187,  164]], dtype=int64)"
      ]
     },
     "execution_count": 132,
     "metadata": {},
     "output_type": "execute_result"
    }
   ],
   "source": [
    "rfc_pred_roc = [0 if x < 0.62 else 1 for x in rfcprob1]\n",
    "# rfc_pred_roc = [0 if x < 0.61 else 1 for x in rfcprob1]\n",
    "# rfc_pred_roc = [0 if x < 0.55 else 1 for x in rfcprob1]\n",
    "confusion_matrix(y_test, rfc_pred_roc)"
   ]
  },
  {
   "cell_type": "code",
   "execution_count": 107,
   "metadata": {},
   "outputs": [
    {
     "data": {
      "text/plain": [
       "array([[2035,   80],\n",
       "       [ 148,  203]], dtype=int64)"
      ]
     },
     "execution_count": 107,
     "metadata": {},
     "output_type": "execute_result"
    }
   ],
   "source": [
    "confusion_matrix(y_test, rfc_pred)"
   ]
  },
  {
   "cell_type": "code",
   "execution_count": 108,
   "metadata": {},
   "outputs": [
    {
     "data": {
      "text/plain": [
       "array([0.02, 0.34, 0.  , ..., 0.39, 0.07, 0.01])"
      ]
     },
     "execution_count": 108,
     "metadata": {},
     "output_type": "execute_result"
    }
   ],
   "source": [
    "# rfc_proba[:,1]\n",
    "rfc.predict_proba(X_test)[:,1]"
   ]
  },
  {
   "cell_type": "code",
   "execution_count": 109,
   "metadata": {},
   "outputs": [
    {
     "data": {
      "text/plain": [
       "(0, 1)"
      ]
     },
     "execution_count": 109,
     "metadata": {},
     "output_type": "execute_result"
    },
    {
     "data": {
      "image/png": "[encoded data removed]",
      "text/plain": [
       "<Figure size 720x432 with 1 Axes>"
      ]
     },
     "metadata": {
      "needs_background": "light"
     },
     "output_type": "display_data"
    }
   ],
   "source": [
    "rfcprob1 = rfc.predict_proba(X_test)[:,1]\n",
    "df_rfc_prob = pd.DataFrame(rfcprob1, columns=['rfc_prob1'])\n",
    "plt.figure(figsize=(10,6))\n",
    "sns.scatterplot(data=df_rfc_prob['rfc_prob1'])\n",
    "plt.axhline(0.5, color='red')\n",
    "plt.axhline(0.55, color='green')\n",
    "plt.ylim(0,1)"
   ]
  },
  {
   "cell_type": "markdown",
   "metadata": {},
   "source": [
    "#### Custom Threshold Logistic Regression"
   ]
  },
  {
   "cell_type": "code",
   "execution_count": 128,
   "metadata": {},
   "outputs": [
    {
     "data": {
      "image/png": "[encoded data removed]",
      "text/plain": [
       "<Figure size 432x288 with 1 Axes>"
      ]
     },
     "metadata": {
      "needs_background": "light"
     },
     "output_type": "display_data"
    }
   ],
   "source": [
    "logprob1 = log_proba[:,1]\n",
    "fpr_log1, tpr_log1, threshold_log1 = roc_curve(y_test, logprob1)\n",
    "auc_log = auc(fpr_log1, tpr_log1)\n",
    "\n",
    "plt.title('ROC Curve - Logistic Regression')\n",
    "plt.plot(fpr_log1, tpr_log1, 'b--o', label='AUC - Logistic Regression = {}'.format(round(auc_log,2)))\n",
    "plt.plot([0,1], [0,1], 'r--')\n",
    "plt.xlim([0,1]) # limit sumbu x\n",
    "plt.ylim([0,1]) # limit sumbu y\n",
    "plt.xlabel('False Positive Rate')\n",
    "plt.ylabel('True Positive Rate')\n",
    "plt.fill_between(fpr_log1, tpr_log1, 0, facecolor='azure', alpha=1)\n",
    "plt.legend(loc='lower right')\n",
    "plt.show()"
   ]
  },
  {
   "cell_type": "code",
   "execution_count": 144,
   "metadata": {},
   "outputs": [
    {
     "data": {
      "text/html": [
       "<div>\n",
       "<style scoped>\n",
       "    .dataframe tbody tr th:only-of-type {\n",
       "        vertical-align: middle;\n",
       "    }\n",
       "\n",
       "    .dataframe tbody tr th {\n",
       "        vertical-align: top;\n",
       "    }\n",
       "\n",
       "    .dataframe thead th {\n",
       "        text-align: right;\n",
       "    }\n",
       "</style>\n",
       "<table border=\"1\" class=\"dataframe\">\n",
       "  <thead>\n",
       "    <tr style=\"text-align: right;\">\n",
       "      <th></th>\n",
       "      <th>thres</th>\n",
       "      <th>tpr</th>\n",
       "      <th>fpr</th>\n",
       "    </tr>\n",
       "  </thead>\n",
       "  <tbody>\n",
       "    <tr>\n",
       "      <th>78</th>\n",
       "      <td>0.557278</td>\n",
       "      <td>0.353276</td>\n",
       "      <td>0.021749</td>\n",
       "    </tr>\n",
       "    <tr>\n",
       "      <th>79</th>\n",
       "      <td>0.541534</td>\n",
       "      <td>0.353276</td>\n",
       "      <td>0.023168</td>\n",
       "    </tr>\n",
       "    <tr>\n",
       "      <th>80</th>\n",
       "      <td>0.540229</td>\n",
       "      <td>0.356125</td>\n",
       "      <td>0.023168</td>\n",
       "    </tr>\n",
       "    <tr>\n",
       "      <th>81</th>\n",
       "      <td>0.537701</td>\n",
       "      <td>0.356125</td>\n",
       "      <td>0.023641</td>\n",
       "    </tr>\n",
       "    <tr>\n",
       "      <th>82</th>\n",
       "      <td>0.535033</td>\n",
       "      <td>0.358974</td>\n",
       "      <td>0.023641</td>\n",
       "    </tr>\n",
       "    <tr>\n",
       "      <th>83</th>\n",
       "      <td>0.534685</td>\n",
       "      <td>0.358974</td>\n",
       "      <td>0.024113</td>\n",
       "    </tr>\n",
       "    <tr>\n",
       "      <th>84</th>\n",
       "      <td>0.531142</td>\n",
       "      <td>0.361823</td>\n",
       "      <td>0.024113</td>\n",
       "    </tr>\n",
       "    <tr>\n",
       "      <th>85</th>\n",
       "      <td>0.530577</td>\n",
       "      <td>0.361823</td>\n",
       "      <td>0.024586</td>\n",
       "    </tr>\n",
       "    <tr>\n",
       "      <th>86</th>\n",
       "      <td>0.519251</td>\n",
       "      <td>0.370370</td>\n",
       "      <td>0.024586</td>\n",
       "    </tr>\n",
       "    <tr>\n",
       "      <th>87</th>\n",
       "      <td>0.517178</td>\n",
       "      <td>0.370370</td>\n",
       "      <td>0.025532</td>\n",
       "    </tr>\n",
       "    <tr>\n",
       "      <th>88</th>\n",
       "      <td>0.491551</td>\n",
       "      <td>0.381766</td>\n",
       "      <td>0.025532</td>\n",
       "    </tr>\n",
       "    <tr>\n",
       "      <th>89</th>\n",
       "      <td>0.491442</td>\n",
       "      <td>0.381766</td>\n",
       "      <td>0.026005</td>\n",
       "    </tr>\n",
       "    <tr>\n",
       "      <th>90</th>\n",
       "      <td>0.490860</td>\n",
       "      <td>0.384615</td>\n",
       "      <td>0.026005</td>\n",
       "    </tr>\n",
       "    <tr>\n",
       "      <th>91</th>\n",
       "      <td>0.490126</td>\n",
       "      <td>0.384615</td>\n",
       "      <td>0.026478</td>\n",
       "    </tr>\n",
       "    <tr>\n",
       "      <th>92</th>\n",
       "      <td>0.487555</td>\n",
       "      <td>0.390313</td>\n",
       "      <td>0.026478</td>\n",
       "    </tr>\n",
       "    <tr>\n",
       "      <th>93</th>\n",
       "      <td>0.485675</td>\n",
       "      <td>0.390313</td>\n",
       "      <td>0.026950</td>\n",
       "    </tr>\n",
       "    <tr>\n",
       "      <th>94</th>\n",
       "      <td>0.480925</td>\n",
       "      <td>0.398860</td>\n",
       "      <td>0.026950</td>\n",
       "    </tr>\n",
       "    <tr>\n",
       "      <th>95</th>\n",
       "      <td>0.477674</td>\n",
       "      <td>0.398860</td>\n",
       "      <td>0.027896</td>\n",
       "    </tr>\n",
       "    <tr>\n",
       "      <th>96</th>\n",
       "      <td>0.471502</td>\n",
       "      <td>0.404558</td>\n",
       "      <td>0.027896</td>\n",
       "    </tr>\n",
       "    <tr>\n",
       "      <th>97</th>\n",
       "      <td>0.469953</td>\n",
       "      <td>0.404558</td>\n",
       "      <td>0.028369</td>\n",
       "    </tr>\n",
       "    <tr>\n",
       "      <th>98</th>\n",
       "      <td>0.456685</td>\n",
       "      <td>0.410256</td>\n",
       "      <td>0.028369</td>\n",
       "    </tr>\n",
       "  </tbody>\n",
       "</table>\n",
       "</div>"
      ],
      "text/plain": [
       "       thres       tpr       fpr\n",
       "78  0.557278  0.353276  0.021749\n",
       "79  0.541534  0.353276  0.023168\n",
       "80  0.540229  0.356125  0.023168\n",
       "81  0.537701  0.356125  0.023641\n",
       "82  0.535033  0.358974  0.023641\n",
       "83  0.534685  0.358974  0.024113\n",
       "84  0.531142  0.361823  0.024113\n",
       "85  0.530577  0.361823  0.024586\n",
       "86  0.519251  0.370370  0.024586\n",
       "87  0.517178  0.370370  0.025532\n",
       "88  0.491551  0.381766  0.025532\n",
       "89  0.491442  0.381766  0.026005\n",
       "90  0.490860  0.384615  0.026005\n",
       "91  0.490126  0.384615  0.026478\n",
       "92  0.487555  0.390313  0.026478\n",
       "93  0.485675  0.390313  0.026950\n",
       "94  0.480925  0.398860  0.026950\n",
       "95  0.477674  0.398860  0.027896\n",
       "96  0.471502  0.404558  0.027896\n",
       "97  0.469953  0.404558  0.028369\n",
       "98  0.456685  0.410256  0.028369"
      ]
     },
     "execution_count": 144,
     "metadata": {},
     "output_type": "execute_result"
    }
   ],
   "source": [
    "thres_log = pd.DataFrame({'thres': threshold_log1, 'tpr': tpr_log1, 'fpr': fpr_log1})\n",
    "thres_log[(thres_log['tpr']>0.35) & (thres_log['fpr']<0.03)]"
   ]
  },
  {
   "cell_type": "code",
   "execution_count": 110,
   "metadata": {},
   "outputs": [
    {
     "data": {
      "text/plain": [
       "array([[2063,   52],\n",
       "       [ 224,  127]], dtype=int64)"
      ]
     },
     "execution_count": 110,
     "metadata": {},
     "output_type": "execute_result"
    }
   ],
   "source": [
    "logprob1 = log.predict_proba(X_test)[:,1]\n",
    "log_pred_roc = [0 if x < 0.53 else 1 for x in logprob1]\n",
    "confusion_matrix(y_test, log_pred_roc)"
   ]
  },
  {
   "cell_type": "code",
   "execution_count": 111,
   "metadata": {},
   "outputs": [
    {
     "data": {
      "text/plain": [
       "array([[2061,   54],\n",
       "       [ 219,  132]], dtype=int64)"
      ]
     },
     "execution_count": 111,
     "metadata": {},
     "output_type": "execute_result"
    }
   ],
   "source": [
    "confusion_matrix(y_test, log_pred)"
   ]
  },
  {
   "cell_type": "code",
   "execution_count": 112,
   "metadata": {},
   "outputs": [
    {
     "data": {
      "text/plain": [
       "(0, 1)"
      ]
     },
     "execution_count": 112,
     "metadata": {},
     "output_type": "execute_result"
    },
    {
     "data": {
      "image/png": "[encoded data removed]",
      "text/plain": [
       "<Figure size 720x432 with 1 Axes>"
      ]
     },
     "metadata": {
      "needs_background": "light"
     },
     "output_type": "display_data"
    }
   ],
   "source": [
    "df_log_prob = pd.DataFrame(logprob1, columns=['log_prob1'])\n",
    "plt.figure(figsize=(10,6))\n",
    "sns.scatterplot(data=df_log_prob['log_prob1'])\n",
    "plt.axhline(0.5, color='red')\n",
    "plt.axhline(0.53, color='green')\n",
    "plt.ylim(0,1)"
   ]
  },
  {
   "cell_type": "code",
   "execution_count": 113,
   "metadata": {},
   "outputs": [
    {
     "data": {
      "text/plain": [
       "array([[2068,   47],\n",
       "       [ 187,  164]], dtype=int64)"
      ]
     },
     "metadata": {},
     "output_type": "display_data"
    },
    {
     "data": {
      "text/plain": [
       "array([[2063,   52],\n",
       "       [ 224,  127]], dtype=int64)"
      ]
     },
     "metadata": {},
     "output_type": "display_data"
    }
   ],
   "source": [
    "rfc_pred_roc = [0 if x < 0.62 else 1 for x in rfcprob1]\n",
    "display(confusion_matrix(y_test, rfc_pred_roc))\n",
    "\n",
    "log_pred_roc = [0 if x < 0.53 else 1 for x in logprob1]\n",
    "display(confusion_matrix(y_test, log_pred_roc))"
   ]
  },
  {
   "cell_type": "code",
   "execution_count": 114,
   "metadata": {},
   "outputs": [
    {
     "data": {
      "text/html": [
       "<div>\n",
       "<style scoped>\n",
       "    .dataframe tbody tr th:only-of-type {\n",
       "        vertical-align: middle;\n",
       "    }\n",
       "\n",
       "    .dataframe tbody tr th {\n",
       "        vertical-align: top;\n",
       "    }\n",
       "\n",
       "    .dataframe thead th {\n",
       "        text-align: right;\n",
       "    }\n",
       "</style>\n",
       "<table border=\"1\" class=\"dataframe\">\n",
       "  <thead>\n",
       "    <tr style=\"text-align: right;\">\n",
       "      <th></th>\n",
       "      <th>precision_score(+)</th>\n",
       "      <th>recall_score(-)</th>\n",
       "      <th>conf_matrix (TN, FP, FN, TP)</th>\n",
       "    </tr>\n",
       "  </thead>\n",
       "  <tbody>\n",
       "    <tr>\n",
       "      <th>Logistic Regression</th>\n",
       "      <td>0.709497</td>\n",
       "      <td>0.975414</td>\n",
       "      <td>[2063, 52, 224, 127]</td>\n",
       "    </tr>\n",
       "    <tr>\n",
       "      <th>Random Forest Classifier</th>\n",
       "      <td>0.777251</td>\n",
       "      <td>0.977778</td>\n",
       "      <td>[2068, 47, 187, 164]</td>\n",
       "    </tr>\n",
       "  </tbody>\n",
       "</table>\n",
       "</div>"
      ],
      "text/plain": [
       "                         precision_score(+) recall_score(-)  \\\n",
       "Logistic Regression                0.709497        0.975414   \n",
       "Random Forest Classifier           0.777251        0.977778   \n",
       "\n",
       "                         conf_matrix (TN, FP, FN, TP)  \n",
       "Logistic Regression              [2063, 52, 224, 127]  \n",
       "Random Forest Classifier         [2068, 47, 187, 164]  "
      ]
     },
     "execution_count": 114,
     "metadata": {},
     "output_type": "execute_result"
    }
   ],
   "source": [
    "ml_model_a = pd.DataFrame({\n",
    "    \"Logistic Regression\": [precision_score(y_test, log_pred_roc), recall_score(y_test, log_pred_roc, pos_label=0), list(confusion_matrix(y_test, log_pred_roc).ravel())],\n",
    "    \"Random Forest Classifier\": [precision_score(y_test, rfc_pred_roc), recall_score(y_test, rfc_pred_roc, pos_label=0), list(confusion_matrix(y_test, rfc_pred_roc).ravel())]\n",
    "}, index = ['precision_score(+)', 'recall_score(-)', 'conf_matrix (TN, FP, FN, TP)']).T\n",
    "ml_model_a"
   ]
  },
  {
   "cell_type": "code",
   "execution_count": 115,
   "metadata": {},
   "outputs": [
    {
     "name": "stdout",
     "output_type": "stream",
     "text": [
      "                 precision    recall  f1-score   support\n",
      "\n",
      "0/-/Not Revenue       0.92      0.98      0.95      2115\n",
      "    1/+/Revenue       0.78      0.47      0.58       351\n",
      "\n",
      "       accuracy                           0.91      2466\n",
      "      macro avg       0.85      0.72      0.77      2466\n",
      "   weighted avg       0.90      0.91      0.89      2466\n",
      "\n"
     ]
    }
   ],
   "source": [
    "print(classification_report(y_test, rfc_pred_roc, target_names=['0/-/Not Revenue', '1/+/Revenue']))"
   ]
  },
  {
   "cell_type": "markdown",
   "metadata": {},
   "source": [
    "Kesimpulan:\n",
    "- Machine Learning dengan metode RandomForest dan Logistic Regression menghasilkan Precision(+) dan Recall(-) tertinggi.\n",
    "- Dengan mencustom threshold, nilai FN masih tetap akan bertambah jika nilai FP berkurang. Jika nilai FN tinggi, maka TP rendah. Jika TP rendah, maka Precision_Score(+) akan rendah.\n",
    "- Antara RandomForest dan Logistic Regression terpilih lebih baik **Model** dari **RandomForest**, karena nilai precision_score(+) nya dan recall_score(-) nya lebih tinggi."
   ]
  },
  {
   "cell_type": "markdown",
   "metadata": {},
   "source": [
    "Dengan **memilih features terbaik** dahulu untuk metode Machine Learning, maka dapat dihasilkan model lebih baik dari pada dengan semua features atau dengan pca.\n",
    "Model terbaik yang dihasilkan adalah dengan pola **Random Forest Classifier (rfc)**."
   ]
  },
  {
   "cell_type": "markdown",
   "metadata": {},
   "source": [
    "## Joblib (Deploy Machine Learning Model to Dashboard)"
   ]
  },
  {
   "cell_type": "code",
   "execution_count": 116,
   "metadata": {},
   "outputs": [],
   "source": [
    "import joblib"
   ]
  },
  {
   "cell_type": "code",
   "execution_count": 117,
   "metadata": {},
   "outputs": [
    {
     "data": {
      "text/plain": [
       "['rfc']"
      ]
     },
     "execution_count": 117,
     "metadata": {},
     "output_type": "execute_result"
    }
   ],
   "source": [
    "joblib.dump(rfc, 'rfc')"
   ]
  },
  {
   "cell_type": "code",
   "execution_count": 118,
   "metadata": {},
   "outputs": [
    {
     "data": {
      "text/html": [
       "<div>\n",
       "<style scoped>\n",
       "    .dataframe tbody tr th:only-of-type {\n",
       "        vertical-align: middle;\n",
       "    }\n",
       "\n",
       "    .dataframe tbody tr th {\n",
       "        vertical-align: top;\n",
       "    }\n",
       "\n",
       "    .dataframe thead th {\n",
       "        text-align: right;\n",
       "    }\n",
       "</style>\n",
       "<table border=\"1\" class=\"dataframe\">\n",
       "  <thead>\n",
       "    <tr style=\"text-align: right;\">\n",
       "      <th></th>\n",
       "      <th>Administrative</th>\n",
       "      <th>Informational</th>\n",
       "      <th>ProductRelated</th>\n",
       "      <th>ExitRates</th>\n",
       "      <th>PageValues</th>\n",
       "      <th>SpecialDay</th>\n",
       "      <th>Month</th>\n",
       "      <th>Region</th>\n",
       "      <th>TrafficType</th>\n",
       "      <th>VisitorType</th>\n",
       "      <th>Weekend</th>\n",
       "      <th>Revenue</th>\n",
       "    </tr>\n",
       "  </thead>\n",
       "  <tbody>\n",
       "    <tr>\n",
       "      <th>0</th>\n",
       "      <td>0.0</td>\n",
       "      <td>0.0</td>\n",
       "      <td>1.0</td>\n",
       "      <td>0.200000</td>\n",
       "      <td>0.000000</td>\n",
       "      <td>0.0</td>\n",
       "      <td>2</td>\n",
       "      <td>0</td>\n",
       "      <td>0</td>\n",
       "      <td>2</td>\n",
       "      <td>0</td>\n",
       "      <td>0</td>\n",
       "    </tr>\n",
       "    <tr>\n",
       "      <th>1</th>\n",
       "      <td>0.0</td>\n",
       "      <td>0.0</td>\n",
       "      <td>2.0</td>\n",
       "      <td>0.100000</td>\n",
       "      <td>0.000000</td>\n",
       "      <td>0.0</td>\n",
       "      <td>2</td>\n",
       "      <td>0</td>\n",
       "      <td>1</td>\n",
       "      <td>2</td>\n",
       "      <td>0</td>\n",
       "      <td>0</td>\n",
       "    </tr>\n",
       "    <tr>\n",
       "      <th>2</th>\n",
       "      <td>0.0</td>\n",
       "      <td>0.0</td>\n",
       "      <td>1.0</td>\n",
       "      <td>0.200000</td>\n",
       "      <td>0.000000</td>\n",
       "      <td>0.0</td>\n",
       "      <td>2</td>\n",
       "      <td>8</td>\n",
       "      <td>2</td>\n",
       "      <td>2</td>\n",
       "      <td>0</td>\n",
       "      <td>0</td>\n",
       "    </tr>\n",
       "    <tr>\n",
       "      <th>3</th>\n",
       "      <td>0.0</td>\n",
       "      <td>0.0</td>\n",
       "      <td>2.0</td>\n",
       "      <td>0.140000</td>\n",
       "      <td>0.000000</td>\n",
       "      <td>0.0</td>\n",
       "      <td>2</td>\n",
       "      <td>1</td>\n",
       "      <td>3</td>\n",
       "      <td>2</td>\n",
       "      <td>0</td>\n",
       "      <td>0</td>\n",
       "    </tr>\n",
       "    <tr>\n",
       "      <th>4</th>\n",
       "      <td>0.0</td>\n",
       "      <td>0.0</td>\n",
       "      <td>10.0</td>\n",
       "      <td>0.050000</td>\n",
       "      <td>0.000000</td>\n",
       "      <td>0.0</td>\n",
       "      <td>2</td>\n",
       "      <td>0</td>\n",
       "      <td>3</td>\n",
       "      <td>2</td>\n",
       "      <td>1</td>\n",
       "      <td>0</td>\n",
       "    </tr>\n",
       "    <tr>\n",
       "      <th>...</th>\n",
       "      <td>...</td>\n",
       "      <td>...</td>\n",
       "      <td>...</td>\n",
       "      <td>...</td>\n",
       "      <td>...</td>\n",
       "      <td>...</td>\n",
       "      <td>...</td>\n",
       "      <td>...</td>\n",
       "      <td>...</td>\n",
       "      <td>...</td>\n",
       "      <td>...</td>\n",
       "      <td>...</td>\n",
       "    </tr>\n",
       "    <tr>\n",
       "      <th>12325</th>\n",
       "      <td>3.0</td>\n",
       "      <td>0.0</td>\n",
       "      <td>53.0</td>\n",
       "      <td>0.029031</td>\n",
       "      <td>12.241717</td>\n",
       "      <td>0.0</td>\n",
       "      <td>1</td>\n",
       "      <td>0</td>\n",
       "      <td>0</td>\n",
       "      <td>2</td>\n",
       "      <td>1</td>\n",
       "      <td>0</td>\n",
       "    </tr>\n",
       "    <tr>\n",
       "      <th>12326</th>\n",
       "      <td>0.0</td>\n",
       "      <td>0.0</td>\n",
       "      <td>5.0</td>\n",
       "      <td>0.021333</td>\n",
       "      <td>0.000000</td>\n",
       "      <td>0.0</td>\n",
       "      <td>7</td>\n",
       "      <td>0</td>\n",
       "      <td>7</td>\n",
       "      <td>2</td>\n",
       "      <td>1</td>\n",
       "      <td>0</td>\n",
       "    </tr>\n",
       "    <tr>\n",
       "      <th>12327</th>\n",
       "      <td>0.0</td>\n",
       "      <td>0.0</td>\n",
       "      <td>6.0</td>\n",
       "      <td>0.086667</td>\n",
       "      <td>0.000000</td>\n",
       "      <td>0.0</td>\n",
       "      <td>7</td>\n",
       "      <td>0</td>\n",
       "      <td>12</td>\n",
       "      <td>2</td>\n",
       "      <td>1</td>\n",
       "      <td>0</td>\n",
       "    </tr>\n",
       "    <tr>\n",
       "      <th>12328</th>\n",
       "      <td>4.0</td>\n",
       "      <td>0.0</td>\n",
       "      <td>15.0</td>\n",
       "      <td>0.021053</td>\n",
       "      <td>0.000000</td>\n",
       "      <td>0.0</td>\n",
       "      <td>7</td>\n",
       "      <td>2</td>\n",
       "      <td>10</td>\n",
       "      <td>2</td>\n",
       "      <td>0</td>\n",
       "      <td>0</td>\n",
       "    </tr>\n",
       "    <tr>\n",
       "      <th>12329</th>\n",
       "      <td>0.0</td>\n",
       "      <td>0.0</td>\n",
       "      <td>3.0</td>\n",
       "      <td>0.066667</td>\n",
       "      <td>0.000000</td>\n",
       "      <td>0.0</td>\n",
       "      <td>7</td>\n",
       "      <td>0</td>\n",
       "      <td>1</td>\n",
       "      <td>0</td>\n",
       "      <td>1</td>\n",
       "      <td>0</td>\n",
       "    </tr>\n",
       "  </tbody>\n",
       "</table>\n",
       "<p>12330 rows × 12 columns</p>\n",
       "</div>"
      ],
      "text/plain": [
       "       Administrative  Informational  ProductRelated  ExitRates  PageValues  \\\n",
       "0                 0.0            0.0             1.0   0.200000    0.000000   \n",
       "1                 0.0            0.0             2.0   0.100000    0.000000   \n",
       "2                 0.0            0.0             1.0   0.200000    0.000000   \n",
       "3                 0.0            0.0             2.0   0.140000    0.000000   \n",
       "4                 0.0            0.0            10.0   0.050000    0.000000   \n",
       "...               ...            ...             ...        ...         ...   \n",
       "12325             3.0            0.0            53.0   0.029031   12.241717   \n",
       "12326             0.0            0.0             5.0   0.021333    0.000000   \n",
       "12327             0.0            0.0             6.0   0.086667    0.000000   \n",
       "12328             4.0            0.0            15.0   0.021053    0.000000   \n",
       "12329             0.0            0.0             3.0   0.066667    0.000000   \n",
       "\n",
       "       SpecialDay  Month  Region  TrafficType  VisitorType  Weekend  Revenue  \n",
       "0             0.0      2       0            0            2        0        0  \n",
       "1             0.0      2       0            1            2        0        0  \n",
       "2             0.0      2       8            2            2        0        0  \n",
       "3             0.0      2       1            3            2        0        0  \n",
       "4             0.0      2       0            3            2        1        0  \n",
       "...           ...    ...     ...          ...          ...      ...      ...  \n",
       "12325         0.0      1       0            0            2        1        0  \n",
       "12326         0.0      7       0            7            2        1        0  \n",
       "12327         0.0      7       0           12            2        1        0  \n",
       "12328         0.0      7       2           10            2        0        0  \n",
       "12329         0.0      7       0            1            0        1        0  \n",
       "\n",
       "[12330 rows x 12 columns]"
      ]
     },
     "execution_count": 118,
     "metadata": {},
     "output_type": "execute_result"
    }
   ],
   "source": [
    "dfg"
   ]
  },
  {
   "cell_type": "code",
   "execution_count": 119,
   "metadata": {},
   "outputs": [
    {
     "data": {
      "text/html": [
       "<div>\n",
       "<style scoped>\n",
       "    .dataframe tbody tr th:only-of-type {\n",
       "        vertical-align: middle;\n",
       "    }\n",
       "\n",
       "    .dataframe tbody tr th {\n",
       "        vertical-align: top;\n",
       "    }\n",
       "\n",
       "    .dataframe thead th {\n",
       "        text-align: right;\n",
       "    }\n",
       "</style>\n",
       "<table border=\"1\" class=\"dataframe\">\n",
       "  <thead>\n",
       "    <tr style=\"text-align: right;\">\n",
       "      <th></th>\n",
       "      <th>Administrative</th>\n",
       "      <th>Informational</th>\n",
       "      <th>ProductRelated</th>\n",
       "      <th>ExitRates</th>\n",
       "      <th>PageValues</th>\n",
       "      <th>SpecialDay</th>\n",
       "      <th>Month</th>\n",
       "      <th>Region</th>\n",
       "      <th>TrafficType</th>\n",
       "      <th>VisitorType</th>\n",
       "      <th>Weekend</th>\n",
       "      <th>Revenue</th>\n",
       "    </tr>\n",
       "  </thead>\n",
       "  <tbody>\n",
       "    <tr>\n",
       "      <th>0</th>\n",
       "      <td>0.0</td>\n",
       "      <td>0.0</td>\n",
       "      <td>1.0</td>\n",
       "      <td>0.200000</td>\n",
       "      <td>0.000000</td>\n",
       "      <td>0.0</td>\n",
       "      <td>Feb</td>\n",
       "      <td>1</td>\n",
       "      <td>1</td>\n",
       "      <td>Returning_Visitor</td>\n",
       "      <td>False</td>\n",
       "      <td>False</td>\n",
       "    </tr>\n",
       "    <tr>\n",
       "      <th>1</th>\n",
       "      <td>0.0</td>\n",
       "      <td>0.0</td>\n",
       "      <td>2.0</td>\n",
       "      <td>0.100000</td>\n",
       "      <td>0.000000</td>\n",
       "      <td>0.0</td>\n",
       "      <td>Feb</td>\n",
       "      <td>1</td>\n",
       "      <td>2</td>\n",
       "      <td>Returning_Visitor</td>\n",
       "      <td>False</td>\n",
       "      <td>False</td>\n",
       "    </tr>\n",
       "    <tr>\n",
       "      <th>2</th>\n",
       "      <td>0.0</td>\n",
       "      <td>0.0</td>\n",
       "      <td>1.0</td>\n",
       "      <td>0.200000</td>\n",
       "      <td>0.000000</td>\n",
       "      <td>0.0</td>\n",
       "      <td>Feb</td>\n",
       "      <td>9</td>\n",
       "      <td>3</td>\n",
       "      <td>Returning_Visitor</td>\n",
       "      <td>False</td>\n",
       "      <td>False</td>\n",
       "    </tr>\n",
       "    <tr>\n",
       "      <th>3</th>\n",
       "      <td>0.0</td>\n",
       "      <td>0.0</td>\n",
       "      <td>2.0</td>\n",
       "      <td>0.140000</td>\n",
       "      <td>0.000000</td>\n",
       "      <td>0.0</td>\n",
       "      <td>Feb</td>\n",
       "      <td>2</td>\n",
       "      <td>4</td>\n",
       "      <td>Returning_Visitor</td>\n",
       "      <td>False</td>\n",
       "      <td>False</td>\n",
       "    </tr>\n",
       "    <tr>\n",
       "      <th>4</th>\n",
       "      <td>0.0</td>\n",
       "      <td>0.0</td>\n",
       "      <td>10.0</td>\n",
       "      <td>0.050000</td>\n",
       "      <td>0.000000</td>\n",
       "      <td>0.0</td>\n",
       "      <td>Feb</td>\n",
       "      <td>1</td>\n",
       "      <td>4</td>\n",
       "      <td>Returning_Visitor</td>\n",
       "      <td>True</td>\n",
       "      <td>False</td>\n",
       "    </tr>\n",
       "    <tr>\n",
       "      <th>...</th>\n",
       "      <td>...</td>\n",
       "      <td>...</td>\n",
       "      <td>...</td>\n",
       "      <td>...</td>\n",
       "      <td>...</td>\n",
       "      <td>...</td>\n",
       "      <td>...</td>\n",
       "      <td>...</td>\n",
       "      <td>...</td>\n",
       "      <td>...</td>\n",
       "      <td>...</td>\n",
       "      <td>...</td>\n",
       "    </tr>\n",
       "    <tr>\n",
       "      <th>12325</th>\n",
       "      <td>3.0</td>\n",
       "      <td>0.0</td>\n",
       "      <td>53.0</td>\n",
       "      <td>0.029031</td>\n",
       "      <td>12.241717</td>\n",
       "      <td>0.0</td>\n",
       "      <td>Dec</td>\n",
       "      <td>1</td>\n",
       "      <td>1</td>\n",
       "      <td>Returning_Visitor</td>\n",
       "      <td>True</td>\n",
       "      <td>False</td>\n",
       "    </tr>\n",
       "    <tr>\n",
       "      <th>12326</th>\n",
       "      <td>0.0</td>\n",
       "      <td>0.0</td>\n",
       "      <td>5.0</td>\n",
       "      <td>0.021333</td>\n",
       "      <td>0.000000</td>\n",
       "      <td>0.0</td>\n",
       "      <td>Nov</td>\n",
       "      <td>1</td>\n",
       "      <td>8</td>\n",
       "      <td>Returning_Visitor</td>\n",
       "      <td>True</td>\n",
       "      <td>False</td>\n",
       "    </tr>\n",
       "    <tr>\n",
       "      <th>12327</th>\n",
       "      <td>0.0</td>\n",
       "      <td>0.0</td>\n",
       "      <td>6.0</td>\n",
       "      <td>0.086667</td>\n",
       "      <td>0.000000</td>\n",
       "      <td>0.0</td>\n",
       "      <td>Nov</td>\n",
       "      <td>1</td>\n",
       "      <td>13</td>\n",
       "      <td>Returning_Visitor</td>\n",
       "      <td>True</td>\n",
       "      <td>False</td>\n",
       "    </tr>\n",
       "    <tr>\n",
       "      <th>12328</th>\n",
       "      <td>4.0</td>\n",
       "      <td>0.0</td>\n",
       "      <td>15.0</td>\n",
       "      <td>0.021053</td>\n",
       "      <td>0.000000</td>\n",
       "      <td>0.0</td>\n",
       "      <td>Nov</td>\n",
       "      <td>3</td>\n",
       "      <td>11</td>\n",
       "      <td>Returning_Visitor</td>\n",
       "      <td>False</td>\n",
       "      <td>False</td>\n",
       "    </tr>\n",
       "    <tr>\n",
       "      <th>12329</th>\n",
       "      <td>0.0</td>\n",
       "      <td>0.0</td>\n",
       "      <td>3.0</td>\n",
       "      <td>0.066667</td>\n",
       "      <td>0.000000</td>\n",
       "      <td>0.0</td>\n",
       "      <td>Nov</td>\n",
       "      <td>1</td>\n",
       "      <td>2</td>\n",
       "      <td>New_Visitor</td>\n",
       "      <td>True</td>\n",
       "      <td>False</td>\n",
       "    </tr>\n",
       "  </tbody>\n",
       "</table>\n",
       "<p>12330 rows × 12 columns</p>\n",
       "</div>"
      ],
      "text/plain": [
       "       Administrative  Informational  ProductRelated  ExitRates  PageValues  \\\n",
       "0                 0.0            0.0             1.0   0.200000    0.000000   \n",
       "1                 0.0            0.0             2.0   0.100000    0.000000   \n",
       "2                 0.0            0.0             1.0   0.200000    0.000000   \n",
       "3                 0.0            0.0             2.0   0.140000    0.000000   \n",
       "4                 0.0            0.0            10.0   0.050000    0.000000   \n",
       "...               ...            ...             ...        ...         ...   \n",
       "12325             3.0            0.0            53.0   0.029031   12.241717   \n",
       "12326             0.0            0.0             5.0   0.021333    0.000000   \n",
       "12327             0.0            0.0             6.0   0.086667    0.000000   \n",
       "12328             4.0            0.0            15.0   0.021053    0.000000   \n",
       "12329             0.0            0.0             3.0   0.066667    0.000000   \n",
       "\n",
       "       SpecialDay Month  Region  TrafficType        VisitorType  Weekend  \\\n",
       "0             0.0   Feb       1            1  Returning_Visitor    False   \n",
       "1             0.0   Feb       1            2  Returning_Visitor    False   \n",
       "2             0.0   Feb       9            3  Returning_Visitor    False   \n",
       "3             0.0   Feb       2            4  Returning_Visitor    False   \n",
       "4             0.0   Feb       1            4  Returning_Visitor     True   \n",
       "...           ...   ...     ...          ...                ...      ...   \n",
       "12325         0.0   Dec       1            1  Returning_Visitor     True   \n",
       "12326         0.0   Nov       1            8  Returning_Visitor     True   \n",
       "12327         0.0   Nov       1           13  Returning_Visitor     True   \n",
       "12328         0.0   Nov       3           11  Returning_Visitor    False   \n",
       "12329         0.0   Nov       1            2        New_Visitor     True   \n",
       "\n",
       "       Revenue  \n",
       "0        False  \n",
       "1        False  \n",
       "2        False  \n",
       "3        False  \n",
       "4        False  \n",
       "...        ...  \n",
       "12325    False  \n",
       "12326    False  \n",
       "12327    False  \n",
       "12328    False  \n",
       "12329    False  \n",
       "\n",
       "[12330 rows x 12 columns]"
      ]
     },
     "execution_count": 119,
     "metadata": {},
     "output_type": "execute_result"
    }
   ],
   "source": [
    "dfm"
   ]
  },
  {
   "cell_type": "code",
   "execution_count": 120,
   "metadata": {},
   "outputs": [
    {
     "name": "stdout",
     "output_type": "stream",
     "text": [
      "SpecialDay\n"
     ]
    },
    {
     "data": {
      "text/plain": [
       "array([0. , 0.4, 0.8, 1. , 0.2, 0.6])"
      ]
     },
     "metadata": {},
     "output_type": "display_data"
    },
    {
     "data": {
      "text/plain": [
       "array([0. , 0.4, 0.8, 1. , 0.2, 0.6])"
      ]
     },
     "metadata": {},
     "output_type": "display_data"
    },
    {
     "name": "stdout",
     "output_type": "stream",
     "text": [
      "\n",
      "Month\n"
     ]
    },
    {
     "data": {
      "text/plain": [
       "array([2, 5, 6, 8, 4, 3, 0, 7, 9, 1])"
      ]
     },
     "metadata": {},
     "output_type": "display_data"
    },
    {
     "data": {
      "text/plain": [
       "array(['Feb', 'Mar', 'May', 'Oct', 'June', 'Jul', 'Aug', 'Nov', 'Sep',\n",
       "       'Dec'], dtype=object)"
      ]
     },
     "metadata": {},
     "output_type": "display_data"
    },
    {
     "name": "stdout",
     "output_type": "stream",
     "text": [
      "\n",
      "Region\n"
     ]
    },
    {
     "data": {
      "text/plain": [
       "array([0, 8, 1, 2, 3, 4, 5, 6, 7], dtype=int64)"
      ]
     },
     "metadata": {},
     "output_type": "display_data"
    },
    {
     "data": {
      "text/plain": [
       "array([1, 9, 2, 3, 4, 5, 6, 7, 8], dtype=int64)"
      ]
     },
     "metadata": {},
     "output_type": "display_data"
    },
    {
     "name": "stdout",
     "output_type": "stream",
     "text": [
      "\n",
      "TrafficType\n"
     ]
    },
    {
     "data": {
      "text/plain": [
       "array([ 0,  1,  2,  3,  4,  5,  6,  7,  8,  9, 10, 11, 12, 13, 14, 17, 18,\n",
       "       15, 16, 19], dtype=int64)"
      ]
     },
     "metadata": {},
     "output_type": "display_data"
    },
    {
     "data": {
      "text/plain": [
       "array([ 1,  2,  3,  4,  5,  6,  7,  8,  9, 10, 11, 12, 13, 14, 15, 18, 19,\n",
       "       16, 17, 20], dtype=int64)"
      ]
     },
     "metadata": {},
     "output_type": "display_data"
    },
    {
     "name": "stdout",
     "output_type": "stream",
     "text": [
      "\n",
      "VisitorType\n"
     ]
    },
    {
     "data": {
      "text/plain": [
       "array([2, 0, 1])"
      ]
     },
     "metadata": {},
     "output_type": "display_data"
    },
    {
     "data": {
      "text/plain": [
       "array(['Returning_Visitor', 'New_Visitor', 'Other'], dtype=object)"
      ]
     },
     "metadata": {},
     "output_type": "display_data"
    },
    {
     "name": "stdout",
     "output_type": "stream",
     "text": [
      "\n",
      "Weekend\n"
     ]
    },
    {
     "data": {
      "text/plain": [
       "array([0, 1], dtype=int64)"
      ]
     },
     "metadata": {},
     "output_type": "display_data"
    },
    {
     "data": {
      "text/plain": [
       "array([False,  True])"
      ]
     },
     "metadata": {},
     "output_type": "display_data"
    },
    {
     "name": "stdout",
     "output_type": "stream",
     "text": [
      "\n",
      "Revenue\n"
     ]
    },
    {
     "data": {
      "text/plain": [
       "array([0, 1], dtype=int64)"
      ]
     },
     "metadata": {},
     "output_type": "display_data"
    },
    {
     "data": {
      "text/plain": [
       "array([False,  True])"
      ]
     },
     "metadata": {},
     "output_type": "display_data"
    },
    {
     "name": "stdout",
     "output_type": "stream",
     "text": [
      "\n"
     ]
    }
   ],
   "source": [
    "col_encoded = ['SpecialDay', 'Month', 'Region', 'TrafficType', 'VisitorType', 'Weekend', 'Revenue']\n",
    "for i in col_encoded:\n",
    "    print(i)\n",
    "    display(dfg[i].unique())\n",
    "    display(dfm[i].unique())\n",
    "    print('')"
   ]
  },
  {
   "cell_type": "code",
   "execution_count": 121,
   "metadata": {},
   "outputs": [
    {
     "data": {
      "text/html": [
       "<div>\n",
       "<style scoped>\n",
       "    .dataframe tbody tr th:only-of-type {\n",
       "        vertical-align: middle;\n",
       "    }\n",
       "\n",
       "    .dataframe tbody tr th {\n",
       "        vertical-align: top;\n",
       "    }\n",
       "\n",
       "    .dataframe thead th {\n",
       "        text-align: right;\n",
       "    }\n",
       "</style>\n",
       "<table border=\"1\" class=\"dataframe\">\n",
       "  <thead>\n",
       "    <tr style=\"text-align: right;\">\n",
       "      <th></th>\n",
       "      <th>Administrative</th>\n",
       "      <th>Informational</th>\n",
       "      <th>ProductRelated</th>\n",
       "      <th>ExitRates</th>\n",
       "      <th>PageValues</th>\n",
       "      <th>SpecialDay</th>\n",
       "      <th>Month</th>\n",
       "      <th>Region</th>\n",
       "      <th>TrafficType</th>\n",
       "      <th>VisitorType</th>\n",
       "      <th>Weekend</th>\n",
       "    </tr>\n",
       "  </thead>\n",
       "  <tbody>\n",
       "    <tr>\n",
       "      <th>5487</th>\n",
       "      <td>0.0</td>\n",
       "      <td>0.0</td>\n",
       "      <td>1.0</td>\n",
       "      <td>0.200000</td>\n",
       "      <td>0.000000</td>\n",
       "      <td>0.0</td>\n",
       "      <td>3</td>\n",
       "      <td>1</td>\n",
       "      <td>4</td>\n",
       "      <td>0</td>\n",
       "      <td>1</td>\n",
       "    </tr>\n",
       "    <tr>\n",
       "      <th>7736</th>\n",
       "      <td>5.0</td>\n",
       "      <td>0.0</td>\n",
       "      <td>34.0</td>\n",
       "      <td>0.030247</td>\n",
       "      <td>8.041078</td>\n",
       "      <td>0.0</td>\n",
       "      <td>0</td>\n",
       "      <td>0</td>\n",
       "      <td>0</td>\n",
       "      <td>2</td>\n",
       "      <td>0</td>\n",
       "    </tr>\n",
       "    <tr>\n",
       "      <th>5310</th>\n",
       "      <td>0.0</td>\n",
       "      <td>0.0</td>\n",
       "      <td>2.0</td>\n",
       "      <td>0.050000</td>\n",
       "      <td>0.000000</td>\n",
       "      <td>0.0</td>\n",
       "      <td>6</td>\n",
       "      <td>0</td>\n",
       "      <td>2</td>\n",
       "      <td>2</td>\n",
       "      <td>0</td>\n",
       "    </tr>\n",
       "    <tr>\n",
       "      <th>2982</th>\n",
       "      <td>2.0</td>\n",
       "      <td>0.0</td>\n",
       "      <td>20.0</td>\n",
       "      <td>0.003333</td>\n",
       "      <td>0.000000</td>\n",
       "      <td>0.0</td>\n",
       "      <td>6</td>\n",
       "      <td>0</td>\n",
       "      <td>1</td>\n",
       "      <td>2</td>\n",
       "      <td>1</td>\n",
       "    </tr>\n",
       "    <tr>\n",
       "      <th>662</th>\n",
       "      <td>4.0</td>\n",
       "      <td>0.0</td>\n",
       "      <td>8.0</td>\n",
       "      <td>0.010000</td>\n",
       "      <td>0.000000</td>\n",
       "      <td>0.0</td>\n",
       "      <td>5</td>\n",
       "      <td>0</td>\n",
       "      <td>7</td>\n",
       "      <td>0</td>\n",
       "      <td>1</td>\n",
       "    </tr>\n",
       "    <tr>\n",
       "      <th>...</th>\n",
       "      <td>...</td>\n",
       "      <td>...</td>\n",
       "      <td>...</td>\n",
       "      <td>...</td>\n",
       "      <td>...</td>\n",
       "      <td>...</td>\n",
       "      <td>...</td>\n",
       "      <td>...</td>\n",
       "      <td>...</td>\n",
       "      <td>...</td>\n",
       "      <td>...</td>\n",
       "    </tr>\n",
       "    <tr>\n",
       "      <th>6688</th>\n",
       "      <td>3.0</td>\n",
       "      <td>0.0</td>\n",
       "      <td>11.0</td>\n",
       "      <td>0.004444</td>\n",
       "      <td>0.000000</td>\n",
       "      <td>0.0</td>\n",
       "      <td>3</td>\n",
       "      <td>0</td>\n",
       "      <td>2</td>\n",
       "      <td>0</td>\n",
       "      <td>0</td>\n",
       "    </tr>\n",
       "    <tr>\n",
       "      <th>1305</th>\n",
       "      <td>0.0</td>\n",
       "      <td>0.0</td>\n",
       "      <td>5.0</td>\n",
       "      <td>0.160000</td>\n",
       "      <td>0.000000</td>\n",
       "      <td>0.0</td>\n",
       "      <td>5</td>\n",
       "      <td>0</td>\n",
       "      <td>0</td>\n",
       "      <td>2</td>\n",
       "      <td>0</td>\n",
       "    </tr>\n",
       "    <tr>\n",
       "      <th>4434</th>\n",
       "      <td>3.0</td>\n",
       "      <td>0.0</td>\n",
       "      <td>37.0</td>\n",
       "      <td>0.030511</td>\n",
       "      <td>7.941532</td>\n",
       "      <td>0.0</td>\n",
       "      <td>6</td>\n",
       "      <td>0</td>\n",
       "      <td>1</td>\n",
       "      <td>2</td>\n",
       "      <td>0</td>\n",
       "    </tr>\n",
       "    <tr>\n",
       "      <th>9358</th>\n",
       "      <td>0.0</td>\n",
       "      <td>0.0</td>\n",
       "      <td>10.0</td>\n",
       "      <td>0.050000</td>\n",
       "      <td>0.000000</td>\n",
       "      <td>0.0</td>\n",
       "      <td>7</td>\n",
       "      <td>8</td>\n",
       "      <td>1</td>\n",
       "      <td>0</td>\n",
       "      <td>1</td>\n",
       "    </tr>\n",
       "    <tr>\n",
       "      <th>5424</th>\n",
       "      <td>1.0</td>\n",
       "      <td>0.0</td>\n",
       "      <td>36.0</td>\n",
       "      <td>0.005882</td>\n",
       "      <td>0.000000</td>\n",
       "      <td>0.0</td>\n",
       "      <td>6</td>\n",
       "      <td>5</td>\n",
       "      <td>2</td>\n",
       "      <td>2</td>\n",
       "      <td>0</td>\n",
       "    </tr>\n",
       "  </tbody>\n",
       "</table>\n",
       "<p>2466 rows × 11 columns</p>\n",
       "</div>"
      ],
      "text/plain": [
       "      Administrative  Informational  ProductRelated  ExitRates  PageValues  \\\n",
       "5487             0.0            0.0             1.0   0.200000    0.000000   \n",
       "7736             5.0            0.0            34.0   0.030247    8.041078   \n",
       "5310             0.0            0.0             2.0   0.050000    0.000000   \n",
       "2982             2.0            0.0            20.0   0.003333    0.000000   \n",
       "662              4.0            0.0             8.0   0.010000    0.000000   \n",
       "...              ...            ...             ...        ...         ...   \n",
       "6688             3.0            0.0            11.0   0.004444    0.000000   \n",
       "1305             0.0            0.0             5.0   0.160000    0.000000   \n",
       "4434             3.0            0.0            37.0   0.030511    7.941532   \n",
       "9358             0.0            0.0            10.0   0.050000    0.000000   \n",
       "5424             1.0            0.0            36.0   0.005882    0.000000   \n",
       "\n",
       "      SpecialDay  Month  Region  TrafficType  VisitorType  Weekend  \n",
       "5487         0.0      3       1            4            0        1  \n",
       "7736         0.0      0       0            0            2        0  \n",
       "5310         0.0      6       0            2            2        0  \n",
       "2982         0.0      6       0            1            2        1  \n",
       "662          0.0      5       0            7            0        1  \n",
       "...          ...    ...     ...          ...          ...      ...  \n",
       "6688         0.0      3       0            2            0        0  \n",
       "1305         0.0      5       0            0            2        0  \n",
       "4434         0.0      6       0            1            2        0  \n",
       "9358         0.0      7       8            1            0        1  \n",
       "5424         0.0      6       5            2            2        0  \n",
       "\n",
       "[2466 rows x 11 columns]"
      ]
     },
     "metadata": {},
     "output_type": "display_data"
    },
    {
     "data": {
      "text/plain": [
       "5487    0\n",
       "7736    1\n",
       "5310    0\n",
       "2982    0\n",
       "662     0\n",
       "       ..\n",
       "6688    0\n",
       "1305    0\n",
       "4434    0\n",
       "9358    0\n",
       "5424    0\n",
       "Name: Revenue, Length: 2466, dtype: int64"
      ]
     },
     "metadata": {},
     "output_type": "display_data"
    }
   ],
   "source": [
    "display(X_test)\n",
    "display(y_test)"
   ]
  },
  {
   "cell_type": "code",
   "execution_count": 122,
   "metadata": {},
   "outputs": [
    {
     "data": {
      "text/plain": [
       "7736    1\n",
       "6711    1\n",
       "2012    1\n",
       "7166    1\n",
       "1941    1\n",
       "       ..\n",
       "8328    1\n",
       "6025    1\n",
       "1519    1\n",
       "399     1\n",
       "9223    1\n",
       "Name: Revenue, Length: 351, dtype: int64"
      ]
     },
     "execution_count": 122,
     "metadata": {},
     "output_type": "execute_result"
    }
   ],
   "source": [
    "y_test[y_test==1]"
   ]
  },
  {
   "cell_type": "code",
   "execution_count": 123,
   "metadata": {},
   "outputs": [
    {
     "data": {
      "text/html": [
       "<div>\n",
       "<style scoped>\n",
       "    .dataframe tbody tr th:only-of-type {\n",
       "        vertical-align: middle;\n",
       "    }\n",
       "\n",
       "    .dataframe tbody tr th {\n",
       "        vertical-align: top;\n",
       "    }\n",
       "\n",
       "    .dataframe thead th {\n",
       "        text-align: right;\n",
       "    }\n",
       "</style>\n",
       "<table border=\"1\" class=\"dataframe\">\n",
       "  <thead>\n",
       "    <tr style=\"text-align: right;\">\n",
       "      <th></th>\n",
       "      <th>Administrative</th>\n",
       "      <th>Informational</th>\n",
       "      <th>ProductRelated</th>\n",
       "      <th>ExitRates</th>\n",
       "      <th>PageValues</th>\n",
       "      <th>SpecialDay</th>\n",
       "      <th>Month</th>\n",
       "      <th>Region</th>\n",
       "      <th>TrafficType</th>\n",
       "      <th>VisitorType</th>\n",
       "      <th>Weekend</th>\n",
       "    </tr>\n",
       "  </thead>\n",
       "  <tbody>\n",
       "    <tr>\n",
       "      <th>1941</th>\n",
       "      <td>0.0</td>\n",
       "      <td>0.0</td>\n",
       "      <td>10.0</td>\n",
       "      <td>0.022222</td>\n",
       "      <td>88.784606</td>\n",
       "      <td>0.0</td>\n",
       "      <td>5</td>\n",
       "      <td>0</td>\n",
       "      <td>1</td>\n",
       "      <td>2</td>\n",
       "      <td>0</td>\n",
       "    </tr>\n",
       "  </tbody>\n",
       "</table>\n",
       "</div>"
      ],
      "text/plain": [
       "      Administrative  Informational  ProductRelated  ExitRates  PageValues  \\\n",
       "1941             0.0            0.0            10.0   0.022222   88.784606   \n",
       "\n",
       "      SpecialDay  Month  Region  TrafficType  VisitorType  Weekend  \n",
       "1941         0.0      5       0            1            2        0  "
      ]
     },
     "execution_count": 123,
     "metadata": {},
     "output_type": "execute_result"
    }
   ],
   "source": [
    "X_test.loc[[1941]]"
   ]
  },
  {
   "cell_type": "code",
   "execution_count": 124,
   "metadata": {},
   "outputs": [
    {
     "data": {
      "text/html": [
       "<div>\n",
       "<style scoped>\n",
       "    .dataframe tbody tr th:only-of-type {\n",
       "        vertical-align: middle;\n",
       "    }\n",
       "\n",
       "    .dataframe tbody tr th {\n",
       "        vertical-align: top;\n",
       "    }\n",
       "\n",
       "    .dataframe thead th {\n",
       "        text-align: right;\n",
       "    }\n",
       "</style>\n",
       "<table border=\"1\" class=\"dataframe\">\n",
       "  <thead>\n",
       "    <tr style=\"text-align: right;\">\n",
       "      <th></th>\n",
       "      <th>Administrative</th>\n",
       "      <th>Administrative_Duration</th>\n",
       "      <th>Informational</th>\n",
       "      <th>Informational_Duration</th>\n",
       "      <th>ProductRelated</th>\n",
       "      <th>ProductRelated_Duration</th>\n",
       "      <th>BounceRates</th>\n",
       "      <th>ExitRates</th>\n",
       "      <th>PageValues</th>\n",
       "      <th>SpecialDay</th>\n",
       "      <th>Month</th>\n",
       "      <th>OperatingSystems</th>\n",
       "      <th>Browser</th>\n",
       "      <th>Region</th>\n",
       "      <th>TrafficType</th>\n",
       "      <th>VisitorType</th>\n",
       "      <th>Weekend</th>\n",
       "      <th>Revenue</th>\n",
       "    </tr>\n",
       "  </thead>\n",
       "  <tbody>\n",
       "    <tr>\n",
       "      <th>1941</th>\n",
       "      <td>0.0</td>\n",
       "      <td>0.0</td>\n",
       "      <td>0.0</td>\n",
       "      <td>0.0</td>\n",
       "      <td>10.0</td>\n",
       "      <td>408.0</td>\n",
       "      <td>0.0</td>\n",
       "      <td>0.022222</td>\n",
       "      <td>88.784606</td>\n",
       "      <td>0.0</td>\n",
       "      <td>Mar</td>\n",
       "      <td>2</td>\n",
       "      <td>2</td>\n",
       "      <td>1</td>\n",
       "      <td>2</td>\n",
       "      <td>Returning_Visitor</td>\n",
       "      <td>False</td>\n",
       "      <td>True</td>\n",
       "    </tr>\n",
       "  </tbody>\n",
       "</table>\n",
       "</div>"
      ],
      "text/plain": [
       "      Administrative  Administrative_Duration  Informational  \\\n",
       "1941             0.0                      0.0            0.0   \n",
       "\n",
       "      Informational_Duration  ProductRelated  ProductRelated_Duration  \\\n",
       "1941                     0.0            10.0                    408.0   \n",
       "\n",
       "      BounceRates  ExitRates  PageValues  SpecialDay Month  OperatingSystems  \\\n",
       "1941          0.0   0.022222   88.784606         0.0   Mar                 2   \n",
       "\n",
       "      Browser  Region  TrafficType        VisitorType  Weekend  Revenue  \n",
       "1941        2       1            2  Returning_Visitor    False     True  "
      ]
     },
     "execution_count": 124,
     "metadata": {},
     "output_type": "execute_result"
    }
   ],
   "source": [
    "olshop_df2.loc[[1941]]"
   ]
  },
  {
   "cell_type": "code",
   "execution_count": 125,
   "metadata": {},
   "outputs": [
    {
     "data": {
      "text/plain": [
       "array([1], dtype=int64)"
      ]
     },
     "execution_count": 125,
     "metadata": {},
     "output_type": "execute_result"
    }
   ],
   "source": [
    "rfc.predict(X_test.loc[[1941]])"
   ]
  },
  {
   "cell_type": "code",
   "execution_count": 126,
   "metadata": {},
   "outputs": [
    {
     "data": {
      "text/plain": [
       "0.95"
      ]
     },
     "execution_count": 126,
     "metadata": {},
     "output_type": "execute_result"
    }
   ],
   "source": [
    "pred_proba = rfc.predict_proba(X_test.loc[[1941]])\n",
    "pred_proba[0][1]"
   ]
  },
  {
   "cell_type": "code",
   "execution_count": 127,
   "metadata": {},
   "outputs": [
    {
     "data": {
      "text/plain": [
       "'95.0% REVENUE'"
      ]
     },
     "execution_count": 127,
     "metadata": {},
     "output_type": "execute_result"
    }
   ],
   "source": [
    "# pred_proba = rfc.predict_proba([feature])\n",
    "rfc_pred_thres_custom = 0 if pred_proba[0][1] < 0.62 else 1\n",
    "pred = 'REVENUE' if rfc_pred_thres_custom == 1 else 'NO REVENUE'\n",
    "proba = pred_proba[0][0] if pred == 'NO REVENUE' else pred_proba[0][1]\n",
    "endresult = f\"{round(proba*100,4)}% {pred}\"\n",
    "endresult"
   ]
  }
 ],
 "metadata": {
  "kernelspec": {
   "display_name": "Python 3",
   "language": "python",
   "name": "python3"
  },
  "language_info": {
   "codemirror_mode": {
    "name": "ipython",
    "version": 3
   },
   "file_extension": ".py",
   "mimetype": "text/x-python",
   "name": "python",
   "nbconvert_exporter": "python",
   "pygments_lexer": "ipython3",
   "version": "3.7.6"
  }
 },
 "nbformat": 4,
 "nbformat_minor": 4
}
